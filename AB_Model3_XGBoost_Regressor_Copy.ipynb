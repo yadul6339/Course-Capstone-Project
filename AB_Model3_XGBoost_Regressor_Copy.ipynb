{
  "nbformat": 4,
  "nbformat_minor": 0,
  "metadata": {
    "accelerator": "GPU",
    "colab": {
      "name": "AB- Model3_XGBoost_Regressor- Copy.ipynb",
      "provenance": [],
      "collapsed_sections": []
    },
    "kernelspec": {
      "display_name": "Python 3",
      "language": "python",
      "name": "python3"
    },
    "language_info": {
      "codemirror_mode": {
        "name": "ipython",
        "version": 3
      },
      "file_extension": ".py",
      "mimetype": "text/x-python",
      "name": "python",
      "nbconvert_exporter": "python",
      "pygments_lexer": "ipython3",
      "version": "3.8.5"
    }
  },
  "cells": [
    {
      "cell_type": "code",
      "metadata": {
        "id": "1Sp1YAwNHp_q"
      },
      "source": [
        "import numpy as np\n",
        "import pandas as pd\n",
        "import matplotlib.pyplot as plt\n",
        "import seaborn as sns\n",
        "\n",
        "import warnings\n",
        "warnings.filterwarnings('ignore')"
      ],
      "execution_count": null,
      "outputs": []
    },
    {
      "cell_type": "code",
      "metadata": {
        "colab": {
          "resources": {
            "http://localhost:8080/nbextensions/google.colab/files.js": {
              "data": "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",
              "ok": true,
              "headers": [
                [
                  "content-type",
                  "application/javascript"
                ]
              ],
              "status": 200,
              "status_text": ""
            }
          },
          "base_uri": "https://localhost:8080/",
          "height": 108
        },
        "id": "Ps8e8FVtH6UI",
        "outputId": "590b8a66-6278-4c54-805f-cf4530db5dbc"
      },
      "source": [
        "from google.colab import files\n",
        "uploaded = files.upload()"
      ],
      "execution_count": null,
      "outputs": [
        {
          "output_type": "display_data",
          "data": {
            "text/html": [
              "\n",
              "     <input type=\"file\" id=\"files-90557653-99d4-4f0a-aeb9-c174f99695d0\" name=\"files[]\" multiple disabled\n",
              "        style=\"border:none\" />\n",
              "     <output id=\"result-90557653-99d4-4f0a-aeb9-c174f99695d0\">\n",
              "      Upload widget is only available when the cell has been executed in the\n",
              "      current browser session. Please rerun this cell to enable.\n",
              "      </output>\n",
              "      <script src=\"/nbextensions/google.colab/files.js\"></script> "
            ],
            "text/plain": [
              "<IPython.core.display.HTML object>"
            ]
          },
          "metadata": {
            "tags": []
          }
        },
        {
          "output_type": "stream",
          "text": [
            "Saving Test_NY_cleaned.csv to Test_NY_cleaned (1).csv\n",
            "Saving Train_NY_cleaned.csv to Train_NY_cleaned (1).csv\n"
          ],
          "name": "stdout"
        }
      ]
    },
    {
      "cell_type": "code",
      "metadata": {
        "id": "JAjBx7q2Hp_t"
      },
      "source": [
        "train = pd.read_csv('Train_NY_cleaned.csv')\n",
        "test = pd.read_csv('Test_NY_cleaned.csv')"
      ],
      "execution_count": null,
      "outputs": []
    },
    {
      "cell_type": "code",
      "metadata": {
        "colab": {
          "base_uri": "https://localhost:8080/",
          "height": 203
        },
        "id": "2J7srnGSHp_u",
        "outputId": "aeac0f36-258d-4974-ddca-92854ff7fe64"
      },
      "source": [
        "train.head(3)"
      ],
      "execution_count": null,
      "outputs": [
        {
          "output_type": "execute_result",
          "data": {
            "text/html": [
              "<div>\n",
              "<style scoped>\n",
              "    .dataframe tbody tr th:only-of-type {\n",
              "        vertical-align: middle;\n",
              "    }\n",
              "\n",
              "    .dataframe tbody tr th {\n",
              "        vertical-align: top;\n",
              "    }\n",
              "\n",
              "    .dataframe thead th {\n",
              "        text-align: right;\n",
              "    }\n",
              "</style>\n",
              "<table border=\"1\" class=\"dataframe\">\n",
              "  <thead>\n",
              "    <tr style=\"text-align: right;\">\n",
              "      <th></th>\n",
              "      <th>Unnamed: 0</th>\n",
              "      <th>BOROUGH</th>\n",
              "      <th>NEIGHBORHOOD</th>\n",
              "      <th>BUILDING CLASS CATEGORY</th>\n",
              "      <th>BLOCK</th>\n",
              "      <th>LOT</th>\n",
              "      <th>ZIP CODE</th>\n",
              "      <th>RESIDENTIAL UNITS</th>\n",
              "      <th>TOTAL UNITS</th>\n",
              "      <th>LAND SQUARE FEET</th>\n",
              "      <th>GROSS SQUARE FEET</th>\n",
              "      <th>YEAR BUILT</th>\n",
              "      <th>TAX CLASS AT TIME OF SALE</th>\n",
              "      <th>BUILDING CLASS AT TIME OF SALE</th>\n",
              "      <th>SALE PRICE</th>\n",
              "      <th>SALE DATE</th>\n",
              "    </tr>\n",
              "  </thead>\n",
              "  <tbody>\n",
              "    <tr>\n",
              "      <th>0</th>\n",
              "      <td>0</td>\n",
              "      <td>1</td>\n",
              "      <td>ALPHABET CITY</td>\n",
              "      <td>RENTALS - WALKUP APARTMENTS</td>\n",
              "      <td>392</td>\n",
              "      <td>6</td>\n",
              "      <td>10009</td>\n",
              "      <td>5</td>\n",
              "      <td>5</td>\n",
              "      <td>1633.0</td>\n",
              "      <td>6440.0</td>\n",
              "      <td>1900</td>\n",
              "      <td>2</td>\n",
              "      <td>C2</td>\n",
              "      <td>6625000.0</td>\n",
              "      <td>2017-07-19</td>\n",
              "    </tr>\n",
              "    <tr>\n",
              "      <th>1</th>\n",
              "      <td>3</td>\n",
              "      <td>1</td>\n",
              "      <td>ALPHABET CITY</td>\n",
              "      <td>RENTALS - WALKUP APARTMENTS</td>\n",
              "      <td>402</td>\n",
              "      <td>21</td>\n",
              "      <td>10009</td>\n",
              "      <td>10</td>\n",
              "      <td>10</td>\n",
              "      <td>2272.0</td>\n",
              "      <td>6794.0</td>\n",
              "      <td>1913</td>\n",
              "      <td>2</td>\n",
              "      <td>C4</td>\n",
              "      <td>3936272.0</td>\n",
              "      <td>2016-09-23</td>\n",
              "    </tr>\n",
              "    <tr>\n",
              "      <th>2</th>\n",
              "      <td>4</td>\n",
              "      <td>1</td>\n",
              "      <td>ALPHABET CITY</td>\n",
              "      <td>RENTALS - WALKUP APARTMENTS</td>\n",
              "      <td>404</td>\n",
              "      <td>55</td>\n",
              "      <td>10009</td>\n",
              "      <td>6</td>\n",
              "      <td>6</td>\n",
              "      <td>2369.0</td>\n",
              "      <td>4615.0</td>\n",
              "      <td>1900</td>\n",
              "      <td>2</td>\n",
              "      <td>C2</td>\n",
              "      <td>8000000.0</td>\n",
              "      <td>2016-11-17</td>\n",
              "    </tr>\n",
              "  </tbody>\n",
              "</table>\n",
              "</div>"
            ],
            "text/plain": [
              "   Unnamed: 0  BOROUGH  ... SALE PRICE   SALE DATE\n",
              "0           0        1  ...  6625000.0  2017-07-19\n",
              "1           3        1  ...  3936272.0  2016-09-23\n",
              "2           4        1  ...  8000000.0  2016-11-17\n",
              "\n",
              "[3 rows x 16 columns]"
            ]
          },
          "metadata": {
            "tags": []
          },
          "execution_count": 91
        }
      ]
    },
    {
      "cell_type": "code",
      "metadata": {
        "colab": {
          "base_uri": "https://localhost:8080/",
          "height": 203
        },
        "id": "N8SAkzUYHp_v",
        "outputId": "860ef631-6dfa-4258-fc87-820cfa3f5ddc"
      },
      "source": [
        "test.head(3)"
      ],
      "execution_count": null,
      "outputs": [
        {
          "output_type": "execute_result",
          "data": {
            "text/html": [
              "<div>\n",
              "<style scoped>\n",
              "    .dataframe tbody tr th:only-of-type {\n",
              "        vertical-align: middle;\n",
              "    }\n",
              "\n",
              "    .dataframe tbody tr th {\n",
              "        vertical-align: top;\n",
              "    }\n",
              "\n",
              "    .dataframe thead th {\n",
              "        text-align: right;\n",
              "    }\n",
              "</style>\n",
              "<table border=\"1\" class=\"dataframe\">\n",
              "  <thead>\n",
              "    <tr style=\"text-align: right;\">\n",
              "      <th></th>\n",
              "      <th>Unnamed: 0</th>\n",
              "      <th>BOROUGH</th>\n",
              "      <th>NEIGHBORHOOD</th>\n",
              "      <th>BUILDING CLASS CATEGORY</th>\n",
              "      <th>BLOCK</th>\n",
              "      <th>LOT</th>\n",
              "      <th>ZIP CODE</th>\n",
              "      <th>RESIDENTIAL UNITS</th>\n",
              "      <th>TOTAL UNITS</th>\n",
              "      <th>LAND SQUARE FEET</th>\n",
              "      <th>GROSS SQUARE FEET</th>\n",
              "      <th>YEAR BUILT</th>\n",
              "      <th>TAX CLASS AT TIME OF SALE</th>\n",
              "      <th>BUILDING CLASS AT TIME OF SALE</th>\n",
              "      <th>SALE PRICE</th>\n",
              "      <th>SALE DATE</th>\n",
              "    </tr>\n",
              "  </thead>\n",
              "  <tbody>\n",
              "    <tr>\n",
              "      <th>0</th>\n",
              "      <td>1</td>\n",
              "      <td>1</td>\n",
              "      <td>ALPHABET CITY</td>\n",
              "      <td>RENTALS - WALKUP APARTMENTS</td>\n",
              "      <td>399</td>\n",
              "      <td>26</td>\n",
              "      <td>10009</td>\n",
              "      <td>28</td>\n",
              "      <td>31</td>\n",
              "      <td>4616.0</td>\n",
              "      <td>18690.0</td>\n",
              "      <td>1900</td>\n",
              "      <td>2</td>\n",
              "      <td>C7</td>\n",
              "      <td>NaN</td>\n",
              "      <td>2016-12-14</td>\n",
              "    </tr>\n",
              "    <tr>\n",
              "      <th>1</th>\n",
              "      <td>2</td>\n",
              "      <td>1</td>\n",
              "      <td>ALPHABET CITY</td>\n",
              "      <td>RENTALS - WALKUP APARTMENTS</td>\n",
              "      <td>399</td>\n",
              "      <td>39</td>\n",
              "      <td>10009</td>\n",
              "      <td>16</td>\n",
              "      <td>17</td>\n",
              "      <td>2212.0</td>\n",
              "      <td>7803.0</td>\n",
              "      <td>1900</td>\n",
              "      <td>2</td>\n",
              "      <td>C7</td>\n",
              "      <td>NaN</td>\n",
              "      <td>2016-12-09</td>\n",
              "    </tr>\n",
              "    <tr>\n",
              "      <th>2</th>\n",
              "      <td>5</td>\n",
              "      <td>1</td>\n",
              "      <td>ALPHABET CITY</td>\n",
              "      <td>RENTALS - WALKUP APARTMENTS</td>\n",
              "      <td>405</td>\n",
              "      <td>16</td>\n",
              "      <td>10009</td>\n",
              "      <td>20</td>\n",
              "      <td>20</td>\n",
              "      <td>2581.0</td>\n",
              "      <td>9730.0</td>\n",
              "      <td>1900</td>\n",
              "      <td>2</td>\n",
              "      <td>C4</td>\n",
              "      <td>NaN</td>\n",
              "      <td>2017-07-20</td>\n",
              "    </tr>\n",
              "  </tbody>\n",
              "</table>\n",
              "</div>"
            ],
            "text/plain": [
              "   Unnamed: 0  BOROUGH  ... SALE PRICE   SALE DATE\n",
              "0           1        1  ...        NaN  2016-12-14\n",
              "1           2        1  ...        NaN  2016-12-09\n",
              "2           5        1  ...        NaN  2017-07-20\n",
              "\n",
              "[3 rows x 16 columns]"
            ]
          },
          "metadata": {
            "tags": []
          },
          "execution_count": 92
        }
      ]
    },
    {
      "cell_type": "code",
      "metadata": {
        "id": "Cw5LJD2-Hp_v"
      },
      "source": [
        "a = train.columns\n",
        "b = test.columns"
      ],
      "execution_count": null,
      "outputs": []
    },
    {
      "cell_type": "code",
      "metadata": {
        "colab": {
          "base_uri": "https://localhost:8080/"
        },
        "id": "12R386NJHp_w",
        "outputId": "c3626cc3-9660-4127-d74c-18c62c62c5a7"
      },
      "source": [
        "a.intersection(b)"
      ],
      "execution_count": null,
      "outputs": [
        {
          "output_type": "execute_result",
          "data": {
            "text/plain": [
              "Index(['Unnamed: 0', 'BOROUGH', 'NEIGHBORHOOD', 'BUILDING CLASS CATEGORY',\n",
              "       'BLOCK', 'LOT', 'ZIP CODE', 'RESIDENTIAL UNITS', 'TOTAL UNITS',\n",
              "       'LAND SQUARE FEET', 'GROSS SQUARE FEET', 'YEAR BUILT',\n",
              "       'TAX CLASS AT TIME OF SALE', 'BUILDING CLASS AT TIME OF SALE',\n",
              "       'SALE PRICE', 'SALE DATE'],\n",
              "      dtype='object')"
            ]
          },
          "metadata": {
            "tags": []
          },
          "execution_count": 94
        }
      ]
    },
    {
      "cell_type": "code",
      "metadata": {
        "id": "-zJCBo-MHp_w"
      },
      "source": [
        "train['data']='train'\n",
        "test['data']='test'\n",
        "test=test[train.columns]\n",
        "all_d = pd.concat([train,test],axis=0)"
      ],
      "execution_count": null,
      "outputs": []
    },
    {
      "cell_type": "code",
      "metadata": {
        "colab": {
          "base_uri": "https://localhost:8080/",
          "height": 295
        },
        "id": "EOj4nAXTHp_x",
        "outputId": "c1c3d759-df2a-4452-f670-d1ff32646698"
      },
      "source": [
        "all_d.head()"
      ],
      "execution_count": null,
      "outputs": [
        {
          "output_type": "execute_result",
          "data": {
            "text/html": [
              "<div>\n",
              "<style scoped>\n",
              "    .dataframe tbody tr th:only-of-type {\n",
              "        vertical-align: middle;\n",
              "    }\n",
              "\n",
              "    .dataframe tbody tr th {\n",
              "        vertical-align: top;\n",
              "    }\n",
              "\n",
              "    .dataframe thead th {\n",
              "        text-align: right;\n",
              "    }\n",
              "</style>\n",
              "<table border=\"1\" class=\"dataframe\">\n",
              "  <thead>\n",
              "    <tr style=\"text-align: right;\">\n",
              "      <th></th>\n",
              "      <th>Unnamed: 0</th>\n",
              "      <th>BOROUGH</th>\n",
              "      <th>NEIGHBORHOOD</th>\n",
              "      <th>BUILDING CLASS CATEGORY</th>\n",
              "      <th>BLOCK</th>\n",
              "      <th>LOT</th>\n",
              "      <th>ZIP CODE</th>\n",
              "      <th>RESIDENTIAL UNITS</th>\n",
              "      <th>TOTAL UNITS</th>\n",
              "      <th>LAND SQUARE FEET</th>\n",
              "      <th>GROSS SQUARE FEET</th>\n",
              "      <th>YEAR BUILT</th>\n",
              "      <th>TAX CLASS AT TIME OF SALE</th>\n",
              "      <th>BUILDING CLASS AT TIME OF SALE</th>\n",
              "      <th>SALE PRICE</th>\n",
              "      <th>SALE DATE</th>\n",
              "      <th>data</th>\n",
              "    </tr>\n",
              "  </thead>\n",
              "  <tbody>\n",
              "    <tr>\n",
              "      <th>0</th>\n",
              "      <td>0</td>\n",
              "      <td>1</td>\n",
              "      <td>ALPHABET CITY</td>\n",
              "      <td>RENTALS - WALKUP APARTMENTS</td>\n",
              "      <td>392</td>\n",
              "      <td>6</td>\n",
              "      <td>10009</td>\n",
              "      <td>5</td>\n",
              "      <td>5</td>\n",
              "      <td>1633.0</td>\n",
              "      <td>6440.0</td>\n",
              "      <td>1900</td>\n",
              "      <td>2</td>\n",
              "      <td>C2</td>\n",
              "      <td>6625000.0</td>\n",
              "      <td>2017-07-19</td>\n",
              "      <td>train</td>\n",
              "    </tr>\n",
              "    <tr>\n",
              "      <th>1</th>\n",
              "      <td>3</td>\n",
              "      <td>1</td>\n",
              "      <td>ALPHABET CITY</td>\n",
              "      <td>RENTALS - WALKUP APARTMENTS</td>\n",
              "      <td>402</td>\n",
              "      <td>21</td>\n",
              "      <td>10009</td>\n",
              "      <td>10</td>\n",
              "      <td>10</td>\n",
              "      <td>2272.0</td>\n",
              "      <td>6794.0</td>\n",
              "      <td>1913</td>\n",
              "      <td>2</td>\n",
              "      <td>C4</td>\n",
              "      <td>3936272.0</td>\n",
              "      <td>2016-09-23</td>\n",
              "      <td>train</td>\n",
              "    </tr>\n",
              "    <tr>\n",
              "      <th>2</th>\n",
              "      <td>4</td>\n",
              "      <td>1</td>\n",
              "      <td>ALPHABET CITY</td>\n",
              "      <td>RENTALS - WALKUP APARTMENTS</td>\n",
              "      <td>404</td>\n",
              "      <td>55</td>\n",
              "      <td>10009</td>\n",
              "      <td>6</td>\n",
              "      <td>6</td>\n",
              "      <td>2369.0</td>\n",
              "      <td>4615.0</td>\n",
              "      <td>1900</td>\n",
              "      <td>2</td>\n",
              "      <td>C2</td>\n",
              "      <td>8000000.0</td>\n",
              "      <td>2016-11-17</td>\n",
              "      <td>train</td>\n",
              "    </tr>\n",
              "    <tr>\n",
              "      <th>3</th>\n",
              "      <td>6</td>\n",
              "      <td>1</td>\n",
              "      <td>ALPHABET CITY</td>\n",
              "      <td>RENTALS - WALKUP APARTMENTS</td>\n",
              "      <td>406</td>\n",
              "      <td>32</td>\n",
              "      <td>10009</td>\n",
              "      <td>8</td>\n",
              "      <td>8</td>\n",
              "      <td>1750.0</td>\n",
              "      <td>4226.0</td>\n",
              "      <td>1920</td>\n",
              "      <td>2</td>\n",
              "      <td>C4</td>\n",
              "      <td>3192840.0</td>\n",
              "      <td>2016-09-23</td>\n",
              "      <td>train</td>\n",
              "    </tr>\n",
              "    <tr>\n",
              "      <th>4</th>\n",
              "      <td>9</td>\n",
              "      <td>1</td>\n",
              "      <td>ALPHABET CITY</td>\n",
              "      <td>RENTALS - ELEVATOR APARTMENTS</td>\n",
              "      <td>387</td>\n",
              "      <td>153</td>\n",
              "      <td>10009</td>\n",
              "      <td>24</td>\n",
              "      <td>24</td>\n",
              "      <td>4489.0</td>\n",
              "      <td>18523.0</td>\n",
              "      <td>1920</td>\n",
              "      <td>2</td>\n",
              "      <td>D9</td>\n",
              "      <td>16232000.0</td>\n",
              "      <td>2016-11-07</td>\n",
              "      <td>train</td>\n",
              "    </tr>\n",
              "  </tbody>\n",
              "</table>\n",
              "</div>"
            ],
            "text/plain": [
              "   Unnamed: 0  BOROUGH   NEIGHBORHOOD  ...  SALE PRICE   SALE DATE   data\n",
              "0           0        1  ALPHABET CITY  ...   6625000.0  2017-07-19  train\n",
              "1           3        1  ALPHABET CITY  ...   3936272.0  2016-09-23  train\n",
              "2           4        1  ALPHABET CITY  ...   8000000.0  2016-11-17  train\n",
              "3           6        1  ALPHABET CITY  ...   3192840.0  2016-09-23  train\n",
              "4           9        1  ALPHABET CITY  ...  16232000.0  2016-11-07  train\n",
              "\n",
              "[5 rows x 17 columns]"
            ]
          },
          "metadata": {
            "tags": []
          },
          "execution_count": 96
        }
      ]
    },
    {
      "cell_type": "code",
      "metadata": {
        "colab": {
          "base_uri": "https://localhost:8080/"
        },
        "id": "3f8O6Ez6Hp_x",
        "outputId": "d60e74e4-192f-447b-98c1-2e0b104e65c0"
      },
      "source": [
        "all_d.dtypes"
      ],
      "execution_count": null,
      "outputs": [
        {
          "output_type": "execute_result",
          "data": {
            "text/plain": [
              "Unnamed: 0                          int64\n",
              "BOROUGH                             int64\n",
              "NEIGHBORHOOD                       object\n",
              "BUILDING CLASS CATEGORY            object\n",
              "BLOCK                               int64\n",
              "LOT                                 int64\n",
              "ZIP CODE                            int64\n",
              "RESIDENTIAL UNITS                   int64\n",
              "TOTAL UNITS                         int64\n",
              "LAND SQUARE FEET                  float64\n",
              "GROSS SQUARE FEET                 float64\n",
              "YEAR BUILT                          int64\n",
              "TAX CLASS AT TIME OF SALE           int64\n",
              "BUILDING CLASS AT TIME OF SALE     object\n",
              "SALE PRICE                        float64\n",
              "SALE DATE                          object\n",
              "data                               object\n",
              "dtype: object"
            ]
          },
          "metadata": {
            "tags": []
          },
          "execution_count": 97
        }
      ]
    },
    {
      "cell_type": "code",
      "metadata": {
        "id": "yQExQXUCHp_y"
      },
      "source": [
        "all_d.drop(['Unnamed: 0','BUILDING CLASS CATEGORY'],axis=1,inplace=True)"
      ],
      "execution_count": null,
      "outputs": []
    },
    {
      "cell_type": "code",
      "metadata": {
        "id": "QXXAGBqCHp_y"
      },
      "source": [
        "all_d['SALE DATE'] = pd.to_datetime(all_d['SALE DATE'], errors='coerce')"
      ],
      "execution_count": null,
      "outputs": []
    },
    {
      "cell_type": "code",
      "metadata": {
        "id": "4dJASsDmHp_z"
      },
      "source": [
        "all_d['YEAR SOLD'] = all_d['SALE DATE'].apply(lambda x: x.year)\n",
        "all_d['MONTH SOLD'] = all_d['SALE DATE'].apply(lambda x: x.month)\n",
        "all_d['DAY SOLD'] = all_d['SALE DATE'].apply(lambda x: x.day)\n",
        "\n",
        "\n",
        "all_d = all_d.drop('SALE DATE', axis=1)"
      ],
      "execution_count": null,
      "outputs": []
    },
    {
      "cell_type": "code",
      "metadata": {
        "id": "sVVx8nZiHp_z"
      },
      "source": [
        "all_d['BOROUGH'] = all_d['BOROUGH'].astype(str)\n",
        "\n",
        "all_d['BOROUGH'] = all_d['BOROUGH'].str.replace(\"1\", \"Manhattan\")\n",
        "all_d['BOROUGH'] = all_d['BOROUGH'].str.replace(\"2\", \"Bronx\")\n",
        "all_d['BOROUGH'] = all_d['BOROUGH'].str.replace(\"3\", \"Brooklyn\")\n",
        "all_d['BOROUGH'] = all_d['BOROUGH'].str.replace(\"4\", \"Queens\")\n",
        "all_d['BOROUGH'] = all_d['BOROUGH'].str.replace(\"5\", \"Staten Island\")"
      ],
      "execution_count": null,
      "outputs": []
    },
    {
      "cell_type": "code",
      "metadata": {
        "id": "kPUGc_99Hp_z"
      },
      "source": [
        "all_d['NEIGHBORHOOD'] = all_d['NEIGHBORHOOD'].replace(['ALPHABET CITY', 'CHELSEA', 'CHINATOWN', 'CIVIC CENTER', 'CLINTON',\n",
        "       'EAST VILLAGE', 'FASHION', 'FINANCIAL', 'FLATIRON', 'GRAMERCY',\n",
        "       'GREENWICH VILLAGE-CENTRAL', 'GREENWICH VILLAGE-WEST',\n",
        "       'HARLEM-CENTRAL', 'HARLEM-EAST', 'HARLEM-UPPER', 'HARLEM-WEST',\n",
        "       'INWOOD', 'JAVITS CENTER', 'KIPS BAY', 'LITTLE ITALY',\n",
        "       'LOWER EAST SIDE', 'MANHATTAN VALLEY', 'MIDTOWN CBD',\n",
        "       'MIDTOWN EAST', 'MIDTOWN WEST', 'MORNINGSIDE HEIGHTS',\n",
        "       'MURRAY HILL', 'ROOSEVELT ISLAND', 'SOHO', 'SOUTHBRIDGE',\n",
        "       'TRIBECA', 'UPPER EAST SIDE (59-79)', 'UPPER EAST SIDE (79-96)',\n",
        "       'UPPER EAST SIDE (96-110)', 'UPPER WEST SIDE (59-79)',\n",
        "       'UPPER WEST SIDE (79-96)', 'UPPER WEST SIDE (96-116)',\n",
        "       'WASHINGTON HEIGHTS LOWER', 'WASHINGTON HEIGHTS UPPER'],\n",
        "                                                      'Manhattan_Neighborhood')"
      ],
      "execution_count": null,
      "outputs": []
    },
    {
      "cell_type": "code",
      "metadata": {
        "id": "aY6StDwzHp_0"
      },
      "source": [
        "all_d['NEIGHBORHOOD'] = all_d['NEIGHBORHOOD'].replace(['BATHGATE', 'BAYCHESTER', 'BEDFORD PARK/NORWOOD', 'BELMONT',\n",
        "       'BRONX PARK', 'BRONXDALE', 'CASTLE HILL/UNIONPORT', 'CITY ISLAND',\n",
        "       'CITY ISLAND-PELHAM STRIP', 'CO-OP CITY', 'COUNTRY CLUB',\n",
        "       'CROTONA PARK', 'EAST RIVER', 'EAST TREMONT', 'FIELDSTON',\n",
        "       'FORDHAM', 'HIGHBRIDGE/MORRIS HEIGHTS', 'HUNTS POINT',\n",
        "       'KINGSBRIDGE HTS/UNIV HTS', 'KINGSBRIDGE/JEROME PARK',\n",
        "       'MELROSE/CONCOURSE', 'MORRIS PARK/VAN NEST', 'MORRISANIA/LONGWOOD',\n",
        "       'MOTT HAVEN/PORT MORRIS', 'MOUNT HOPE/MOUNT EDEN', 'PARKCHESTER',\n",
        "       'PELHAM BAY', 'PELHAM GARDENS', 'PELHAM PARKWAY NORTH',\n",
        "       'PELHAM PARKWAY SOUTH', 'RIVERDALE', 'SCHUYLERVILLE/PELHAM BAY',\n",
        "       'SOUNDVIEW', 'THROGS NECK', 'VAN CORTLANDT PARK', 'WAKEFIELD',\n",
        "       'WESTCHESTER', 'WILLIAMSBRIDGE', 'WOODLAWN'],\n",
        "                                                      'Bronx_Neighborhood')"
      ],
      "execution_count": null,
      "outputs": []
    },
    {
      "cell_type": "code",
      "metadata": {
        "id": "W1aVcNl7Hp_0"
      },
      "source": [
        "all_d['NEIGHBORHOOD'] = all_d['NEIGHBORHOOD'].replace(['BATH BEACH', 'BAY RIDGE', 'BEDFORD STUYVESANT', 'BENSONHURST',\n",
        "       'BERGEN BEACH', 'BOERUM HILL', 'BOROUGH PARK', 'BRIGHTON BEACH',\n",
        "       'BROOKLYN HEIGHTS', 'BROWNSVILLE', 'BUSH TERMINAL', 'BUSHWICK',\n",
        "       'CANARSIE', 'CARROLL GARDENS', 'CLINTON HILL', 'COBBLE HILL',\n",
        "       'COBBLE HILL-WEST', 'CONEY ISLAND', 'CROWN HEIGHTS',\n",
        "       'CYPRESS HILLS', 'DOWNTOWN-FULTON FERRY', 'DOWNTOWN-FULTON MALL',\n",
        "       'DOWNTOWN-METROTECH', 'DYKER HEIGHTS', 'EAST NEW YORK',\n",
        "       'FLATBUSH-CENTRAL', 'FLATBUSH-EAST', 'FLATBUSH-LEFFERTS GARDEN',\n",
        "       'FLATBUSH-NORTH', 'FLATLANDS', 'FORT GREENE', 'GERRITSEN BEACH',\n",
        "       'GOWANUS', 'GRAVESEND', 'GREENPOINT', 'JAMAICA BAY', 'KENSINGTON',\n",
        "       'MADISON', 'MANHATTAN BEACH', 'MARINE PARK', 'MIDWOOD',\n",
        "       'MILL BASIN', 'NAVY YARD', 'OCEAN HILL', 'OCEAN PARKWAY-NORTH',\n",
        "       'OCEAN PARKWAY-SOUTH', 'OLD MILL BASIN', 'PARK SLOPE',\n",
        "       'PARK SLOPE SOUTH', 'PROSPECT HEIGHTS', 'RED HOOK', 'SEAGATE',\n",
        "       'SHEEPSHEAD BAY', 'SPRING CREEK', 'SUNSET PARK',\n",
        "       'WILLIAMSBURG-CENTRAL', 'WILLIAMSBURG-EAST', 'WILLIAMSBURG-NORTH',\n",
        "       'WILLIAMSBURG-SOUTH', 'WINDSOR TERRACE', 'WYCKOFF HEIGHTS'],\n",
        "                                                      'Brooklyn_Neighborhood')"
      ],
      "execution_count": null,
      "outputs": []
    },
    {
      "cell_type": "code",
      "metadata": {
        "id": "IVkQjCPsHp_1"
      },
      "source": [
        "all_d['NEIGHBORHOOD'] = all_d['NEIGHBORHOOD'].replace(['AIRPORT LA GUARDIA', 'ARVERNE', 'ASTORIA', 'BAYSIDE',\n",
        "       'BEECHHURST', 'BELLE HARBOR', 'BELLEROSE', 'BRIARWOOD',\n",
        "       'BROAD CHANNEL', 'CAMBRIA HEIGHTS', 'COLLEGE POINT', 'CORONA',\n",
        "       'DOUGLASTON', 'EAST ELMHURST', 'ELMHURST', 'FAR ROCKAWAY',\n",
        "       'FLORAL PARK', 'FLUSHING MEADOW PARK', 'FLUSHING-NORTH',\n",
        "       'FLUSHING-SOUTH', 'FOREST HILLS', 'FRESH MEADOWS', 'GLEN OAKS',\n",
        "       'GLENDALE', 'HAMMELS', 'HILLCREST', 'HOLLIS', 'HOLLIS HILLS',\n",
        "       'HOLLISWOOD', 'HOWARD BEACH', 'JACKSON HEIGHTS', 'JAMAICA',\n",
        "       'JAMAICA BAY', 'JAMAICA ESTATES', 'JAMAICA HILLS', 'KEW GARDENS',\n",
        "       'LAURELTON', 'LITTLE NECK', 'LONG ISLAND CITY', 'MASPETH',\n",
        "       'MIDDLE VILLAGE', 'NEPONSIT', 'OAKLAND GARDENS', 'OZONE PARK',\n",
        "       'QUEENS VILLAGE', 'REGO PARK', 'RICHMOND HILL', 'RIDGEWOOD',\n",
        "       'ROCKAWAY PARK', 'ROSEDALE', 'SO. JAMAICA-BAISLEY PARK',\n",
        "       'SOUTH JAMAICA', 'SOUTH OZONE PARK', 'SPRINGFIELD GARDENS',\n",
        "       'ST. ALBANS', 'SUNNYSIDE', 'WHITESTONE', 'WOODHAVEN', 'WOODSIDE'],\n",
        "                                                      'Queens_Neighborhood')"
      ],
      "execution_count": null,
      "outputs": []
    },
    {
      "cell_type": "code",
      "metadata": {
        "id": "IAfbxWzTHp_1"
      },
      "source": [
        "all_d['NEIGHBORHOOD'] = all_d['NEIGHBORHOOD'].replace(['ANNADALE', 'ARDEN HEIGHTS', 'ARROCHAR', 'ARROCHAR-SHORE ACRES',\n",
        "       'BLOOMFIELD', 'BULLS HEAD', 'CASTLETON CORNERS', 'CLOVE LAKES',\n",
        "       'CONCORD', 'CONCORD-FOX HILLS', 'DONGAN HILLS',\n",
        "       'DONGAN HILLS-COLONY', 'DONGAN HILLS-OLD TOWN', 'ELTINGVILLE',\n",
        "       'EMERSON HILL', 'FRESH KILLS', 'GRANT CITY', 'GRASMERE',\n",
        "       'GREAT KILLS', 'GREAT KILLS-BAY TERRACE', 'GRYMES HILL',\n",
        "       'HUGUENOT', 'LIVINGSTON', 'MANOR HEIGHTS', 'MARINERS HARBOR',\n",
        "       'MIDLAND BEACH', 'NEW BRIGHTON', 'NEW BRIGHTON-ST. GEORGE',\n",
        "       'NEW DORP', 'NEW DORP-BEACH', 'NEW DORP-HEIGHTS',\n",
        "       'NEW SPRINGVILLE', 'OAKWOOD', 'OAKWOOD-BEACH', 'PLEASANT PLAINS',\n",
        "       'PORT IVORY', 'PORT RICHMOND', 'PRINCES BAY', 'RICHMONDTOWN',\n",
        "       'RICHMONDTOWN-LIGHTHS HILL', 'ROSEBANK', 'ROSSVILLE',\n",
        "       'ROSSVILLE-CHARLESTON', 'ROSSVILLE-PORT MOBIL',\n",
        "       'ROSSVILLE-RICHMOND VALLEY', 'SILVER LAKE', 'SOUTH BEACH',\n",
        "       'STAPLETON', 'STAPLETON-CLIFTON', 'SUNNYSIDE', 'TODT HILL',\n",
        "       'TOMPKINSVILLE', 'TOTTENVILLE', 'TRAVIS', 'WEST NEW BRIGHTON',\n",
        "       'WESTERLEIGH', 'WILLOWBROOK', 'WOODROW'],\n",
        "                                                      'Staten Island_Neighborhood')"
      ],
      "execution_count": null,
      "outputs": []
    },
    {
      "cell_type": "code",
      "metadata": {
        "colab": {
          "base_uri": "https://localhost:8080/",
          "height": 211
        },
        "id": "fNcsOz-DHp_3",
        "outputId": "f6d042a5-71b1-4b36-f1d0-cc431c8b0969"
      },
      "source": [
        "all_d.head()"
      ],
      "execution_count": null,
      "outputs": [
        {
          "output_type": "execute_result",
          "data": {
            "text/html": [
              "<div>\n",
              "<style scoped>\n",
              "    .dataframe tbody tr th:only-of-type {\n",
              "        vertical-align: middle;\n",
              "    }\n",
              "\n",
              "    .dataframe tbody tr th {\n",
              "        vertical-align: top;\n",
              "    }\n",
              "\n",
              "    .dataframe thead th {\n",
              "        text-align: right;\n",
              "    }\n",
              "</style>\n",
              "<table border=\"1\" class=\"dataframe\">\n",
              "  <thead>\n",
              "    <tr style=\"text-align: right;\">\n",
              "      <th></th>\n",
              "      <th>BOROUGH</th>\n",
              "      <th>NEIGHBORHOOD</th>\n",
              "      <th>BLOCK</th>\n",
              "      <th>LOT</th>\n",
              "      <th>ZIP CODE</th>\n",
              "      <th>RESIDENTIAL UNITS</th>\n",
              "      <th>TOTAL UNITS</th>\n",
              "      <th>LAND SQUARE FEET</th>\n",
              "      <th>GROSS SQUARE FEET</th>\n",
              "      <th>YEAR BUILT</th>\n",
              "      <th>TAX CLASS AT TIME OF SALE</th>\n",
              "      <th>BUILDING CLASS AT TIME OF SALE</th>\n",
              "      <th>SALE PRICE</th>\n",
              "      <th>data</th>\n",
              "      <th>YEAR SOLD</th>\n",
              "      <th>MONTH SOLD</th>\n",
              "      <th>DAY SOLD</th>\n",
              "    </tr>\n",
              "  </thead>\n",
              "  <tbody>\n",
              "    <tr>\n",
              "      <th>0</th>\n",
              "      <td>Manhattan</td>\n",
              "      <td>Manhattan_Neighborhood</td>\n",
              "      <td>392</td>\n",
              "      <td>6</td>\n",
              "      <td>10009</td>\n",
              "      <td>5</td>\n",
              "      <td>5</td>\n",
              "      <td>1633.0</td>\n",
              "      <td>6440.0</td>\n",
              "      <td>1900</td>\n",
              "      <td>2</td>\n",
              "      <td>C2</td>\n",
              "      <td>6625000.0</td>\n",
              "      <td>train</td>\n",
              "      <td>2017</td>\n",
              "      <td>7</td>\n",
              "      <td>19</td>\n",
              "    </tr>\n",
              "    <tr>\n",
              "      <th>1</th>\n",
              "      <td>Manhattan</td>\n",
              "      <td>Manhattan_Neighborhood</td>\n",
              "      <td>402</td>\n",
              "      <td>21</td>\n",
              "      <td>10009</td>\n",
              "      <td>10</td>\n",
              "      <td>10</td>\n",
              "      <td>2272.0</td>\n",
              "      <td>6794.0</td>\n",
              "      <td>1913</td>\n",
              "      <td>2</td>\n",
              "      <td>C4</td>\n",
              "      <td>3936272.0</td>\n",
              "      <td>train</td>\n",
              "      <td>2016</td>\n",
              "      <td>9</td>\n",
              "      <td>23</td>\n",
              "    </tr>\n",
              "    <tr>\n",
              "      <th>2</th>\n",
              "      <td>Manhattan</td>\n",
              "      <td>Manhattan_Neighborhood</td>\n",
              "      <td>404</td>\n",
              "      <td>55</td>\n",
              "      <td>10009</td>\n",
              "      <td>6</td>\n",
              "      <td>6</td>\n",
              "      <td>2369.0</td>\n",
              "      <td>4615.0</td>\n",
              "      <td>1900</td>\n",
              "      <td>2</td>\n",
              "      <td>C2</td>\n",
              "      <td>8000000.0</td>\n",
              "      <td>train</td>\n",
              "      <td>2016</td>\n",
              "      <td>11</td>\n",
              "      <td>17</td>\n",
              "    </tr>\n",
              "    <tr>\n",
              "      <th>3</th>\n",
              "      <td>Manhattan</td>\n",
              "      <td>Manhattan_Neighborhood</td>\n",
              "      <td>406</td>\n",
              "      <td>32</td>\n",
              "      <td>10009</td>\n",
              "      <td>8</td>\n",
              "      <td>8</td>\n",
              "      <td>1750.0</td>\n",
              "      <td>4226.0</td>\n",
              "      <td>1920</td>\n",
              "      <td>2</td>\n",
              "      <td>C4</td>\n",
              "      <td>3192840.0</td>\n",
              "      <td>train</td>\n",
              "      <td>2016</td>\n",
              "      <td>9</td>\n",
              "      <td>23</td>\n",
              "    </tr>\n",
              "    <tr>\n",
              "      <th>4</th>\n",
              "      <td>Manhattan</td>\n",
              "      <td>Manhattan_Neighborhood</td>\n",
              "      <td>387</td>\n",
              "      <td>153</td>\n",
              "      <td>10009</td>\n",
              "      <td>24</td>\n",
              "      <td>24</td>\n",
              "      <td>4489.0</td>\n",
              "      <td>18523.0</td>\n",
              "      <td>1920</td>\n",
              "      <td>2</td>\n",
              "      <td>D9</td>\n",
              "      <td>16232000.0</td>\n",
              "      <td>train</td>\n",
              "      <td>2016</td>\n",
              "      <td>11</td>\n",
              "      <td>7</td>\n",
              "    </tr>\n",
              "  </tbody>\n",
              "</table>\n",
              "</div>"
            ],
            "text/plain": [
              "     BOROUGH            NEIGHBORHOOD  BLOCK  ...  YEAR SOLD  MONTH SOLD  DAY SOLD\n",
              "0  Manhattan  Manhattan_Neighborhood    392  ...       2017           7        19\n",
              "1  Manhattan  Manhattan_Neighborhood    402  ...       2016           9        23\n",
              "2  Manhattan  Manhattan_Neighborhood    404  ...       2016          11        17\n",
              "3  Manhattan  Manhattan_Neighborhood    406  ...       2016           9        23\n",
              "4  Manhattan  Manhattan_Neighborhood    387  ...       2016          11         7\n",
              "\n",
              "[5 rows x 17 columns]"
            ]
          },
          "metadata": {
            "tags": []
          },
          "execution_count": 107
        }
      ]
    },
    {
      "cell_type": "code",
      "metadata": {
        "colab": {
          "base_uri": "https://localhost:8080/"
        },
        "id": "sPKiDAA2Hp_3",
        "outputId": "6f8c9f48-cf11-41bd-961e-f84c71ed1649"
      },
      "source": [
        "all_d['NEIGHBORHOOD'].unique()"
      ],
      "execution_count": null,
      "outputs": [
        {
          "output_type": "execute_result",
          "data": {
            "text/plain": [
              "array(['Manhattan_Neighborhood', 'Bronx_Neighborhood',\n",
              "       'Brooklyn_Neighborhood', 'Queens_Neighborhood',\n",
              "       'Staten Island_Neighborhood'], dtype=object)"
            ]
          },
          "metadata": {
            "tags": []
          },
          "execution_count": 108
        }
      ]
    },
    {
      "cell_type": "code",
      "metadata": {
        "colab": {
          "base_uri": "https://localhost:8080/"
        },
        "id": "uMUdwVlLHp_3",
        "outputId": "135d98f5-272f-4876-bb4a-3e132e62f4b6"
      },
      "source": [
        "all_d.dtypes"
      ],
      "execution_count": null,
      "outputs": [
        {
          "output_type": "execute_result",
          "data": {
            "text/plain": [
              "BOROUGH                            object\n",
              "NEIGHBORHOOD                       object\n",
              "BLOCK                               int64\n",
              "LOT                                 int64\n",
              "ZIP CODE                            int64\n",
              "RESIDENTIAL UNITS                   int64\n",
              "TOTAL UNITS                         int64\n",
              "LAND SQUARE FEET                  float64\n",
              "GROSS SQUARE FEET                 float64\n",
              "YEAR BUILT                          int64\n",
              "TAX CLASS AT TIME OF SALE           int64\n",
              "BUILDING CLASS AT TIME OF SALE     object\n",
              "SALE PRICE                        float64\n",
              "data                               object\n",
              "YEAR SOLD                           int64\n",
              "MONTH SOLD                          int64\n",
              "DAY SOLD                            int64\n",
              "dtype: object"
            ]
          },
          "metadata": {
            "tags": []
          },
          "execution_count": 109
        }
      ]
    },
    {
      "cell_type": "code",
      "metadata": {
        "colab": {
          "base_uri": "https://localhost:8080/",
          "height": 1000
        },
        "id": "OZQT4__NHp_4",
        "outputId": "7404be00-9480-4f20-ea7a-16eff63fbb94"
      },
      "source": [
        "num_cols = all_d.select_dtypes('number')\n",
        "for i in num_cols.columns:\n",
        "    sns.boxplot(x=all_d[i],data=all_d)\n",
        "    plt.show() "
      ],
      "execution_count": null,
      "outputs": [
        {
          "output_type": "display_data",
          "data": {
            "image/png": "[encoded data removed]",
            "text/plain": [
              "<Figure size 432x288 with 1 Axes>"
            ]
          },
          "metadata": {
            "tags": [],
            "needs_background": "light"
          }
        },
        {
          "output_type": "display_data",
          "data": {
            "image/png": "[encoded data removed]",
            "text/plain": [
              "<Figure size 432x288 with 1 Axes>"
            ]
          },
          "metadata": {
            "tags": [],
            "needs_background": "light"
          }
        },
        {
          "output_type": "display_data",
          "data": {
            "image/png": "[encoded data removed]",
            "text/plain": [
              "<Figure size 432x288 with 1 Axes>"
            ]
          },
          "metadata": {
            "tags": [],
            "needs_background": "light"
          }
        },
        {
          "output_type": "display_data",
          "data": {
            "image/png": "[encoded data removed]",
            "text/plain": [
              "<Figure size 432x288 with 1 Axes>"
            ]
          },
          "metadata": {
            "tags": [],
            "needs_background": "light"
          }
        },
        {
          "output_type": "display_data",
          "data": {
            "image/png": "[encoded data removed]",
            "text/plain": [
              "<Figure size 432x288 with 1 Axes>"
            ]
          },
          "metadata": {
            "tags": [],
            "needs_background": "light"
          }
        },
        {
          "output_type": "display_data",
          "data": {
            "image/png": "[encoded data removed]",
            "text/plain": [
              "<Figure size 432x288 with 1 Axes>"
            ]
          },
          "metadata": {
            "tags": [],
            "needs_background": "light"
          }
        },
        {
          "output_type": "display_data",
          "data": {
            "image/png": "[encoded data removed]",
            "text/plain": [
              "<Figure size 432x288 with 1 Axes>"
            ]
          },
          "metadata": {
            "tags": [],
            "needs_background": "light"
          }
        },
        {
          "output_type": "display_data",
          "data": {
            "image/png": "[encoded data removed]",
            "text/plain": [
              "<Figure size 432x288 with 1 Axes>"
            ]
          },
          "metadata": {
            "tags": [],
            "needs_background": "light"
          }
        },
        {
          "output_type": "display_data",
          "data": {
            "image/png": "[encoded data removed]",
            "text/plain": [
              "<Figure size 432x288 with 1 Axes>"
            ]
          },
          "metadata": {
            "tags": [],
            "needs_background": "light"
          }
        },
        {
          "output_type": "display_data",
          "data": {
            "image/png": "[encoded data removed]",
            "text/plain": [
              "<Figure size 432x288 with 1 Axes>"
            ]
          },
          "metadata": {
            "tags": [],
            "needs_background": "light"
          }
        },
        {
          "output_type": "display_data",
          "data": {
            "image/png": "[encoded data removed]",
            "text/plain": [
              "<Figure size 432x288 with 1 Axes>"
            ]
          },
          "metadata": {
            "tags": [],
            "needs_background": "light"
          }
        },
        {
          "output_type": "display_data",
          "data": {
            "image/png": "[encoded data removed]",
            "text/plain": [
              "<Figure size 432x288 with 1 Axes>"
            ]
          },
          "metadata": {
            "tags": [],
            "needs_background": "light"
          }
        },
        {
          "output_type": "display_data",
          "data": {
            "image/png": "[encoded data removed]",
            "text/plain": [
              "<Figure size 432x288 with 1 Axes>"
            ]
          },
          "metadata": {
            "tags": [],
            "needs_background": "light"
          }
        }
      ]
    },
    {
      "cell_type": "code",
      "metadata": {
        "colab": {
          "base_uri": "https://localhost:8080/"
        },
        "id": "OiwE6Vv6Hp_4",
        "outputId": "6ab4ab96-cc1c-473d-c4e5-e2610d9f6884"
      },
      "source": [
        "# calculate interquartile range \n",
        "\n",
        "# compute the first quartile using quantile(0.25)\n",
        "# use .drop() to drop the target variable \n",
        "# axis=1: specifies that the labels are dropped from the columns\n",
        "Q1 = num_cols.drop(['SALE PRICE'], axis=1).quantile(0.25)\n",
        "\n",
        "# compute the first quartile using quantile(0.75)\n",
        "# use .drop() to drop the target variable \n",
        "# axis=1: specifies that the labels are dropped from the columns\n",
        "Q3 = num_cols.drop(['SALE PRICE'], axis=1).quantile(0.75)\n",
        "\n",
        "# calculate of interquartile range \n",
        "IQR = Q3 - Q1\n",
        "\n",
        "# print the IQR values for numeric variables\n",
        "print(IQR)"
      ],
      "execution_count": null,
      "outputs": [
        {
          "output_type": "stream",
          "text": [
            "BLOCK                        4958.250000\n",
            "LOT                           979.000000\n",
            "ZIP CODE                     1051.000000\n",
            "RESIDENTIAL UNITS               4.000000\n",
            "TOTAL UNITS                     4.000000\n",
            "LAND SQUARE FEET             1375.767566\n",
            "GROSS SQUARE FEET            2063.671133\n",
            "YEAR BUILT                     45.000000\n",
            "TAX CLASS AT TIME OF SALE       1.000000\n",
            "YEAR SOLD                       1.000000\n",
            "MONTH SOLD                      6.000000\n",
            "DAY SOLD                       15.000000\n",
            "dtype: float64\n"
          ],
          "name": "stdout"
        }
      ]
    },
    {
      "cell_type": "code",
      "metadata": {
        "id": "zR6GPI0THp_5"
      },
      "source": [
        "# filter out the outlier values\n",
        "# ~ : selects all rows which do not satisfy the condition\n",
        "# |: bitwise operator OR in python\n",
        "# any() : returns whether any element is True over the columns\n",
        "# axis : \"1\" indicates columns should be altered (use \"0\" for 'index')\n",
        "all_d = all_d[~((all_d < (Q1 - 1.5 * IQR)) | (all_d > (Q3 + 1.5 * IQR))).any(axis=1)]"
      ],
      "execution_count": null,
      "outputs": []
    },
    {
      "cell_type": "code",
      "metadata": {
        "colab": {
          "base_uri": "https://localhost:8080/",
          "height": 1000
        },
        "id": "I_dPh9zqHp_5",
        "outputId": "8ac2e601-e14d-4bb5-bd31-1e20d8650ee6"
      },
      "source": [
        "num_cols = all_d.select_dtypes('number')\n",
        "for i in num_cols.columns:\n",
        "    sns.boxplot(x=all_d[i],data=all_d)\n",
        "    plt.show() "
      ],
      "execution_count": null,
      "outputs": [
        {
          "output_type": "display_data",
          "data": {
            "image/png": "[encoded data removed]",
            "text/plain": [
              "<Figure size 432x288 with 1 Axes>"
            ]
          },
          "metadata": {
            "tags": [],
            "needs_background": "light"
          }
        },
        {
          "output_type": "display_data",
          "data": {
            "image/png": "[encoded data removed]",
            "text/plain": [
              "<Figure size 432x288 with 1 Axes>"
            ]
          },
          "metadata": {
            "tags": [],
            "needs_background": "light"
          }
        },
        {
          "output_type": "display_data",
          "data": {
            "image/png": "[encoded data removed]",
            "text/plain": [
              "<Figure size 432x288 with 1 Axes>"
            ]
          },
          "metadata": {
            "tags": [],
            "needs_background": "light"
          }
        },
        {
          "output_type": "display_data",
          "data": {
            "image/png": "[encoded data removed]",
            "text/plain": [
              "<Figure size 432x288 with 1 Axes>"
            ]
          },
          "metadata": {
            "tags": [],
            "needs_background": "light"
          }
        },
        {
          "output_type": "display_data",
          "data": {
            "image/png": "[encoded data removed]",
            "text/plain": [
              "<Figure size 432x288 with 1 Axes>"
            ]
          },
          "metadata": {
            "tags": [],
            "needs_background": "light"
          }
        },
        {
          "output_type": "display_data",
          "data": {
            "image/png": "[encoded data removed]",
            "text/plain": [
              "<Figure size 432x288 with 1 Axes>"
            ]
          },
          "metadata": {
            "tags": [],
            "needs_background": "light"
          }
        },
        {
          "output_type": "display_data",
          "data": {
            "image/png": "[encoded data removed]",
            "text/plain": [
              "<Figure size 432x288 with 1 Axes>"
            ]
          },
          "metadata": {
            "tags": [],
            "needs_background": "light"
          }
        },
        {
          "output_type": "display_data",
          "data": {
            "image/png": "[encoded data removed]",
            "text/plain": [
              "<Figure size 432x288 with 1 Axes>"
            ]
          },
          "metadata": {
            "tags": [],
            "needs_background": "light"
          }
        },
        {
          "output_type": "display_data",
          "data": {
            "image/png": "[encoded data removed]",
            "text/plain": [
              "<Figure size 432x288 with 1 Axes>"
            ]
          },
          "metadata": {
            "tags": [],
            "needs_background": "light"
          }
        },
        {
          "output_type": "display_data",
          "data": {
            "image/png": "[encoded data removed]",
            "text/plain": [
              "<Figure size 432x288 with 1 Axes>"
            ]
          },
          "metadata": {
            "tags": [],
            "needs_background": "light"
          }
        },
        {
          "output_type": "display_data",
          "data": {
            "image/png": "[encoded data removed]",
            "text/plain": [
              "<Figure size 432x288 with 1 Axes>"
            ]
          },
          "metadata": {
            "tags": [],
            "needs_background": "light"
          }
        },
        {
          "output_type": "display_data",
          "data": {
            "image/png": "[encoded data removed]",
            "text/plain": [
              "<Figure size 432x288 with 1 Axes>"
            ]
          },
          "metadata": {
            "tags": [],
            "needs_background": "light"
          }
        },
        {
          "output_type": "display_data",
          "data": {
            "image/png": "[encoded data removed]",
            "text/plain": [
              "<Figure size 432x288 with 1 Axes>"
            ]
          },
          "metadata": {
            "tags": [],
            "needs_background": "light"
          }
        }
      ]
    },
    {
      "cell_type": "code",
      "metadata": {
        "id": "LFX85HH_Hp_6"
      },
      "source": [
        ""
      ],
      "execution_count": null,
      "outputs": []
    },
    {
      "cell_type": "code",
      "metadata": {
        "id": "U2HTbzPzHp_6"
      },
      "source": [
        ""
      ],
      "execution_count": null,
      "outputs": []
    },
    {
      "cell_type": "code",
      "metadata": {
        "id": "S39gedDAHp_6"
      },
      "source": [
        ""
      ],
      "execution_count": null,
      "outputs": []
    },
    {
      "cell_type": "code",
      "metadata": {
        "colab": {
          "base_uri": "https://localhost:8080/"
        },
        "id": "RqDpHzGHHp_6",
        "outputId": "283093b9-a097-4fec-f96b-a714cb8c9d8b"
      },
      "source": [
        "cat_cols=all_d.select_dtypes(['object']).columns\n",
        "cat_cols"
      ],
      "execution_count": null,
      "outputs": [
        {
          "output_type": "execute_result",
          "data": {
            "text/plain": [
              "Index(['BOROUGH', 'NEIGHBORHOOD', 'BUILDING CLASS AT TIME OF SALE', 'data'], dtype='object')"
            ]
          },
          "metadata": {
            "tags": []
          },
          "execution_count": 114
        }
      ]
    },
    {
      "cell_type": "code",
      "metadata": {
        "colab": {
          "base_uri": "https://localhost:8080/"
        },
        "id": "rEnE1nVZHp_7",
        "outputId": "74d59674-448e-41ec-cb86-ebd9e7c07d44"
      },
      "source": [
        "cat_cols=cat_cols[:-1]\n",
        "cat_cols"
      ],
      "execution_count": null,
      "outputs": [
        {
          "output_type": "execute_result",
          "data": {
            "text/plain": [
              "Index(['BOROUGH', 'NEIGHBORHOOD', 'BUILDING CLASS AT TIME OF SALE'], dtype='object')"
            ]
          },
          "metadata": {
            "tags": []
          },
          "execution_count": 115
        }
      ]
    },
    {
      "cell_type": "code",
      "metadata": {
        "colab": {
          "base_uri": "https://localhost:8080/"
        },
        "id": "lOciiQWpHp_7",
        "outputId": "52d98860-185f-4b8d-ef15-8f17cd757ddf"
      },
      "source": [
        "all_d['BOROUGH'].value_counts()"
      ],
      "execution_count": null,
      "outputs": [
        {
          "output_type": "execute_result",
          "data": {
            "text/plain": [
              "Queens           22115\n",
              "Brooklyn         20886\n",
              "Manhattan        14569\n",
              "Staten Island     6725\n",
              "Bronx             5723\n",
              "Name: BOROUGH, dtype: int64"
            ]
          },
          "metadata": {
            "tags": []
          },
          "execution_count": 116
        }
      ]
    },
    {
      "cell_type": "code",
      "metadata": {
        "colab": {
          "base_uri": "https://localhost:8080/"
        },
        "id": "KwYmezytHp_7",
        "outputId": "bacbeb2f-4b43-48b2-feb8-4eddca0f485e"
      },
      "source": [
        "all_d['NEIGHBORHOOD'].value_counts()"
      ],
      "execution_count": null,
      "outputs": [
        {
          "output_type": "execute_result",
          "data": {
            "text/plain": [
              "Queens_Neighborhood           22169\n",
              "Brooklyn_Neighborhood         20886\n",
              "Manhattan_Neighborhood        14569\n",
              "Staten Island_Neighborhood     6671\n",
              "Bronx_Neighborhood             5723\n",
              "Name: NEIGHBORHOOD, dtype: int64"
            ]
          },
          "metadata": {
            "tags": []
          },
          "execution_count": 117
        }
      ]
    },
    {
      "cell_type": "code",
      "metadata": {
        "colab": {
          "base_uri": "https://localhost:8080/"
        },
        "id": "1tm-P568Hp_8",
        "outputId": "a1d77a30-4259-4e70-b0e4-46a06951d583"
      },
      "source": [
        "all_d['BUILDING CLASS AT TIME OF SALE'].value_counts()"
      ],
      "execution_count": null,
      "outputs": [
        {
          "output_type": "execute_result",
          "data": {
            "text/plain": [
              "D4    12569\n",
              "R4    11937\n",
              "A1     5687\n",
              "A5     5625\n",
              "B1     4576\n",
              "B2     4330\n",
              "C0     4230\n",
              "B3     3506\n",
              "C6     2705\n",
              "A2     2188\n",
              "B9     1488\n",
              "A9     1359\n",
              "R3     1351\n",
              "R1     1246\n",
              "C3     1055\n",
              "R2      917\n",
              "V0      910\n",
              "S2      777\n",
              "C2      764\n",
              "A0      382\n",
              "S1      336\n",
              "D0      217\n",
              "A4      213\n",
              "R6      203\n",
              "S9      181\n",
              "S3      174\n",
              "C1      164\n",
              "G0      148\n",
              "A3      129\n",
              "S4      129\n",
              "C5      115\n",
              "S5       98\n",
              "A6       74\n",
              "R8       56\n",
              "C4       45\n",
              "R9       32\n",
              "C7       24\n",
              "S0       19\n",
              "Z0       13\n",
              "RR       11\n",
              "A7        9\n",
              "C8        7\n",
              "V3        6\n",
              "V2        3\n",
              "D1        2\n",
              "C9        2\n",
              "D6        2\n",
              "U1        2\n",
              "D5        1\n",
              "R7        1\n",
              "Name: BUILDING CLASS AT TIME OF SALE, dtype: int64"
            ]
          },
          "metadata": {
            "tags": []
          },
          "execution_count": 118
        }
      ]
    },
    {
      "cell_type": "code",
      "metadata": {
        "id": "TeWJ0t3vHp_8"
      },
      "source": [
        ""
      ],
      "execution_count": null,
      "outputs": []
    },
    {
      "cell_type": "code",
      "metadata": {
        "colab": {
          "base_uri": "https://localhost:8080/"
        },
        "id": "HaI9xwnHHp_8",
        "outputId": "0d756e8b-daf0-4fdd-bdef-df3b5414c792"
      },
      "source": [
        "for col in cat_cols:\n",
        "    freqs=all_d[col].value_counts()\n",
        "    k=freqs.index[freqs>5000][:-1]\n",
        "    for cat in k:\n",
        "        name=col+'_'+cat\n",
        "        all_d[name]=(all_d[col]==cat).astype(int)\n",
        "    del all_d[col]\n",
        "    print(col)"
      ],
      "execution_count": null,
      "outputs": [
        {
          "output_type": "stream",
          "text": [
            "BOROUGH\n",
            "NEIGHBORHOOD\n",
            "BUILDING CLASS AT TIME OF SALE\n"
          ],
          "name": "stdout"
        }
      ]
    },
    {
      "cell_type": "code",
      "metadata": {
        "colab": {
          "base_uri": "https://localhost:8080/"
        },
        "id": "ssFfBr1bHp_9",
        "outputId": "ee0185fa-6753-41ea-f522-f3247fb6acba"
      },
      "source": [
        "all_d.shape"
      ],
      "execution_count": null,
      "outputs": [
        {
          "output_type": "execute_result",
          "data": {
            "text/plain": [
              "(70018, 25)"
            ]
          },
          "metadata": {
            "tags": []
          },
          "execution_count": 120
        }
      ]
    },
    {
      "cell_type": "code",
      "metadata": {
        "colab": {
          "base_uri": "https://localhost:8080/"
        },
        "id": "hVWNBfcpHp_9",
        "outputId": "8bb0f32a-b729-4463-ade7-99e9b0bb60d8"
      },
      "source": [
        "all_d.dtypes"
      ],
      "execution_count": null,
      "outputs": [
        {
          "output_type": "execute_result",
          "data": {
            "text/plain": [
              "BLOCK                                        int64\n",
              "LOT                                          int64\n",
              "ZIP CODE                                     int64\n",
              "RESIDENTIAL UNITS                            int64\n",
              "TOTAL UNITS                                  int64\n",
              "LAND SQUARE FEET                           float64\n",
              "GROSS SQUARE FEET                          float64\n",
              "YEAR BUILT                                   int64\n",
              "TAX CLASS AT TIME OF SALE                    int64\n",
              "SALE PRICE                                 float64\n",
              "data                                        object\n",
              "YEAR SOLD                                    int64\n",
              "MONTH SOLD                                   int64\n",
              "DAY SOLD                                     int64\n",
              "BOROUGH_Queens                               int64\n",
              "BOROUGH_Brooklyn                             int64\n",
              "BOROUGH_Manhattan                            int64\n",
              "BOROUGH_Staten Island                        int64\n",
              "NEIGHBORHOOD_Queens_Neighborhood             int64\n",
              "NEIGHBORHOOD_Brooklyn_Neighborhood           int64\n",
              "NEIGHBORHOOD_Manhattan_Neighborhood          int64\n",
              "NEIGHBORHOOD_Staten Island_Neighborhood      int64\n",
              "BUILDING CLASS AT TIME OF SALE_D4            int64\n",
              "BUILDING CLASS AT TIME OF SALE_R4            int64\n",
              "BUILDING CLASS AT TIME OF SALE_A1            int64\n",
              "dtype: object"
            ]
          },
          "metadata": {
            "tags": []
          },
          "execution_count": 121
        }
      ]
    },
    {
      "cell_type": "code",
      "metadata": {
        "colab": {
          "base_uri": "https://localhost:8080/"
        },
        "id": "ZWTu-oc5Hp_9",
        "outputId": "d56afcda-9849-40a4-ab54-cc4dbea871fb"
      },
      "source": [
        "all_d.isnull().sum()"
      ],
      "execution_count": null,
      "outputs": [
        {
          "output_type": "execute_result",
          "data": {
            "text/plain": [
              "BLOCK                                          0\n",
              "LOT                                            0\n",
              "ZIP CODE                                       0\n",
              "RESIDENTIAL UNITS                              0\n",
              "TOTAL UNITS                                    0\n",
              "LAND SQUARE FEET                               0\n",
              "GROSS SQUARE FEET                              0\n",
              "YEAR BUILT                                     0\n",
              "TAX CLASS AT TIME OF SALE                      0\n",
              "SALE PRICE                                 10605\n",
              "data                                           0\n",
              "YEAR SOLD                                      0\n",
              "MONTH SOLD                                     0\n",
              "DAY SOLD                                       0\n",
              "BOROUGH_Queens                                 0\n",
              "BOROUGH_Brooklyn                               0\n",
              "BOROUGH_Manhattan                              0\n",
              "BOROUGH_Staten Island                          0\n",
              "NEIGHBORHOOD_Queens_Neighborhood               0\n",
              "NEIGHBORHOOD_Brooklyn_Neighborhood             0\n",
              "NEIGHBORHOOD_Manhattan_Neighborhood            0\n",
              "NEIGHBORHOOD_Staten Island_Neighborhood        0\n",
              "BUILDING CLASS AT TIME OF SALE_D4              0\n",
              "BUILDING CLASS AT TIME OF SALE_R4              0\n",
              "BUILDING CLASS AT TIME OF SALE_A1              0\n",
              "dtype: int64"
            ]
          },
          "metadata": {
            "tags": []
          },
          "execution_count": 122
        }
      ]
    },
    {
      "cell_type": "code",
      "metadata": {
        "id": "UrjCocaVHp_-"
      },
      "source": [
        "for col in all_d.columns:\n",
        "    if (col not in ['SALE PRICE','data'])& (all_d[col].isnull().sum()>0):\n",
        "        all_d.loc[all_d[col].isnull(),col]=all_d.loc[all_d['data']=='train',col].mean()"
      ],
      "execution_count": null,
      "outputs": []
    },
    {
      "cell_type": "code",
      "metadata": {
        "colab": {
          "base_uri": "https://localhost:8080/"
        },
        "id": "atHa6rFEHp_-",
        "outputId": "da5082c0-fef2-467b-b61c-a03a7bb29cce"
      },
      "source": [
        "all_d.isnull().sum()"
      ],
      "execution_count": null,
      "outputs": [
        {
          "output_type": "execute_result",
          "data": {
            "text/plain": [
              "BLOCK                                          0\n",
              "LOT                                            0\n",
              "ZIP CODE                                       0\n",
              "RESIDENTIAL UNITS                              0\n",
              "TOTAL UNITS                                    0\n",
              "LAND SQUARE FEET                               0\n",
              "GROSS SQUARE FEET                              0\n",
              "YEAR BUILT                                     0\n",
              "TAX CLASS AT TIME OF SALE                      0\n",
              "SALE PRICE                                 10605\n",
              "data                                           0\n",
              "YEAR SOLD                                      0\n",
              "MONTH SOLD                                     0\n",
              "DAY SOLD                                       0\n",
              "BOROUGH_Queens                                 0\n",
              "BOROUGH_Brooklyn                               0\n",
              "BOROUGH_Manhattan                              0\n",
              "BOROUGH_Staten Island                          0\n",
              "NEIGHBORHOOD_Queens_Neighborhood               0\n",
              "NEIGHBORHOOD_Brooklyn_Neighborhood             0\n",
              "NEIGHBORHOOD_Manhattan_Neighborhood            0\n",
              "NEIGHBORHOOD_Staten Island_Neighborhood        0\n",
              "BUILDING CLASS AT TIME OF SALE_D4              0\n",
              "BUILDING CLASS AT TIME OF SALE_R4              0\n",
              "BUILDING CLASS AT TIME OF SALE_A1              0\n",
              "dtype: int64"
            ]
          },
          "metadata": {
            "tags": []
          },
          "execution_count": 124
        }
      ]
    },
    {
      "cell_type": "code",
      "metadata": {
        "colab": {
          "base_uri": "https://localhost:8080/"
        },
        "id": "4V1Pmm_UHp_-",
        "outputId": "a1736939-b685-4313-eced-b671b72308cc"
      },
      "source": [
        "for i in all_d.select_dtypes('number').columns:\n",
        "    print(i, all_d[i].skew())"
      ],
      "execution_count": null,
      "outputs": [
        {
          "output_type": "stream",
          "text": [
            "BLOCK 0.8236092467489958\n",
            "LOT 1.5266018616915926\n",
            "ZIP CODE -0.53501262676705\n",
            "RESIDENTIAL UNITS 0.8453250785226867\n",
            "TOTAL UNITS 0.9226328802465646\n",
            "LAND SQUARE FEET 0.3907068605117445\n",
            "GROSS SQUARE FEET 0.9655341399750452\n",
            "YEAR BUILT 0.5126594226412708\n",
            "TAX CLASS AT TIME OF SALE 0.1468739265309015\n",
            "SALE PRICE 15.479634098189747\n",
            "YEAR SOLD -0.6512898457826289\n",
            "MONTH SOLD 0.014197454143418024\n",
            "DAY SOLD -0.04795286644110719\n",
            "BOROUGH_Queens 0.7923227708318208\n",
            "BOROUGH_Brooklyn 0.88177219574798\n",
            "BOROUGH_Manhattan 1.4383297402769029\n",
            "BOROUGH_Staten Island 2.741928611804798\n",
            "NEIGHBORHOOD_Queens_Neighborhood 0.7884875473138955\n",
            "NEIGHBORHOOD_Brooklyn_Neighborhood 0.88177219574798\n",
            "NEIGHBORHOOD_Manhattan_Neighborhood 1.4383297402769029\n",
            "NEIGHBORHOOD_Staten Island_Neighborhood 2.7570840080977073\n",
            "BUILDING CLASS AT TIME OF SALE_D4 1.6702079728427628\n",
            "BUILDING CLASS AT TIME OF SALE_R4 1.752507572743141\n",
            "BUILDING CLASS AT TIME OF SALE_A1 3.066063349761422\n"
          ],
          "name": "stdout"
        }
      ]
    },
    {
      "cell_type": "code",
      "metadata": {
        "colab": {
          "base_uri": "https://localhost:8080/",
          "height": 298
        },
        "id": "tQyVWmUtVmrr",
        "outputId": "a56904c3-c936-4efe-932c-5c6a5d2b7f62"
      },
      "source": [
        "all_d.head()"
      ],
      "execution_count": null,
      "outputs": [
        {
          "output_type": "execute_result",
          "data": {
            "text/html": [
              "<div>\n",
              "<style scoped>\n",
              "    .dataframe tbody tr th:only-of-type {\n",
              "        vertical-align: middle;\n",
              "    }\n",
              "\n",
              "    .dataframe tbody tr th {\n",
              "        vertical-align: top;\n",
              "    }\n",
              "\n",
              "    .dataframe thead th {\n",
              "        text-align: right;\n",
              "    }\n",
              "</style>\n",
              "<table border=\"1\" class=\"dataframe\">\n",
              "  <thead>\n",
              "    <tr style=\"text-align: right;\">\n",
              "      <th></th>\n",
              "      <th>BLOCK</th>\n",
              "      <th>LOT</th>\n",
              "      <th>ZIP CODE</th>\n",
              "      <th>RESIDENTIAL UNITS</th>\n",
              "      <th>TOTAL UNITS</th>\n",
              "      <th>LAND SQUARE FEET</th>\n",
              "      <th>GROSS SQUARE FEET</th>\n",
              "      <th>YEAR BUILT</th>\n",
              "      <th>TAX CLASS AT TIME OF SALE</th>\n",
              "      <th>SALE PRICE</th>\n",
              "      <th>data</th>\n",
              "      <th>YEAR SOLD</th>\n",
              "      <th>MONTH SOLD</th>\n",
              "      <th>DAY SOLD</th>\n",
              "      <th>BOROUGH_Queens</th>\n",
              "      <th>BOROUGH_Brooklyn</th>\n",
              "      <th>BOROUGH_Manhattan</th>\n",
              "      <th>BOROUGH_Staten Island</th>\n",
              "      <th>NEIGHBORHOOD_Queens_Neighborhood</th>\n",
              "      <th>NEIGHBORHOOD_Brooklyn_Neighborhood</th>\n",
              "      <th>NEIGHBORHOOD_Manhattan_Neighborhood</th>\n",
              "      <th>NEIGHBORHOOD_Staten Island_Neighborhood</th>\n",
              "      <th>BUILDING CLASS AT TIME OF SALE_D4</th>\n",
              "      <th>BUILDING CLASS AT TIME OF SALE_R4</th>\n",
              "      <th>BUILDING CLASS AT TIME OF SALE_A1</th>\n",
              "    </tr>\n",
              "  </thead>\n",
              "  <tbody>\n",
              "    <tr>\n",
              "      <th>2</th>\n",
              "      <td>404</td>\n",
              "      <td>55</td>\n",
              "      <td>10009</td>\n",
              "      <td>6</td>\n",
              "      <td>6</td>\n",
              "      <td>2369.000000</td>\n",
              "      <td>4615.000000</td>\n",
              "      <td>1900</td>\n",
              "      <td>2</td>\n",
              "      <td>8000000.0</td>\n",
              "      <td>train</td>\n",
              "      <td>2016</td>\n",
              "      <td>11</td>\n",
              "      <td>17</td>\n",
              "      <td>0</td>\n",
              "      <td>0</td>\n",
              "      <td>1</td>\n",
              "      <td>0</td>\n",
              "      <td>0</td>\n",
              "      <td>0</td>\n",
              "      <td>1</td>\n",
              "      <td>0</td>\n",
              "      <td>0</td>\n",
              "      <td>0</td>\n",
              "      <td>0</td>\n",
              "    </tr>\n",
              "    <tr>\n",
              "      <th>3</th>\n",
              "      <td>406</td>\n",
              "      <td>32</td>\n",
              "      <td>10009</td>\n",
              "      <td>8</td>\n",
              "      <td>8</td>\n",
              "      <td>1750.000000</td>\n",
              "      <td>4226.000000</td>\n",
              "      <td>1920</td>\n",
              "      <td>2</td>\n",
              "      <td>3192840.0</td>\n",
              "      <td>train</td>\n",
              "      <td>2016</td>\n",
              "      <td>9</td>\n",
              "      <td>23</td>\n",
              "      <td>0</td>\n",
              "      <td>0</td>\n",
              "      <td>1</td>\n",
              "      <td>0</td>\n",
              "      <td>0</td>\n",
              "      <td>0</td>\n",
              "      <td>1</td>\n",
              "      <td>0</td>\n",
              "      <td>0</td>\n",
              "      <td>0</td>\n",
              "      <td>0</td>\n",
              "    </tr>\n",
              "    <tr>\n",
              "      <th>6</th>\n",
              "      <td>373</td>\n",
              "      <td>40</td>\n",
              "      <td>10009</td>\n",
              "      <td>5</td>\n",
              "      <td>5</td>\n",
              "      <td>3749.825806</td>\n",
              "      <td>1641.106452</td>\n",
              "      <td>1920</td>\n",
              "      <td>2</td>\n",
              "      <td>1.0</td>\n",
              "      <td>train</td>\n",
              "      <td>2016</td>\n",
              "      <td>9</td>\n",
              "      <td>6</td>\n",
              "      <td>0</td>\n",
              "      <td>0</td>\n",
              "      <td>1</td>\n",
              "      <td>0</td>\n",
              "      <td>0</td>\n",
              "      <td>0</td>\n",
              "      <td>1</td>\n",
              "      <td>0</td>\n",
              "      <td>0</td>\n",
              "      <td>0</td>\n",
              "      <td>0</td>\n",
              "    </tr>\n",
              "    <tr>\n",
              "      <th>7</th>\n",
              "      <td>373</td>\n",
              "      <td>40</td>\n",
              "      <td>10009</td>\n",
              "      <td>5</td>\n",
              "      <td>5</td>\n",
              "      <td>3749.825806</td>\n",
              "      <td>1641.106452</td>\n",
              "      <td>1920</td>\n",
              "      <td>2</td>\n",
              "      <td>499000.0</td>\n",
              "      <td>train</td>\n",
              "      <td>2017</td>\n",
              "      <td>3</td>\n",
              "      <td>10</td>\n",
              "      <td>0</td>\n",
              "      <td>0</td>\n",
              "      <td>1</td>\n",
              "      <td>0</td>\n",
              "      <td>0</td>\n",
              "      <td>0</td>\n",
              "      <td>1</td>\n",
              "      <td>0</td>\n",
              "      <td>0</td>\n",
              "      <td>0</td>\n",
              "      <td>0</td>\n",
              "    </tr>\n",
              "    <tr>\n",
              "      <th>8</th>\n",
              "      <td>373</td>\n",
              "      <td>40</td>\n",
              "      <td>10009</td>\n",
              "      <td>5</td>\n",
              "      <td>5</td>\n",
              "      <td>3749.825806</td>\n",
              "      <td>1641.106452</td>\n",
              "      <td>1920</td>\n",
              "      <td>2</td>\n",
              "      <td>10.0</td>\n",
              "      <td>train</td>\n",
              "      <td>2017</td>\n",
              "      <td>4</td>\n",
              "      <td>28</td>\n",
              "      <td>0</td>\n",
              "      <td>0</td>\n",
              "      <td>1</td>\n",
              "      <td>0</td>\n",
              "      <td>0</td>\n",
              "      <td>0</td>\n",
              "      <td>1</td>\n",
              "      <td>0</td>\n",
              "      <td>0</td>\n",
              "      <td>0</td>\n",
              "      <td>0</td>\n",
              "    </tr>\n",
              "  </tbody>\n",
              "</table>\n",
              "</div>"
            ],
            "text/plain": [
              "   BLOCK  ...  BUILDING CLASS AT TIME OF SALE_A1\n",
              "2    404  ...                                  0\n",
              "3    406  ...                                  0\n",
              "6    373  ...                                  0\n",
              "7    373  ...                                  0\n",
              "8    373  ...                                  0\n",
              "\n",
              "[5 rows x 25 columns]"
            ]
          },
          "metadata": {
            "tags": []
          },
          "execution_count": 126
        }
      ]
    },
    {
      "cell_type": "code",
      "metadata": {
        "id": "Eo5eLhOZVmfI"
      },
      "source": [
        "from sklearn.preprocessing import StandardScaler"
      ],
      "execution_count": null,
      "outputs": []
    },
    {
      "cell_type": "code",
      "metadata": {
        "id": "AfnkxpblVmYj"
      },
      "source": [
        "ss = StandardScaler()\n",
        "all_d[['BLOCK','LOT','ZIP CODE','RESIDENTIAL UNITS','TOTAL UNITS','LAND SQUARE FEET',\t\n",
        "       'GROSS SQUARE FEET','YEAR BUILT','TAX CLASS AT TIME OF SALE',\n",
        "       'SALE PRICE','YEAR SOLD','MONTH SOLD','DAY SOLD']] = ss.fit_transform(all_d[['BLOCK','LOT','ZIP CODE','RESIDENTIAL UNITS','TOTAL UNITS','LAND SQUARE FEET',\t\n",
        "       'GROSS SQUARE FEET','YEAR BUILT','TAX CLASS AT TIME OF SALE',\n",
        "       'SALE PRICE','YEAR SOLD','MONTH SOLD','DAY SOLD']])"
      ],
      "execution_count": null,
      "outputs": []
    },
    {
      "cell_type": "code",
      "metadata": {
        "colab": {
          "base_uri": "https://localhost:8080/",
          "height": 264
        },
        "id": "q1RQdbfkVmTA",
        "outputId": "41906ec2-e433-48d2-c0c9-cf1733ad5582"
      },
      "source": [
        "all_d.head()"
      ],
      "execution_count": null,
      "outputs": [
        {
          "output_type": "execute_result",
          "data": {
            "text/html": [
              "<div>\n",
              "<style scoped>\n",
              "    .dataframe tbody tr th:only-of-type {\n",
              "        vertical-align: middle;\n",
              "    }\n",
              "\n",
              "    .dataframe tbody tr th {\n",
              "        vertical-align: top;\n",
              "    }\n",
              "\n",
              "    .dataframe thead th {\n",
              "        text-align: right;\n",
              "    }\n",
              "</style>\n",
              "<table border=\"1\" class=\"dataframe\">\n",
              "  <thead>\n",
              "    <tr style=\"text-align: right;\">\n",
              "      <th></th>\n",
              "      <th>BLOCK</th>\n",
              "      <th>LOT</th>\n",
              "      <th>ZIP CODE</th>\n",
              "      <th>RESIDENTIAL UNITS</th>\n",
              "      <th>TOTAL UNITS</th>\n",
              "      <th>LAND SQUARE FEET</th>\n",
              "      <th>GROSS SQUARE FEET</th>\n",
              "      <th>YEAR BUILT</th>\n",
              "      <th>TAX CLASS AT TIME OF SALE</th>\n",
              "      <th>SALE PRICE</th>\n",
              "      <th>data</th>\n",
              "      <th>YEAR SOLD</th>\n",
              "      <th>MONTH SOLD</th>\n",
              "      <th>DAY SOLD</th>\n",
              "      <th>BOROUGH_Queens</th>\n",
              "      <th>BOROUGH_Brooklyn</th>\n",
              "      <th>BOROUGH_Manhattan</th>\n",
              "      <th>BOROUGH_Staten Island</th>\n",
              "      <th>NEIGHBORHOOD_Queens_Neighborhood</th>\n",
              "      <th>NEIGHBORHOOD_Brooklyn_Neighborhood</th>\n",
              "      <th>NEIGHBORHOOD_Manhattan_Neighborhood</th>\n",
              "      <th>NEIGHBORHOOD_Staten Island_Neighborhood</th>\n",
              "      <th>BUILDING CLASS AT TIME OF SALE_D4</th>\n",
              "      <th>BUILDING CLASS AT TIME OF SALE_R4</th>\n",
              "      <th>BUILDING CLASS AT TIME OF SALE_A1</th>\n",
              "    </tr>\n",
              "  </thead>\n",
              "  <tbody>\n",
              "    <tr>\n",
              "      <th>2</th>\n",
              "      <td>-1.135312</td>\n",
              "      <td>-0.517358</td>\n",
              "      <td>-1.549869</td>\n",
              "      <td>2.100820</td>\n",
              "      <td>2.133519</td>\n",
              "      <td>-0.278058</td>\n",
              "      <td>1.450250</td>\n",
              "      <td>-1.466171</td>\n",
              "      <td>1.075634</td>\n",
              "      <td>3.715248</td>\n",
              "      <td>train</td>\n",
              "      <td>-1.377322</td>\n",
              "      <td>1.289581</td>\n",
              "      <td>0.080001</td>\n",
              "      <td>0</td>\n",
              "      <td>0</td>\n",
              "      <td>1</td>\n",
              "      <td>0</td>\n",
              "      <td>0</td>\n",
              "      <td>0</td>\n",
              "      <td>1</td>\n",
              "      <td>0</td>\n",
              "      <td>0</td>\n",
              "      <td>0</td>\n",
              "      <td>0</td>\n",
              "    </tr>\n",
              "    <tr>\n",
              "      <th>3</th>\n",
              "      <td>-1.134709</td>\n",
              "      <td>-0.561964</td>\n",
              "      <td>-1.549869</td>\n",
              "      <td>3.280371</td>\n",
              "      <td>3.318924</td>\n",
              "      <td>-0.952405</td>\n",
              "      <td>1.222149</td>\n",
              "      <td>-0.869456</td>\n",
              "      <td>1.075634</td>\n",
              "      <td>1.206513</td>\n",
              "      <td>train</td>\n",
              "      <td>-1.377322</td>\n",
              "      <td>0.712514</td>\n",
              "      <td>0.761645</td>\n",
              "      <td>0</td>\n",
              "      <td>0</td>\n",
              "      <td>1</td>\n",
              "      <td>0</td>\n",
              "      <td>0</td>\n",
              "      <td>0</td>\n",
              "      <td>1</td>\n",
              "      <td>0</td>\n",
              "      <td>0</td>\n",
              "      <td>0</td>\n",
              "      <td>0</td>\n",
              "    </tr>\n",
              "    <tr>\n",
              "      <th>6</th>\n",
              "      <td>-1.144655</td>\n",
              "      <td>-0.546449</td>\n",
              "      <td>-1.549869</td>\n",
              "      <td>1.511045</td>\n",
              "      <td>1.540817</td>\n",
              "      <td>1.226234</td>\n",
              "      <td>-0.293575</td>\n",
              "      <td>-0.869456</td>\n",
              "      <td>1.075634</td>\n",
              "      <td>-0.459748</td>\n",
              "      <td>train</td>\n",
              "      <td>-1.377322</td>\n",
              "      <td>0.712514</td>\n",
              "      <td>-1.169679</td>\n",
              "      <td>0</td>\n",
              "      <td>0</td>\n",
              "      <td>1</td>\n",
              "      <td>0</td>\n",
              "      <td>0</td>\n",
              "      <td>0</td>\n",
              "      <td>1</td>\n",
              "      <td>0</td>\n",
              "      <td>0</td>\n",
              "      <td>0</td>\n",
              "      <td>0</td>\n",
              "    </tr>\n",
              "    <tr>\n",
              "      <th>7</th>\n",
              "      <td>-1.144655</td>\n",
              "      <td>-0.546449</td>\n",
              "      <td>-1.549869</td>\n",
              "      <td>1.511045</td>\n",
              "      <td>1.540817</td>\n",
              "      <td>1.226234</td>\n",
              "      <td>-0.293575</td>\n",
              "      <td>-0.869456</td>\n",
              "      <td>1.075634</td>\n",
              "      <td>-0.199333</td>\n",
              "      <td>train</td>\n",
              "      <td>0.726046</td>\n",
              "      <td>-1.018685</td>\n",
              "      <td>-0.715250</td>\n",
              "      <td>0</td>\n",
              "      <td>0</td>\n",
              "      <td>1</td>\n",
              "      <td>0</td>\n",
              "      <td>0</td>\n",
              "      <td>0</td>\n",
              "      <td>1</td>\n",
              "      <td>0</td>\n",
              "      <td>0</td>\n",
              "      <td>0</td>\n",
              "      <td>0</td>\n",
              "    </tr>\n",
              "    <tr>\n",
              "      <th>8</th>\n",
              "      <td>-1.144655</td>\n",
              "      <td>-0.546449</td>\n",
              "      <td>-1.549869</td>\n",
              "      <td>1.511045</td>\n",
              "      <td>1.540817</td>\n",
              "      <td>1.226234</td>\n",
              "      <td>-0.293575</td>\n",
              "      <td>-0.869456</td>\n",
              "      <td>1.075634</td>\n",
              "      <td>-0.459744</td>\n",
              "      <td>train</td>\n",
              "      <td>0.726046</td>\n",
              "      <td>-0.730151</td>\n",
              "      <td>1.329681</td>\n",
              "      <td>0</td>\n",
              "      <td>0</td>\n",
              "      <td>1</td>\n",
              "      <td>0</td>\n",
              "      <td>0</td>\n",
              "      <td>0</td>\n",
              "      <td>1</td>\n",
              "      <td>0</td>\n",
              "      <td>0</td>\n",
              "      <td>0</td>\n",
              "      <td>0</td>\n",
              "    </tr>\n",
              "  </tbody>\n",
              "</table>\n",
              "</div>"
            ],
            "text/plain": [
              "      BLOCK  ...  BUILDING CLASS AT TIME OF SALE_A1\n",
              "2 -1.135312  ...                                  0\n",
              "3 -1.134709  ...                                  0\n",
              "6 -1.144655  ...                                  0\n",
              "7 -1.144655  ...                                  0\n",
              "8 -1.144655  ...                                  0\n",
              "\n",
              "[5 rows x 25 columns]"
            ]
          },
          "metadata": {
            "tags": []
          },
          "execution_count": 129
        }
      ]
    },
    {
      "cell_type": "code",
      "metadata": {
        "colab": {
          "base_uri": "https://localhost:8080/",
          "height": 1000
        },
        "id": "UTL-5FsXVmM9",
        "outputId": "87496327-b485-47ae-fc5b-42d1d399c126"
      },
      "source": [
        "num_cols = all_d.select_dtypes('number')\n",
        "for i in num_cols.columns:\n",
        "    sns.boxplot(x=all_d[i],data=all_d)\n",
        "    plt.show() "
      ],
      "execution_count": null,
      "outputs": [
        {
          "output_type": "display_data",
          "data": {
            "image/png": "[encoded data removed]",
            "text/plain": [
              "<Figure size 432x288 with 1 Axes>"
            ]
          },
          "metadata": {
            "tags": [],
            "needs_background": "light"
          }
        },
        {
          "output_type": "display_data",
          "data": {
            "image/png": "[encoded data removed]",
            "text/plain": [
              "<Figure size 432x288 with 1 Axes>"
            ]
          },
          "metadata": {
            "tags": [],
            "needs_background": "light"
          }
        },
        {
          "output_type": "display_data",
          "data": {
            "image/png": "[encoded data removed]",
            "text/plain": [
              "<Figure size 432x288 with 1 Axes>"
            ]
          },
          "metadata": {
            "tags": [],
            "needs_background": "light"
          }
        },
        {
          "output_type": "display_data",
          "data": {
            "image/png": "[encoded data removed]",
            "text/plain": [
              "<Figure size 432x288 with 1 Axes>"
            ]
          },
          "metadata": {
            "tags": [],
            "needs_background": "light"
          }
        },
        {
          "output_type": "display_data",
          "data": {
            "image/png": "[encoded data removed]",
            "text/plain": [
              "<Figure size 432x288 with 1 Axes>"
            ]
          },
          "metadata": {
            "tags": [],
            "needs_background": "light"
          }
        },
        {
          "output_type": "display_data",
          "data": {
            "image/png": "[encoded data removed]",
            "text/plain": [
              "<Figure size 432x288 with 1 Axes>"
            ]
          },
          "metadata": {
            "tags": [],
            "needs_background": "light"
          }
        },
        {
          "output_type": "display_data",
          "data": {
            "image/png": "[encoded data removed]",
            "text/plain": [
              "<Figure size 432x288 with 1 Axes>"
            ]
          },
          "metadata": {
            "tags": [],
            "needs_background": "light"
          }
        },
        {
          "output_type": "display_data",
          "data": {
            "image/png": "[encoded data removed]",
            "text/plain": [
              "<Figure size 432x288 with 1 Axes>"
            ]
          },
          "metadata": {
            "tags": [],
            "needs_background": "light"
          }
        },
        {
          "output_type": "display_data",
          "data": {
            "image/png": "[encoded data removed]",
            "text/plain": [
              "<Figure size 432x288 with 1 Axes>"
            ]
          },
          "metadata": {
            "tags": [],
            "needs_background": "light"
          }
        },
        {
          "output_type": "display_data",
          "data": {
            "image/png": "[encoded data removed]",
            "text/plain": [
              "<Figure size 432x288 with 1 Axes>"
            ]
          },
          "metadata": {
            "tags": [],
            "needs_background": "light"
          }
        },
        {
          "output_type": "display_data",
          "data": {
            "image/png": "[encoded data removed]",
            "text/plain": [
              "<Figure size 432x288 with 1 Axes>"
            ]
          },
          "metadata": {
            "tags": [],
            "needs_background": "light"
          }
        },
        {
          "output_type": "display_data",
          "data": {
            "image/png": "[encoded data removed]",
            "text/plain": [
              "<Figure size 432x288 with 1 Axes>"
            ]
          },
          "metadata": {
            "tags": [],
            "needs_background": "light"
          }
        },
        {
          "output_type": "display_data",
          "data": {
            "image/png": "[encoded data removed]",
            "text/plain": [
              "<Figure size 432x288 with 1 Axes>"
            ]
          },
          "metadata": {
            "tags": [],
            "needs_background": "light"
          }
        },
        {
          "output_type": "display_data",
          "data": {
            "image/png": "[encoded data removed]",
            "text/plain": [
              "<Figure size 432x288 with 1 Axes>"
            ]
          },
          "metadata": {
            "tags": [],
            "needs_background": "light"
          }
        },
        {
          "output_type": "display_data",
          "data": {
            "image/png": "[encoded data removed]",
            "text/plain": [
              "<Figure size 432x288 with 1 Axes>"
            ]
          },
          "metadata": {
            "tags": [],
            "needs_background": "light"
          }
        },
        {
          "output_type": "display_data",
          "data": {
            "image/png": "[encoded data removed]",
            "text/plain": [
              "<Figure size 432x288 with 1 Axes>"
            ]
          },
          "metadata": {
            "tags": [],
            "needs_background": "light"
          }
        },
        {
          "output_type": "display_data",
          "data": {
            "image/png": "[encoded data removed]",
            "text/plain": [
              "<Figure size 432x288 with 1 Axes>"
            ]
          },
          "metadata": {
            "tags": [],
            "needs_background": "light"
          }
        },
        {
          "output_type": "display_data",
          "data": {
            "image/png": "[encoded data removed]",
            "text/plain": [
              "<Figure size 432x288 with 1 Axes>"
            ]
          },
          "metadata": {
            "tags": [],
            "needs_background": "light"
          }
        },
        {
          "output_type": "display_data",
          "data": {
            "image/png": "[encoded data removed]",
            "text/plain": [
              "<Figure size 432x288 with 1 Axes>"
            ]
          },
          "metadata": {
            "tags": [],
            "needs_background": "light"
          }
        },
        {
          "output_type": "display_data",
          "data": {
            "image/png": "[encoded data removed]",
            "text/plain": [
              "<Figure size 432x288 with 1 Axes>"
            ]
          },
          "metadata": {
            "tags": [],
            "needs_background": "light"
          }
        },
        {
          "output_type": "display_data",
          "data": {
            "image/png": "[encoded data removed]",
            "text/plain": [
              "<Figure size 432x288 with 1 Axes>"
            ]
          },
          "metadata": {
            "tags": [],
            "needs_background": "light"
          }
        },
        {
          "output_type": "display_data",
          "data": {
            "image/png": "[encoded data removed]",
            "text/plain": [
              "<Figure size 432x288 with 1 Axes>"
            ]
          },
          "metadata": {
            "tags": [],
            "needs_background": "light"
          }
        },
        {
          "output_type": "display_data",
          "data": {
            "image/png": "[encoded data removed]",
            "text/plain": [
              "<Figure size 432x288 with 1 Axes>"
            ]
          },
          "metadata": {
            "tags": [],
            "needs_background": "light"
          }
        },
        {
          "output_type": "display_data",
          "data": {
            "image/png": "[encoded data removed]",
            "text/plain": [
              "<Figure size 432x288 with 1 Axes>"
            ]
          },
          "metadata": {
            "tags": [],
            "needs_background": "light"
          }
        }
      ]
    },
    {
      "cell_type": "code",
      "metadata": {
        "id": "Aa7LhZ32V_VB"
      },
      "source": [
        ""
      ],
      "execution_count": null,
      "outputs": []
    },
    {
      "cell_type": "code",
      "metadata": {
        "id": "ghJzmfm1V_Oi"
      },
      "source": [
        "all_d['BLOCK'] = np.log1p(all_d['BLOCK'])\n",
        "all_d['LOT'] = np.log1p(all_d['LOT'])\n",
        "all_d['RESIDENTIAL UNITS'] = np.log1p(all_d['RESIDENTIAL UNITS'])\n",
        "all_d['TOTAL UNITS'] = np.log1p(all_d['TOTAL UNITS'])\n",
        "all_d['GROSS SQUARE FEET'] = np.log1p(all_d['GROSS SQUARE FEET'])\n",
        "all_d['TAX CLASS AT TIME OF SALE'] = np.log1p(all_d['TAX CLASS AT TIME OF SALE'])"
      ],
      "execution_count": null,
      "outputs": []
    },
    {
      "cell_type": "code",
      "metadata": {
        "colab": {
          "base_uri": "https://localhost:8080/",
          "height": 1000
        },
        "id": "Wqp8vPNmV_Hp",
        "outputId": "f4ab7f22-3317-4795-c6bf-0591fbdc8bbe"
      },
      "source": [
        "num_cols = all_d.select_dtypes('number')\n",
        "for i in num_cols.columns:\n",
        "    sns.boxplot(x=all_d[i],data=all_d)\n",
        "    plt.show() "
      ],
      "execution_count": null,
      "outputs": [
        {
          "output_type": "display_data",
          "data": {
            "image/png": "[encoded data removed]",
            "text/plain": [
              "<Figure size 432x288 with 1 Axes>"
            ]
          },
          "metadata": {
            "tags": [],
            "needs_background": "light"
          }
        },
        {
          "output_type": "display_data",
          "data": {
            "image/png": "[encoded data removed]",
            "text/plain": [
              "<Figure size 432x288 with 1 Axes>"
            ]
          },
          "metadata": {
            "tags": [],
            "needs_background": "light"
          }
        },
        {
          "output_type": "display_data",
          "data": {
            "image/png": "[encoded data removed]",
            "text/plain": [
              "<Figure size 432x288 with 1 Axes>"
            ]
          },
          "metadata": {
            "tags": [],
            "needs_background": "light"
          }
        },
        {
          "output_type": "display_data",
          "data": {
            "image/png": "[encoded data removed]",
            "text/plain": [
              "<Figure size 432x288 with 1 Axes>"
            ]
          },
          "metadata": {
            "tags": [],
            "needs_background": "light"
          }
        },
        {
          "output_type": "display_data",
          "data": {
            "image/png": "[encoded data removed]",
            "text/plain": [
              "<Figure size 432x288 with 1 Axes>"
            ]
          },
          "metadata": {
            "tags": [],
            "needs_background": "light"
          }
        },
        {
          "output_type": "display_data",
          "data": {
            "image/png": "[encoded data removed]",
            "text/plain": [
              "<Figure size 432x288 with 1 Axes>"
            ]
          },
          "metadata": {
            "tags": [],
            "needs_background": "light"
          }
        },
        {
          "output_type": "display_data",
          "data": {
            "image/png": "[encoded data removed]",
            "text/plain": [
              "<Figure size 432x288 with 1 Axes>"
            ]
          },
          "metadata": {
            "tags": [],
            "needs_background": "light"
          }
        },
        {
          "output_type": "display_data",
          "data": {
            "image/png": "[encoded data removed]",
            "text/plain": [
              "<Figure size 432x288 with 1 Axes>"
            ]
          },
          "metadata": {
            "tags": [],
            "needs_background": "light"
          }
        },
        {
          "output_type": "display_data",
          "data": {
            "image/png": "[encoded data removed]",
            "text/plain": [
              "<Figure size 432x288 with 1 Axes>"
            ]
          },
          "metadata": {
            "tags": [],
            "needs_background": "light"
          }
        },
        {
          "output_type": "display_data",
          "data": {
            "image/png": "[encoded data removed]",
            "text/plain": [
              "<Figure size 432x288 with 1 Axes>"
            ]
          },
          "metadata": {
            "tags": [],
            "needs_background": "light"
          }
        },
        {
          "output_type": "display_data",
          "data": {
            "image/png": "[encoded data removed]",
            "text/plain": [
              "<Figure size 432x288 with 1 Axes>"
            ]
          },
          "metadata": {
            "tags": [],
            "needs_background": "light"
          }
        },
        {
          "output_type": "display_data",
          "data": {
            "image/png": "[encoded data removed]",
            "text/plain": [
              "<Figure size 432x288 with 1 Axes>"
            ]
          },
          "metadata": {
            "tags": [],
            "needs_background": "light"
          }
        },
        {
          "output_type": "display_data",
          "data": {
            "image/png": "[encoded data removed]",
            "text/plain": [
              "<Figure size 432x288 with 1 Axes>"
            ]
          },
          "metadata": {
            "tags": [],
            "needs_background": "light"
          }
        },
        {
          "output_type": "display_data",
          "data": {
            "image/png": "[encoded data removed]",
            "text/plain": [
              "<Figure size 432x288 with 1 Axes>"
            ]
          },
          "metadata": {
            "tags": [],
            "needs_background": "light"
          }
        },
        {
          "output_type": "display_data",
          "data": {
            "image/png": "[encoded data removed]",
            "text/plain": [
              "<Figure size 432x288 with 1 Axes>"
            ]
          },
          "metadata": {
            "tags": [],
            "needs_background": "light"
          }
        },
        {
          "output_type": "display_data",
          "data": {
            "image/png": "[encoded data removed]",
            "text/plain": [
              "<Figure size 432x288 with 1 Axes>"
            ]
          },
          "metadata": {
            "tags": [],
            "needs_background": "light"
          }
        },
        {
          "output_type": "display_data",
          "data": {
            "image/png": "[encoded data removed]",
            "text/plain": [
              "<Figure size 432x288 with 1 Axes>"
            ]
          },
          "metadata": {
            "tags": [],
            "needs_background": "light"
          }
        },
        {
          "output_type": "display_data",
          "data": {
            "image/png": "[encoded data removed]",
            "text/plain": [
              "<Figure size 432x288 with 1 Axes>"
            ]
          },
          "metadata": {
            "tags": [],
            "needs_background": "light"
          }
        },
        {
          "output_type": "display_data",
          "data": {
            "image/png": "[encoded data removed]",
            "text/plain": [
              "<Figure size 432x288 with 1 Axes>"
            ]
          },
          "metadata": {
            "tags": [],
            "needs_background": "light"
          }
        },
        {
          "output_type": "display_data",
          "data": {
            "image/png": "[encoded data removed]",
            "text/plain": [
              "<Figure size 432x288 with 1 Axes>"
            ]
          },
          "metadata": {
            "tags": [],
            "needs_background": "light"
          }
        },
        {
          "output_type": "display_data",
          "data": {
            "image/png": "[encoded data removed]",
            "text/plain": [
              "<Figure size 432x288 with 1 Axes>"
            ]
          },
          "metadata": {
            "tags": [],
            "needs_background": "light"
          }
        },
        {
          "output_type": "display_data",
          "data": {
            "image/png": "[encoded data removed]",
            "text/plain": [
              "<Figure size 432x288 with 1 Axes>"
            ]
          },
          "metadata": {
            "tags": [],
            "needs_background": "light"
          }
        },
        {
          "output_type": "display_data",
          "data": {
            "image/png": "[encoded data removed]",
            "text/plain": [
              "<Figure size 432x288 with 1 Axes>"
            ]
          },
          "metadata": {
            "tags": [],
            "needs_background": "light"
          }
        },
        {
          "output_type": "display_data",
          "data": {
            "image/png": "[encoded data removed]",
            "text/plain": [
              "<Figure size 432x288 with 1 Axes>"
            ]
          },
          "metadata": {
            "tags": [],
            "needs_background": "light"
          }
        }
      ]
    },
    {
      "cell_type": "code",
      "metadata": {
        "id": "wI0_cn6BV_B4"
      },
      "source": [
        ""
      ],
      "execution_count": null,
      "outputs": []
    },
    {
      "cell_type": "code",
      "metadata": {
        "id": "gpYfzOvwVl_Q"
      },
      "source": [
        ""
      ],
      "execution_count": null,
      "outputs": []
    },
    {
      "cell_type": "code",
      "metadata": {
        "id": "R0wWeP0EHp__"
      },
      "source": [
        "all_d_train=all_d[all_d['data']=='train']\n",
        "del all_d_train['data']\n",
        "all_d_test=all_d[all_d['data']=='test']\n",
        "all_d_test.drop(['SALE PRICE','data'],axis=1,inplace=True)"
      ],
      "execution_count": null,
      "outputs": []
    },
    {
      "cell_type": "code",
      "metadata": {
        "id": "kxymUqaPHp__"
      },
      "source": [
        "del all_d"
      ],
      "execution_count": null,
      "outputs": []
    },
    {
      "cell_type": "code",
      "metadata": {
        "id": "fBK-Jc4KHp__"
      },
      "source": [
        "X = all_d_train.drop('SALE PRICE', axis=1)\n",
        "y= all_d_train['SALE PRICE']"
      ],
      "execution_count": null,
      "outputs": []
    },
    {
      "cell_type": "code",
      "metadata": {
        "id": "z5jhwBEZX8tp"
      },
      "source": [
        "y = np.log1p(y)"
      ],
      "execution_count": null,
      "outputs": []
    },
    {
      "cell_type": "code",
      "metadata": {
        "colab": {
          "base_uri": "https://localhost:8080/",
          "height": 297
        },
        "id": "qDmfwoZNYAa9",
        "outputId": "12f7568e-08f8-4dfd-97b0-ba316428340b"
      },
      "source": [
        "sns.boxplot(y)"
      ],
      "execution_count": null,
      "outputs": [
        {
          "output_type": "execute_result",
          "data": {
            "text/plain": [
              "<matplotlib.axes._subplots.AxesSubplot at 0x7eff9119c150>"
            ]
          },
          "metadata": {
            "tags": []
          },
          "execution_count": 137
        },
        {
          "output_type": "display_data",
          "data": {
            "image/png": "[encoded data removed]",
            "text/plain": [
              "<Figure size 432x288 with 1 Axes>"
            ]
          },
          "metadata": {
            "tags": [],
            "needs_background": "light"
          }
        }
      ]
    },
    {
      "cell_type": "code",
      "metadata": {
        "id": "bj_1NnNGHp__"
      },
      "source": [
        "from sklearn.model_selection import train_test_split\n",
        "\n",
        "X_train, X_test, y_train, y_test = train_test_split(X, y, test_size=0.3, random_state=42)"
      ],
      "execution_count": null,
      "outputs": []
    },
    {
      "cell_type": "code",
      "metadata": {
        "id": "QmR2bNH8HqAA"
      },
      "source": [
        "import xgboost as xgb"
      ],
      "execution_count": null,
      "outputs": []
    },
    {
      "cell_type": "code",
      "metadata": {
        "colab": {
          "base_uri": "https://localhost:8080/"
        },
        "id": "HTlPfAdMHqAA",
        "outputId": "88b34c91-9468-4449-9887-acd5655253c6"
      },
      "source": [
        "xgbr = xgb.XGBRegressor()\n",
        "xgbr.fit(X_train,y_train)"
      ],
      "execution_count": null,
      "outputs": [
        {
          "output_type": "stream",
          "text": [
            "[05:13:11] WARNING: /workspace/src/objective/regression_obj.cu:152: reg:linear is now deprecated in favor of reg:squarederror.\n"
          ],
          "name": "stdout"
        },
        {
          "output_type": "execute_result",
          "data": {
            "text/plain": [
              "XGBRegressor(base_score=0.5, booster='gbtree', colsample_bylevel=1,\n",
              "             colsample_bynode=1, colsample_bytree=1, gamma=0,\n",
              "             importance_type='gain', learning_rate=0.1, max_delta_step=0,\n",
              "             max_depth=3, min_child_weight=1, missing=None, n_estimators=100,\n",
              "             n_jobs=1, nthread=None, objective='reg:linear', random_state=0,\n",
              "             reg_alpha=0, reg_lambda=1, scale_pos_weight=1, seed=None,\n",
              "             silent=None, subsample=1, verbosity=1)"
            ]
          },
          "metadata": {
            "tags": []
          },
          "execution_count": 142
        }
      ]
    },
    {
      "cell_type": "code",
      "metadata": {
        "id": "Ouj41xkDHqAA"
      },
      "source": [
        "from sklearn.metrics import r2_score, mean_squared_error"
      ],
      "execution_count": null,
      "outputs": []
    },
    {
      "cell_type": "code",
      "metadata": {
        "colab": {
          "base_uri": "https://localhost:8080/"
        },
        "id": "nsFz3ClGHqAA",
        "outputId": "d14bc7a9-4d12-464d-8d79-3ceb44d21afe"
      },
      "source": [
        "y_train_pred = xgbr.predict(X_train)\n",
        "\n",
        "\n",
        "\n",
        "print('Train r2-score : ', r2_score(y_train, y_train_pred))\n",
        "print('Train RMSE : ', np.sqrt(mean_squared_error(y_train, y_train_pred)))\n",
        "\n",
        "\n",
        "y_test_pred = xgbr.predict(X_test)\n",
        "\n",
        "\n",
        "\n",
        "print('Test r2-score : ', r2_score(y_test, y_test_pred))\n",
        "print('Test RMSE : ', np.sqrt(mean_squared_error(y_test, y_test_pred)))"
      ],
      "execution_count": null,
      "outputs": [
        {
          "output_type": "stream",
          "text": [
            "Train r2-score :  0.5771895865074514\n",
            "Train RMSE :  0.26945470174680886\n",
            "Test r2-score :  0.5699035019048491\n",
            "Test RMSE :  0.27116044415393303\n"
          ],
          "name": "stdout"
        }
      ]
    },
    {
      "cell_type": "code",
      "metadata": {
        "id": "mHYqLTprHqAB"
      },
      "source": [
        "# Predicting target"
      ],
      "execution_count": null,
      "outputs": []
    },
    {
      "cell_type": "code",
      "metadata": {
        "colab": {
          "base_uri": "https://localhost:8080/"
        },
        "id": "EJOVrgzoHqAB",
        "outputId": "b501f27c-ba35-4a09-e6af-dc59abe52049"
      },
      "source": [
        "test_pred=xgbr.predict(all_d_test)\n",
        "test_pred"
      ],
      "execution_count": null,
      "outputs": [
        {
          "output_type": "execute_result",
          "data": {
            "text/plain": [
              "array([-0.09019578, -0.14834023, -0.09019578, ..., -0.2719475 ,\n",
              "       -0.28699827, -0.23980647], dtype=float32)"
            ]
          },
          "metadata": {
            "tags": []
          },
          "execution_count": 146
        }
      ]
    },
    {
      "cell_type": "code",
      "metadata": {
        "colab": {
          "base_uri": "https://localhost:8080/",
          "height": 194
        },
        "id": "txQwMnYKHqAB",
        "outputId": "bc08a53e-ef48-448d-ed3f-0173abd87633"
      },
      "source": [
        "pd.DataFrame(test_pred).head()"
      ],
      "execution_count": null,
      "outputs": [
        {
          "output_type": "execute_result",
          "data": {
            "text/html": [
              "<div>\n",
              "<style scoped>\n",
              "    .dataframe tbody tr th:only-of-type {\n",
              "        vertical-align: middle;\n",
              "    }\n",
              "\n",
              "    .dataframe tbody tr th {\n",
              "        vertical-align: top;\n",
              "    }\n",
              "\n",
              "    .dataframe thead th {\n",
              "        text-align: right;\n",
              "    }\n",
              "</style>\n",
              "<table border=\"1\" class=\"dataframe\">\n",
              "  <thead>\n",
              "    <tr style=\"text-align: right;\">\n",
              "      <th></th>\n",
              "      <th>0</th>\n",
              "    </tr>\n",
              "  </thead>\n",
              "  <tbody>\n",
              "    <tr>\n",
              "      <th>0</th>\n",
              "      <td>-0.090196</td>\n",
              "    </tr>\n",
              "    <tr>\n",
              "      <th>1</th>\n",
              "      <td>-0.148340</td>\n",
              "    </tr>\n",
              "    <tr>\n",
              "      <th>2</th>\n",
              "      <td>-0.090196</td>\n",
              "    </tr>\n",
              "    <tr>\n",
              "      <th>3</th>\n",
              "      <td>-0.092193</td>\n",
              "    </tr>\n",
              "    <tr>\n",
              "      <th>4</th>\n",
              "      <td>-0.092193</td>\n",
              "    </tr>\n",
              "  </tbody>\n",
              "</table>\n",
              "</div>"
            ],
            "text/plain": [
              "          0\n",
              "0 -0.090196\n",
              "1 -0.148340\n",
              "2 -0.090196\n",
              "3 -0.092193\n",
              "4 -0.092193"
            ]
          },
          "metadata": {
            "tags": []
          },
          "execution_count": 147
        }
      ]
    },
    {
      "cell_type": "code",
      "metadata": {
        "id": "JntFwmU-DFjt"
      },
      "source": [
        "# Grid Search"
      ],
      "execution_count": null,
      "outputs": []
    },
    {
      "cell_type": "code",
      "metadata": {
        "id": "9TD3TKaADFc5"
      },
      "source": [
        "from sklearn.model_selection import GridSearchCV"
      ],
      "execution_count": null,
      "outputs": []
    },
    {
      "cell_type": "markdown",
      "metadata": {
        "id": "HUKSCdqOgGkI"
      },
      "source": [
        "cv=3"
      ]
    },
    {
      "cell_type": "code",
      "metadata": {
        "colab": {
          "base_uri": "https://localhost:8080/"
        },
        "id": "gjKdHgNef69E",
        "outputId": "fc315a88-3e9e-4976-c962-3b76aedbac0a"
      },
      "source": [
        "xgbr = xgb.XGBRegressor()\n",
        "\n",
        "params = {\n",
        "        'learning_rate': [0.01, 0.1],\n",
        "        'max_depth': [3, 5, 7, 10],\n",
        "        'min_child_weight': [1, 3, 5],\n",
        "        'subsample': [0.5, 0.7],\n",
        "        'colsample_bytree': [0.5, 0.7],\n",
        "        'n_estimators' : [100, 200, 500],\n",
        "        'objective': ['reg:squarederror']\n",
        "    }\n",
        "gridsearch = GridSearchCV(estimator=xgbr, param_grid=params, cv=3, scoring='r2', n_jobs=-1,verbose = 1)\n",
        "\n",
        "gridsearch.fit(X,y)\n",
        "\n",
        "gridsearch.best_params_"
      ],
      "execution_count": null,
      "outputs": [
        {
          "output_type": "stream",
          "text": [
            "Fitting 3 folds for each of 288 candidates, totalling 864 fits\n"
          ],
          "name": "stdout"
        },
        {
          "output_type": "stream",
          "text": [
            "[Parallel(n_jobs=-1)]: Using backend LokyBackend with 2 concurrent workers.\n",
            "[Parallel(n_jobs=-1)]: Done  46 tasks      | elapsed:  2.5min\n",
            "[Parallel(n_jobs=-1)]: Done 196 tasks      | elapsed: 22.2min\n",
            "[Parallel(n_jobs=-1)]: Done 446 tasks      | elapsed: 53.4min\n",
            "[Parallel(n_jobs=-1)]: Done 796 tasks      | elapsed: 102.7min\n",
            "[Parallel(n_jobs=-1)]: Done 864 out of 864 | elapsed: 119.1min finished\n"
          ],
          "name": "stderr"
        },
        {
          "output_type": "execute_result",
          "data": {
            "text/plain": [
              "{'colsample_bytree': 0.5,\n",
              " 'learning_rate': 0.01,\n",
              " 'max_depth': 7,\n",
              " 'min_child_weight': 3,\n",
              " 'n_estimators': 500,\n",
              " 'objective': 'reg:squarederror',\n",
              " 'subsample': 0.7}"
            ]
          },
          "metadata": {
            "tags": []
          },
          "execution_count": 166
        }
      ]
    },
    {
      "cell_type": "code",
      "metadata": {
        "id": "1pKljFfdENUk"
      },
      "source": [
        "g_best_params = {'colsample_bytree': 0.5,\n",
        " 'learning_rate': 0.01,\n",
        " 'max_depth': 7,\n",
        " 'min_child_weight': 3,\n",
        " 'n_estimators': 500,\n",
        " 'objective': 'reg:squarederror',\n",
        " 'subsample': 0.7}\n"
      ],
      "execution_count": null,
      "outputs": []
    },
    {
      "cell_type": "code",
      "metadata": {
        "colab": {
          "base_uri": "https://localhost:8080/"
        },
        "id": "j490f7FQHHNy",
        "outputId": "fa38fbad-cee7-4af2-d107-1899d2bfb6db"
      },
      "source": [
        "xgbr = xgb.XGBRegressor(**g_best_params)\n",
        "\n",
        "xgbr.fit(X_train,y_train)\n",
        "\n",
        "y_train_pred = xgbr.predict(X_train)\n",
        "\n",
        "\n",
        "\n",
        "print('Train r2-score : ', r2_score(y_train, y_train_pred))\n",
        "print('Train RMSE : ', np.sqrt(mean_squared_error(y_train, y_train_pred)))\n",
        "\n",
        "\n",
        "y_test_pred = xgbr.predict(X_test)\n",
        "\n",
        "print('Test r2-score : ', r2_score(y_test, y_test_pred))\n",
        "print('Test RMSE : ', np.sqrt(mean_squared_error(y_test, y_test_pred)))"
      ],
      "execution_count": null,
      "outputs": [
        {
          "output_type": "stream",
          "text": [
            "Train r2-score :  0.7018199797688953\n",
            "Train RMSE :  0.22628314097760788\n",
            "Test r2-score :  0.6509571932164719\n",
            "Test RMSE :  0.2442770853787697\n"
          ],
          "name": "stdout"
        }
      ]
    },
    {
      "cell_type": "code",
      "metadata": {
        "colab": {
          "base_uri": "https://localhost:8080/"
        },
        "id": "gVLjT1aJHdoz",
        "outputId": "fdbe3a49-7c8c-4ae0-b7e2-a26aa922102d"
      },
      "source": [
        "test_pred=xgbr.predict(all_d_test)\n",
        "test_pred"
      ],
      "execution_count": null,
      "outputs": [
        {
          "output_type": "execute_result",
          "data": {
            "text/plain": [
              "array([-0.08081996, -0.13066977, -0.12004066, ..., -0.23410928,\n",
              "       -0.2508787 , -0.20903242], dtype=float32)"
            ]
          },
          "metadata": {
            "tags": []
          },
          "execution_count": 169
        }
      ]
    },
    {
      "cell_type": "code",
      "metadata": {
        "colab": {
          "base_uri": "https://localhost:8080/",
          "height": 194
        },
        "id": "3p0-lkAYHdSh",
        "outputId": "c8c5dc6b-428e-4a0a-810a-faaafb163488"
      },
      "source": [
        "pd.DataFrame(test_pred).head()"
      ],
      "execution_count": null,
      "outputs": [
        {
          "output_type": "execute_result",
          "data": {
            "text/html": [
              "<div>\n",
              "<style scoped>\n",
              "    .dataframe tbody tr th:only-of-type {\n",
              "        vertical-align: middle;\n",
              "    }\n",
              "\n",
              "    .dataframe tbody tr th {\n",
              "        vertical-align: top;\n",
              "    }\n",
              "\n",
              "    .dataframe thead th {\n",
              "        text-align: right;\n",
              "    }\n",
              "</style>\n",
              "<table border=\"1\" class=\"dataframe\">\n",
              "  <thead>\n",
              "    <tr style=\"text-align: right;\">\n",
              "      <th></th>\n",
              "      <th>0</th>\n",
              "    </tr>\n",
              "  </thead>\n",
              "  <tbody>\n",
              "    <tr>\n",
              "      <th>0</th>\n",
              "      <td>-0.080820</td>\n",
              "    </tr>\n",
              "    <tr>\n",
              "      <th>1</th>\n",
              "      <td>-0.130670</td>\n",
              "    </tr>\n",
              "    <tr>\n",
              "      <th>2</th>\n",
              "      <td>-0.120041</td>\n",
              "    </tr>\n",
              "    <tr>\n",
              "      <th>3</th>\n",
              "      <td>-0.122517</td>\n",
              "    </tr>\n",
              "    <tr>\n",
              "      <th>4</th>\n",
              "      <td>-0.122517</td>\n",
              "    </tr>\n",
              "  </tbody>\n",
              "</table>\n",
              "</div>"
            ],
            "text/plain": [
              "          0\n",
              "0 -0.080820\n",
              "1 -0.130670\n",
              "2 -0.120041\n",
              "3 -0.122517\n",
              "4 -0.122517"
            ]
          },
          "metadata": {
            "tags": []
          },
          "execution_count": 170
        }
      ]
    },
    {
      "cell_type": "markdown",
      "metadata": {
        "id": "90wjXpAwgDSg"
      },
      "source": [
        "Cv=5"
      ]
    },
    {
      "cell_type": "code",
      "metadata": {
        "colab": {
          "base_uri": "https://localhost:8080/",
          "height": 346
        },
        "id": "a61eY1JJDFVp",
        "outputId": "37517936-85e0-4c12-91db-b3c1495be552"
      },
      "source": [
        "xgbr = xgb.XGBRegressor()\n",
        "\n",
        "params = {\n",
        "        'learning_rate': [0.01, 0.1],\n",
        "        'max_depth': [3, 5, 7, 10],\n",
        "        'min_child_weight': [1, 3, 5],\n",
        "        'subsample': [0.5, 0.7],\n",
        "        'colsample_bytree': [0.5, 0.7],\n",
        "        'n_estimators' : [100, 200, 500],\n",
        "        'objective': ['reg:squarederror']\n",
        "    }\n",
        "gridsearch = GridSearchCV(estimator=xgbr, param_grid=params, cv=5, scoring='r2', n_jobs=-1,verbose = 1)\n",
        "\n",
        "gridsearch.fit(X,y)\n",
        "\n"
      ],
      "execution_count": null,
      "outputs": [
        {
          "output_type": "stream",
          "text": [
            "Fitting 5 folds for each of 288 candidates, totalling 1440 fits\n"
          ],
          "name": "stdout"
        },
        {
          "output_type": "stream",
          "text": [
            "[Parallel(n_jobs=-1)]: Using backend LokyBackend with 2 concurrent workers.\n",
            "[Parallel(n_jobs=-1)]: Done  46 tasks      | elapsed:  2.7min\n",
            "[Parallel(n_jobs=-1)]: Done 196 tasks      | elapsed: 17.7min\n",
            "[Parallel(n_jobs=-1)]: Done 446 tasks      | elapsed: 58.0min\n",
            "[Parallel(n_jobs=-1)]: Done 796 tasks      | elapsed: 109.5min\n",
            "[Parallel(n_jobs=-1)]: Done 1246 tasks      | elapsed: 187.0min\n",
            "[Parallel(n_jobs=-1)]: Done 1440 out of 1440 | elapsed: 235.1min finished\n"
          ],
          "name": "stderr"
        },
        {
          "output_type": "error",
          "ename": "NameError",
          "evalue": "ignored",
          "traceback": [
            "\u001b[0;31m---------------------------------------------------------------------------\u001b[0m",
            "\u001b[0;31mNameError\u001b[0m                                 Traceback (most recent call last)",
            "\u001b[0;32m<ipython-input-160-7aa7c41ec5cf>\u001b[0m in \u001b[0;36m<module>\u001b[0;34m()\u001b[0m\n\u001b[1;32m     14\u001b[0m \u001b[0mgridsearch\u001b[0m\u001b[0;34m.\u001b[0m\u001b[0mfit\u001b[0m\u001b[0;34m(\u001b[0m\u001b[0mX\u001b[0m\u001b[0;34m,\u001b[0m\u001b[0my\u001b[0m\u001b[0;34m)\u001b[0m\u001b[0;34m\u001b[0m\u001b[0;34m\u001b[0m\u001b[0m\n\u001b[1;32m     15\u001b[0m \u001b[0;34m\u001b[0m\u001b[0m\n\u001b[0;32m---> 16\u001b[0;31m \u001b[0mgsearch\u001b[0m\u001b[0;34m.\u001b[0m\u001b[0mbest_params_\u001b[0m\u001b[0;34m\u001b[0m\u001b[0;34m\u001b[0m\u001b[0m\n\u001b[0m",
            "\u001b[0;31mNameError\u001b[0m: name 'gsearch' is not defined"
          ]
        }
      ]
    },
    {
      "cell_type": "code",
      "metadata": {
        "colab": {
          "base_uri": "https://localhost:8080/"
        },
        "id": "BdbwX8hte0Ya",
        "outputId": "502c9c69-b473-4d8b-e70c-c83bbbce69ac"
      },
      "source": [
        "gridsearch.best_params_"
      ],
      "execution_count": null,
      "outputs": [
        {
          "output_type": "execute_result",
          "data": {
            "text/plain": [
              "{'colsample_bytree': 0.5,\n",
              " 'learning_rate': 0.1,\n",
              " 'max_depth': 5,\n",
              " 'min_child_weight': 3,\n",
              " 'n_estimators': 200,\n",
              " 'objective': 'reg:squarederror',\n",
              " 'subsample': 0.7}"
            ]
          },
          "metadata": {
            "tags": []
          },
          "execution_count": 161
        }
      ]
    },
    {
      "cell_type": "code",
      "metadata": {
        "id": "vLuhj09LDFP0"
      },
      "source": [
        "g_best_params = {'colsample_bytree': 0.5,\n",
        " 'learning_rate': 0.1,\n",
        " 'max_depth': 5,\n",
        " 'min_child_weight': 3,\n",
        " 'n_estimators': 200,\n",
        " 'objective': 'reg:squarederror',\n",
        " 'subsample': 0.7}"
      ],
      "execution_count": null,
      "outputs": []
    },
    {
      "cell_type": "code",
      "metadata": {
        "id": "2yNAOIJEDFBI",
        "colab": {
          "base_uri": "https://localhost:8080/"
        },
        "outputId": "851711eb-ce97-4ad8-88bf-bfe2b4beb82f"
      },
      "source": [
        "xgbr = xgb.XGBRegressor(**g_best_params)\n",
        "\n",
        "xgbr.fit(X_train,y_train)\n",
        "\n",
        "y_train_pred = xgbr.predict(X_train)\n",
        "\n",
        "\n",
        "\n",
        "print('Train r2-score : ', r2_score(y_train, y_train_pred))\n",
        "print('Train RMSE : ', np.sqrt(mean_squared_error(y_train, y_train_pred)))\n",
        "\n",
        "\n",
        "y_test_pred = xgbr.predict(X_test)\n",
        "\n",
        "print('Test r2-score : ', r2_score(y_test, y_test_pred))\n",
        "print('Test RMSE : ', np.sqrt(mean_squared_error(y_test, y_test_pred)))"
      ],
      "execution_count": null,
      "outputs": [
        {
          "output_type": "stream",
          "text": [
            "Train r2-score :  0.7079032827267039\n",
            "Train RMSE :  0.22396299501228098\n",
            "Test r2-score :  0.6553823618592547\n",
            "Test RMSE :  0.24272367230438863\n"
          ],
          "name": "stdout"
        }
      ]
    },
    {
      "cell_type": "code",
      "metadata": {
        "colab": {
          "base_uri": "https://localhost:8080/"
        },
        "id": "PqAulS3Jfmpg",
        "outputId": "2d7b1af2-81dc-4621-e7d0-61c2f2b73a33"
      },
      "source": [
        "test_pred=xgbr.predict(all_d_test)\n",
        "test_pred"
      ],
      "execution_count": null,
      "outputs": [
        {
          "output_type": "execute_result",
          "data": {
            "text/plain": [
              "array([-0.17187   , -0.17585653, -0.19510871, ..., -0.2394343 ,\n",
              "       -0.25993007, -0.23796785], dtype=float32)"
            ]
          },
          "metadata": {
            "tags": []
          },
          "execution_count": 164
        }
      ]
    },
    {
      "cell_type": "code",
      "metadata": {
        "colab": {
          "base_uri": "https://localhost:8080/",
          "height": 194
        },
        "id": "nwd4WmVdf3D4",
        "outputId": "9eee728b-2b24-4a33-fd93-6cc64f6ce345"
      },
      "source": [
        "pd.DataFrame(test_pred).head()"
      ],
      "execution_count": null,
      "outputs": [
        {
          "output_type": "execute_result",
          "data": {
            "text/html": [
              "<div>\n",
              "<style scoped>\n",
              "    .dataframe tbody tr th:only-of-type {\n",
              "        vertical-align: middle;\n",
              "    }\n",
              "\n",
              "    .dataframe tbody tr th {\n",
              "        vertical-align: top;\n",
              "    }\n",
              "\n",
              "    .dataframe thead th {\n",
              "        text-align: right;\n",
              "    }\n",
              "</style>\n",
              "<table border=\"1\" class=\"dataframe\">\n",
              "  <thead>\n",
              "    <tr style=\"text-align: right;\">\n",
              "      <th></th>\n",
              "      <th>0</th>\n",
              "    </tr>\n",
              "  </thead>\n",
              "  <tbody>\n",
              "    <tr>\n",
              "      <th>0</th>\n",
              "      <td>-0.171870</td>\n",
              "    </tr>\n",
              "    <tr>\n",
              "      <th>1</th>\n",
              "      <td>-0.175857</td>\n",
              "    </tr>\n",
              "    <tr>\n",
              "      <th>2</th>\n",
              "      <td>-0.195109</td>\n",
              "    </tr>\n",
              "    <tr>\n",
              "      <th>3</th>\n",
              "      <td>-0.190543</td>\n",
              "    </tr>\n",
              "    <tr>\n",
              "      <th>4</th>\n",
              "      <td>-0.190543</td>\n",
              "    </tr>\n",
              "  </tbody>\n",
              "</table>\n",
              "</div>"
            ],
            "text/plain": [
              "          0\n",
              "0 -0.171870\n",
              "1 -0.175857\n",
              "2 -0.195109\n",
              "3 -0.190543\n",
              "4 -0.190543"
            ]
          },
          "metadata": {
            "tags": []
          },
          "execution_count": 165
        }
      ]
    }
  ]
}