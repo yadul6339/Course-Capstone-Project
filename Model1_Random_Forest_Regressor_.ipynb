{
 "cells": [
  {
   "cell_type": "code",
   "execution_count": 3,
   "metadata": {
    "id": "1Sp1YAwNHp_q"
   },
   "outputs": [],
   "source": [
    "import numpy as np\n",
    "import pandas as pd\n",
    "import matplotlib.pyplot as plt\n",
    "import seaborn as sns\n",
    "\n",
    "#import warnings\n",
    "#warnings.filterwarnings('ignore')"
   ]
  },
  {
   "cell_type": "code",
   "execution_count": 4,
   "metadata": {
    "id": "JAjBx7q2Hp_t"
   },
   "outputs": [],
   "source": [
    "train = pd.read_csv('Train_NY_cleaned.csv')\n",
    "test = pd.read_csv('Test_NY_cleaned.csv')"
   ]
  },
  {
   "cell_type": "code",
   "execution_count": 4,
   "metadata": {
    "colab": {
     "base_uri": "https://localhost:8080/",
     "height": 203
    },
    "id": "2J7srnGSHp_u",
    "outputId": "ac7d6338-8453-4de6-8f4e-c06ad28d9d68"
   },
   "outputs": [
    {
     "data": {
      "text/html": [
       "<div>\n",
       "<style scoped>\n",
       "    .dataframe tbody tr th:only-of-type {\n",
       "        vertical-align: middle;\n",
       "    }\n",
       "\n",
       "    .dataframe tbody tr th {\n",
       "        vertical-align: top;\n",
       "    }\n",
       "\n",
       "    .dataframe thead th {\n",
       "        text-align: right;\n",
       "    }\n",
       "</style>\n",
       "<table border=\"1\" class=\"dataframe\">\n",
       "  <thead>\n",
       "    <tr style=\"text-align: right;\">\n",
       "      <th></th>\n",
       "      <th>Unnamed: 0</th>\n",
       "      <th>BOROUGH</th>\n",
       "      <th>NEIGHBORHOOD</th>\n",
       "      <th>BUILDING CLASS CATEGORY</th>\n",
       "      <th>BLOCK</th>\n",
       "      <th>LOT</th>\n",
       "      <th>ZIP CODE</th>\n",
       "      <th>RESIDENTIAL UNITS</th>\n",
       "      <th>TOTAL UNITS</th>\n",
       "      <th>LAND SQUARE FEET</th>\n",
       "      <th>GROSS SQUARE FEET</th>\n",
       "      <th>YEAR BUILT</th>\n",
       "      <th>TAX CLASS AT TIME OF SALE</th>\n",
       "      <th>BUILDING CLASS AT TIME OF SALE</th>\n",
       "      <th>SALE PRICE</th>\n",
       "      <th>SALE DATE</th>\n",
       "    </tr>\n",
       "  </thead>\n",
       "  <tbody>\n",
       "    <tr>\n",
       "      <th>0</th>\n",
       "      <td>0</td>\n",
       "      <td>1</td>\n",
       "      <td>ALPHABET CITY</td>\n",
       "      <td>RENTALS - WALKUP APARTMENTS</td>\n",
       "      <td>392</td>\n",
       "      <td>6</td>\n",
       "      <td>10009</td>\n",
       "      <td>5</td>\n",
       "      <td>5</td>\n",
       "      <td>1633.0</td>\n",
       "      <td>6440.0</td>\n",
       "      <td>1900</td>\n",
       "      <td>2</td>\n",
       "      <td>C2</td>\n",
       "      <td>6625000.0</td>\n",
       "      <td>2017-07-19</td>\n",
       "    </tr>\n",
       "    <tr>\n",
       "      <th>1</th>\n",
       "      <td>3</td>\n",
       "      <td>1</td>\n",
       "      <td>ALPHABET CITY</td>\n",
       "      <td>RENTALS - WALKUP APARTMENTS</td>\n",
       "      <td>402</td>\n",
       "      <td>21</td>\n",
       "      <td>10009</td>\n",
       "      <td>10</td>\n",
       "      <td>10</td>\n",
       "      <td>2272.0</td>\n",
       "      <td>6794.0</td>\n",
       "      <td>1913</td>\n",
       "      <td>2</td>\n",
       "      <td>C4</td>\n",
       "      <td>3936272.0</td>\n",
       "      <td>2016-09-23</td>\n",
       "    </tr>\n",
       "    <tr>\n",
       "      <th>2</th>\n",
       "      <td>4</td>\n",
       "      <td>1</td>\n",
       "      <td>ALPHABET CITY</td>\n",
       "      <td>RENTALS - WALKUP APARTMENTS</td>\n",
       "      <td>404</td>\n",
       "      <td>55</td>\n",
       "      <td>10009</td>\n",
       "      <td>6</td>\n",
       "      <td>6</td>\n",
       "      <td>2369.0</td>\n",
       "      <td>4615.0</td>\n",
       "      <td>1900</td>\n",
       "      <td>2</td>\n",
       "      <td>C2</td>\n",
       "      <td>8000000.0</td>\n",
       "      <td>2016-11-17</td>\n",
       "    </tr>\n",
       "  </tbody>\n",
       "</table>\n",
       "</div>"
      ],
      "text/plain": [
       "   Unnamed: 0  BOROUGH  ... SALE PRICE   SALE DATE\n",
       "0           0        1  ...  6625000.0  2017-07-19\n",
       "1           3        1  ...  3936272.0  2016-09-23\n",
       "2           4        1  ...  8000000.0  2016-11-17\n",
       "\n",
       "[3 rows x 16 columns]"
      ]
     },
     "execution_count": 4,
     "metadata": {
      "tags": []
     },
     "output_type": "execute_result"
    }
   ],
   "source": [
    "train.head(3)"
   ]
  },
  {
   "cell_type": "code",
   "execution_count": 5,
   "metadata": {
    "colab": {
     "base_uri": "https://localhost:8080/",
     "height": 203
    },
    "id": "N8SAkzUYHp_v",
    "outputId": "5a685889-4335-41f6-e206-e9bdd5f3f934"
   },
   "outputs": [
    {
     "data": {
      "text/html": [
       "<div>\n",
       "<style scoped>\n",
       "    .dataframe tbody tr th:only-of-type {\n",
       "        vertical-align: middle;\n",
       "    }\n",
       "\n",
       "    .dataframe tbody tr th {\n",
       "        vertical-align: top;\n",
       "    }\n",
       "\n",
       "    .dataframe thead th {\n",
       "        text-align: right;\n",
       "    }\n",
       "</style>\n",
       "<table border=\"1\" class=\"dataframe\">\n",
       "  <thead>\n",
       "    <tr style=\"text-align: right;\">\n",
       "      <th></th>\n",
       "      <th>Unnamed: 0</th>\n",
       "      <th>BOROUGH</th>\n",
       "      <th>NEIGHBORHOOD</th>\n",
       "      <th>BUILDING CLASS CATEGORY</th>\n",
       "      <th>BLOCK</th>\n",
       "      <th>LOT</th>\n",
       "      <th>ZIP CODE</th>\n",
       "      <th>RESIDENTIAL UNITS</th>\n",
       "      <th>TOTAL UNITS</th>\n",
       "      <th>LAND SQUARE FEET</th>\n",
       "      <th>GROSS SQUARE FEET</th>\n",
       "      <th>YEAR BUILT</th>\n",
       "      <th>TAX CLASS AT TIME OF SALE</th>\n",
       "      <th>BUILDING CLASS AT TIME OF SALE</th>\n",
       "      <th>SALE PRICE</th>\n",
       "      <th>SALE DATE</th>\n",
       "    </tr>\n",
       "  </thead>\n",
       "  <tbody>\n",
       "    <tr>\n",
       "      <th>0</th>\n",
       "      <td>1</td>\n",
       "      <td>1</td>\n",
       "      <td>ALPHABET CITY</td>\n",
       "      <td>RENTALS - WALKUP APARTMENTS</td>\n",
       "      <td>399</td>\n",
       "      <td>26</td>\n",
       "      <td>10009</td>\n",
       "      <td>28</td>\n",
       "      <td>31</td>\n",
       "      <td>4616.0</td>\n",
       "      <td>18690.0</td>\n",
       "      <td>1900</td>\n",
       "      <td>2</td>\n",
       "      <td>C7</td>\n",
       "      <td>NaN</td>\n",
       "      <td>2016-12-14</td>\n",
       "    </tr>\n",
       "    <tr>\n",
       "      <th>1</th>\n",
       "      <td>2</td>\n",
       "      <td>1</td>\n",
       "      <td>ALPHABET CITY</td>\n",
       "      <td>RENTALS - WALKUP APARTMENTS</td>\n",
       "      <td>399</td>\n",
       "      <td>39</td>\n",
       "      <td>10009</td>\n",
       "      <td>16</td>\n",
       "      <td>17</td>\n",
       "      <td>2212.0</td>\n",
       "      <td>7803.0</td>\n",
       "      <td>1900</td>\n",
       "      <td>2</td>\n",
       "      <td>C7</td>\n",
       "      <td>NaN</td>\n",
       "      <td>2016-12-09</td>\n",
       "    </tr>\n",
       "    <tr>\n",
       "      <th>2</th>\n",
       "      <td>5</td>\n",
       "      <td>1</td>\n",
       "      <td>ALPHABET CITY</td>\n",
       "      <td>RENTALS - WALKUP APARTMENTS</td>\n",
       "      <td>405</td>\n",
       "      <td>16</td>\n",
       "      <td>10009</td>\n",
       "      <td>20</td>\n",
       "      <td>20</td>\n",
       "      <td>2581.0</td>\n",
       "      <td>9730.0</td>\n",
       "      <td>1900</td>\n",
       "      <td>2</td>\n",
       "      <td>C4</td>\n",
       "      <td>NaN</td>\n",
       "      <td>2017-07-20</td>\n",
       "    </tr>\n",
       "  </tbody>\n",
       "</table>\n",
       "</div>"
      ],
      "text/plain": [
       "   Unnamed: 0  BOROUGH  ... SALE PRICE   SALE DATE\n",
       "0           1        1  ...        NaN  2016-12-14\n",
       "1           2        1  ...        NaN  2016-12-09\n",
       "2           5        1  ...        NaN  2017-07-20\n",
       "\n",
       "[3 rows x 16 columns]"
      ]
     },
     "execution_count": 5,
     "metadata": {
      "tags": []
     },
     "output_type": "execute_result"
    }
   ],
   "source": [
    "test.head(3)"
   ]
  },
  {
   "cell_type": "code",
   "execution_count": 6,
   "metadata": {
    "id": "Cw5LJD2-Hp_v"
   },
   "outputs": [],
   "source": [
    "a = train.columns\n",
    "b = test.columns"
   ]
  },
  {
   "cell_type": "code",
   "execution_count": 7,
   "metadata": {
    "colab": {
     "base_uri": "https://localhost:8080/"
    },
    "id": "12R386NJHp_w",
    "outputId": "f9dca039-eb56-4634-dc70-56c8fb4b6212"
   },
   "outputs": [
    {
     "data": {
      "text/plain": [
       "Index(['Unnamed: 0', 'BOROUGH', 'NEIGHBORHOOD', 'BUILDING CLASS CATEGORY',\n",
       "       'BLOCK', 'LOT', 'ZIP CODE', 'RESIDENTIAL UNITS', 'TOTAL UNITS',\n",
       "       'LAND SQUARE FEET', 'GROSS SQUARE FEET', 'YEAR BUILT',\n",
       "       'TAX CLASS AT TIME OF SALE', 'BUILDING CLASS AT TIME OF SALE',\n",
       "       'SALE PRICE', 'SALE DATE'],\n",
       "      dtype='object')"
      ]
     },
     "execution_count": 7,
     "metadata": {
      "tags": []
     },
     "output_type": "execute_result"
    }
   ],
   "source": [
    "a.intersection(b)"
   ]
  },
  {
   "cell_type": "code",
   "execution_count": 8,
   "metadata": {
    "id": "-zJCBo-MHp_w"
   },
   "outputs": [],
   "source": [
    "train['data']='train'\n",
    "test['data']='test'\n",
    "test=test[train.columns]\n",
    "all_d = pd.concat([train,test],axis=0)"
   ]
  },
  {
   "cell_type": "code",
   "execution_count": 9,
   "metadata": {
    "colab": {
     "base_uri": "https://localhost:8080/",
     "height": 295
    },
    "id": "EOj4nAXTHp_x",
    "outputId": "e024c066-7630-43e8-8dcb-23d5cf93452c"
   },
   "outputs": [
    {
     "data": {
      "text/html": [
       "<div>\n",
       "<style scoped>\n",
       "    .dataframe tbody tr th:only-of-type {\n",
       "        vertical-align: middle;\n",
       "    }\n",
       "\n",
       "    .dataframe tbody tr th {\n",
       "        vertical-align: top;\n",
       "    }\n",
       "\n",
       "    .dataframe thead th {\n",
       "        text-align: right;\n",
       "    }\n",
       "</style>\n",
       "<table border=\"1\" class=\"dataframe\">\n",
       "  <thead>\n",
       "    <tr style=\"text-align: right;\">\n",
       "      <th></th>\n",
       "      <th>Unnamed: 0</th>\n",
       "      <th>BOROUGH</th>\n",
       "      <th>NEIGHBORHOOD</th>\n",
       "      <th>BUILDING CLASS CATEGORY</th>\n",
       "      <th>BLOCK</th>\n",
       "      <th>LOT</th>\n",
       "      <th>ZIP CODE</th>\n",
       "      <th>RESIDENTIAL UNITS</th>\n",
       "      <th>TOTAL UNITS</th>\n",
       "      <th>LAND SQUARE FEET</th>\n",
       "      <th>GROSS SQUARE FEET</th>\n",
       "      <th>YEAR BUILT</th>\n",
       "      <th>TAX CLASS AT TIME OF SALE</th>\n",
       "      <th>BUILDING CLASS AT TIME OF SALE</th>\n",
       "      <th>SALE PRICE</th>\n",
       "      <th>SALE DATE</th>\n",
       "      <th>data</th>\n",
       "    </tr>\n",
       "  </thead>\n",
       "  <tbody>\n",
       "    <tr>\n",
       "      <th>0</th>\n",
       "      <td>0</td>\n",
       "      <td>1</td>\n",
       "      <td>ALPHABET CITY</td>\n",
       "      <td>RENTALS - WALKUP APARTMENTS</td>\n",
       "      <td>392</td>\n",
       "      <td>6</td>\n",
       "      <td>10009</td>\n",
       "      <td>5</td>\n",
       "      <td>5</td>\n",
       "      <td>1633.0</td>\n",
       "      <td>6440.0</td>\n",
       "      <td>1900</td>\n",
       "      <td>2</td>\n",
       "      <td>C2</td>\n",
       "      <td>6625000.0</td>\n",
       "      <td>2017-07-19</td>\n",
       "      <td>train</td>\n",
       "    </tr>\n",
       "    <tr>\n",
       "      <th>1</th>\n",
       "      <td>3</td>\n",
       "      <td>1</td>\n",
       "      <td>ALPHABET CITY</td>\n",
       "      <td>RENTALS - WALKUP APARTMENTS</td>\n",
       "      <td>402</td>\n",
       "      <td>21</td>\n",
       "      <td>10009</td>\n",
       "      <td>10</td>\n",
       "      <td>10</td>\n",
       "      <td>2272.0</td>\n",
       "      <td>6794.0</td>\n",
       "      <td>1913</td>\n",
       "      <td>2</td>\n",
       "      <td>C4</td>\n",
       "      <td>3936272.0</td>\n",
       "      <td>2016-09-23</td>\n",
       "      <td>train</td>\n",
       "    </tr>\n",
       "    <tr>\n",
       "      <th>2</th>\n",
       "      <td>4</td>\n",
       "      <td>1</td>\n",
       "      <td>ALPHABET CITY</td>\n",
       "      <td>RENTALS - WALKUP APARTMENTS</td>\n",
       "      <td>404</td>\n",
       "      <td>55</td>\n",
       "      <td>10009</td>\n",
       "      <td>6</td>\n",
       "      <td>6</td>\n",
       "      <td>2369.0</td>\n",
       "      <td>4615.0</td>\n",
       "      <td>1900</td>\n",
       "      <td>2</td>\n",
       "      <td>C2</td>\n",
       "      <td>8000000.0</td>\n",
       "      <td>2016-11-17</td>\n",
       "      <td>train</td>\n",
       "    </tr>\n",
       "    <tr>\n",
       "      <th>3</th>\n",
       "      <td>6</td>\n",
       "      <td>1</td>\n",
       "      <td>ALPHABET CITY</td>\n",
       "      <td>RENTALS - WALKUP APARTMENTS</td>\n",
       "      <td>406</td>\n",
       "      <td>32</td>\n",
       "      <td>10009</td>\n",
       "      <td>8</td>\n",
       "      <td>8</td>\n",
       "      <td>1750.0</td>\n",
       "      <td>4226.0</td>\n",
       "      <td>1920</td>\n",
       "      <td>2</td>\n",
       "      <td>C4</td>\n",
       "      <td>3192840.0</td>\n",
       "      <td>2016-09-23</td>\n",
       "      <td>train</td>\n",
       "    </tr>\n",
       "    <tr>\n",
       "      <th>4</th>\n",
       "      <td>9</td>\n",
       "      <td>1</td>\n",
       "      <td>ALPHABET CITY</td>\n",
       "      <td>RENTALS - ELEVATOR APARTMENTS</td>\n",
       "      <td>387</td>\n",
       "      <td>153</td>\n",
       "      <td>10009</td>\n",
       "      <td>24</td>\n",
       "      <td>24</td>\n",
       "      <td>4489.0</td>\n",
       "      <td>18523.0</td>\n",
       "      <td>1920</td>\n",
       "      <td>2</td>\n",
       "      <td>D9</td>\n",
       "      <td>16232000.0</td>\n",
       "      <td>2016-11-07</td>\n",
       "      <td>train</td>\n",
       "    </tr>\n",
       "  </tbody>\n",
       "</table>\n",
       "</div>"
      ],
      "text/plain": [
       "   Unnamed: 0  BOROUGH   NEIGHBORHOOD  ...  SALE PRICE   SALE DATE   data\n",
       "0           0        1  ALPHABET CITY  ...   6625000.0  2017-07-19  train\n",
       "1           3        1  ALPHABET CITY  ...   3936272.0  2016-09-23  train\n",
       "2           4        1  ALPHABET CITY  ...   8000000.0  2016-11-17  train\n",
       "3           6        1  ALPHABET CITY  ...   3192840.0  2016-09-23  train\n",
       "4           9        1  ALPHABET CITY  ...  16232000.0  2016-11-07  train\n",
       "\n",
       "[5 rows x 17 columns]"
      ]
     },
     "execution_count": 9,
     "metadata": {
      "tags": []
     },
     "output_type": "execute_result"
    }
   ],
   "source": [
    "all_d.head()"
   ]
  },
  {
   "cell_type": "code",
   "execution_count": 10,
   "metadata": {
    "colab": {
     "base_uri": "https://localhost:8080/"
    },
    "id": "3f8O6Ez6Hp_x",
    "outputId": "f2dda0e7-327c-4ed4-9d0a-5736eb97b169"
   },
   "outputs": [
    {
     "data": {
      "text/plain": [
       "Unnamed: 0                          int64\n",
       "BOROUGH                             int64\n",
       "NEIGHBORHOOD                       object\n",
       "BUILDING CLASS CATEGORY            object\n",
       "BLOCK                               int64\n",
       "LOT                                 int64\n",
       "ZIP CODE                            int64\n",
       "RESIDENTIAL UNITS                   int64\n",
       "TOTAL UNITS                         int64\n",
       "LAND SQUARE FEET                  float64\n",
       "GROSS SQUARE FEET                 float64\n",
       "YEAR BUILT                          int64\n",
       "TAX CLASS AT TIME OF SALE           int64\n",
       "BUILDING CLASS AT TIME OF SALE     object\n",
       "SALE PRICE                        float64\n",
       "SALE DATE                          object\n",
       "data                               object\n",
       "dtype: object"
      ]
     },
     "execution_count": 10,
     "metadata": {
      "tags": []
     },
     "output_type": "execute_result"
    }
   ],
   "source": [
    "all_d.dtypes"
   ]
  },
  {
   "cell_type": "code",
   "execution_count": 11,
   "metadata": {
    "id": "yQExQXUCHp_y"
   },
   "outputs": [],
   "source": [
    "all_d.drop(['Unnamed: 0','BUILDING CLASS CATEGORY'],axis=1,inplace=True)"
   ]
  },
  {
   "cell_type": "code",
   "execution_count": 12,
   "metadata": {
    "id": "QXXAGBqCHp_y"
   },
   "outputs": [],
   "source": [
    "all_d['SALE DATE'] = pd.to_datetime(all_d['SALE DATE'], errors='coerce')"
   ]
  },
  {
   "cell_type": "code",
   "execution_count": 13,
   "metadata": {
    "id": "4dJASsDmHp_z"
   },
   "outputs": [],
   "source": [
    "all_d['YEAR SOLD'] = all_d['SALE DATE'].apply(lambda x: x.year)\n",
    "all_d['MONTH SOLD'] = all_d['SALE DATE'].apply(lambda x: x.month)\n",
    "all_d['DAY SOLD'] = all_d['SALE DATE'].apply(lambda x: x.day)\n",
    "\n",
    "\n",
    "all_d = all_d.drop('SALE DATE', axis=1)"
   ]
  },
  {
   "cell_type": "code",
   "execution_count": 14,
   "metadata": {
    "id": "sVVx8nZiHp_z"
   },
   "outputs": [],
   "source": [
    "all_d['BOROUGH'] = all_d['BOROUGH'].astype(str)\n",
    "\n",
    "all_d['BOROUGH'] = all_d['BOROUGH'].str.replace(\"1\", \"Manhattan\")\n",
    "all_d['BOROUGH'] = all_d['BOROUGH'].str.replace(\"2\", \"Bronx\")\n",
    "all_d['BOROUGH'] = all_d['BOROUGH'].str.replace(\"3\", \"Brooklyn\")\n",
    "all_d['BOROUGH'] = all_d['BOROUGH'].str.replace(\"4\", \"Queens\")\n",
    "all_d['BOROUGH'] = all_d['BOROUGH'].str.replace(\"5\", \"Staten Island\")"
   ]
  },
  {
   "cell_type": "code",
   "execution_count": 15,
   "metadata": {
    "id": "kPUGc_99Hp_z"
   },
   "outputs": [],
   "source": [
    "all_d['NEIGHBORHOOD'] = all_d['NEIGHBORHOOD'].replace(['ALPHABET CITY', 'CHELSEA', 'CHINATOWN', 'CIVIC CENTER', 'CLINTON',\n",
    "       'EAST VILLAGE', 'FASHION', 'FINANCIAL', 'FLATIRON', 'GRAMERCY',\n",
    "       'GREENWICH VILLAGE-CENTRAL', 'GREENWICH VILLAGE-WEST',\n",
    "       'HARLEM-CENTRAL', 'HARLEM-EAST', 'HARLEM-UPPER', 'HARLEM-WEST',\n",
    "       'INWOOD', 'JAVITS CENTER', 'KIPS BAY', 'LITTLE ITALY',\n",
    "       'LOWER EAST SIDE', 'MANHATTAN VALLEY', 'MIDTOWN CBD',\n",
    "       'MIDTOWN EAST', 'MIDTOWN WEST', 'MORNINGSIDE HEIGHTS',\n",
    "       'MURRAY HILL', 'ROOSEVELT ISLAND', 'SOHO', 'SOUTHBRIDGE',\n",
    "       'TRIBECA', 'UPPER EAST SIDE (59-79)', 'UPPER EAST SIDE (79-96)',\n",
    "       'UPPER EAST SIDE (96-110)', 'UPPER WEST SIDE (59-79)',\n",
    "       'UPPER WEST SIDE (79-96)', 'UPPER WEST SIDE (96-116)',\n",
    "       'WASHINGTON HEIGHTS LOWER', 'WASHINGTON HEIGHTS UPPER'],\n",
    "                                                      'Manhattan_Neighborhood')"
   ]
  },
  {
   "cell_type": "code",
   "execution_count": 16,
   "metadata": {
    "id": "aY6StDwzHp_0"
   },
   "outputs": [],
   "source": [
    "all_d['NEIGHBORHOOD'] = all_d['NEIGHBORHOOD'].replace(['BATHGATE', 'BAYCHESTER', 'BEDFORD PARK/NORWOOD', 'BELMONT',\n",
    "       'BRONX PARK', 'BRONXDALE', 'CASTLE HILL/UNIONPORT', 'CITY ISLAND',\n",
    "       'CITY ISLAND-PELHAM STRIP', 'CO-OP CITY', 'COUNTRY CLUB',\n",
    "       'CROTONA PARK', 'EAST RIVER', 'EAST TREMONT', 'FIELDSTON',\n",
    "       'FORDHAM', 'HIGHBRIDGE/MORRIS HEIGHTS', 'HUNTS POINT',\n",
    "       'KINGSBRIDGE HTS/UNIV HTS', 'KINGSBRIDGE/JEROME PARK',\n",
    "       'MELROSE/CONCOURSE', 'MORRIS PARK/VAN NEST', 'MORRISANIA/LONGWOOD',\n",
    "       'MOTT HAVEN/PORT MORRIS', 'MOUNT HOPE/MOUNT EDEN', 'PARKCHESTER',\n",
    "       'PELHAM BAY', 'PELHAM GARDENS', 'PELHAM PARKWAY NORTH',\n",
    "       'PELHAM PARKWAY SOUTH', 'RIVERDALE', 'SCHUYLERVILLE/PELHAM BAY',\n",
    "       'SOUNDVIEW', 'THROGS NECK', 'VAN CORTLANDT PARK', 'WAKEFIELD',\n",
    "       'WESTCHESTER', 'WILLIAMSBRIDGE', 'WOODLAWN'],\n",
    "                                                      'Bronx_Neighborhood')"
   ]
  },
  {
   "cell_type": "code",
   "execution_count": 17,
   "metadata": {
    "id": "W1aVcNl7Hp_0"
   },
   "outputs": [],
   "source": [
    "all_d['NEIGHBORHOOD'] = all_d['NEIGHBORHOOD'].replace(['BATH BEACH', 'BAY RIDGE', 'BEDFORD STUYVESANT', 'BENSONHURST',\n",
    "       'BERGEN BEACH', 'BOERUM HILL', 'BOROUGH PARK', 'BRIGHTON BEACH',\n",
    "       'BROOKLYN HEIGHTS', 'BROWNSVILLE', 'BUSH TERMINAL', 'BUSHWICK',\n",
    "       'CANARSIE', 'CARROLL GARDENS', 'CLINTON HILL', 'COBBLE HILL',\n",
    "       'COBBLE HILL-WEST', 'CONEY ISLAND', 'CROWN HEIGHTS',\n",
    "       'CYPRESS HILLS', 'DOWNTOWN-FULTON FERRY', 'DOWNTOWN-FULTON MALL',\n",
    "       'DOWNTOWN-METROTECH', 'DYKER HEIGHTS', 'EAST NEW YORK',\n",
    "       'FLATBUSH-CENTRAL', 'FLATBUSH-EAST', 'FLATBUSH-LEFFERTS GARDEN',\n",
    "       'FLATBUSH-NORTH', 'FLATLANDS', 'FORT GREENE', 'GERRITSEN BEACH',\n",
    "       'GOWANUS', 'GRAVESEND', 'GREENPOINT', 'JAMAICA BAY', 'KENSINGTON',\n",
    "       'MADISON', 'MANHATTAN BEACH', 'MARINE PARK', 'MIDWOOD',\n",
    "       'MILL BASIN', 'NAVY YARD', 'OCEAN HILL', 'OCEAN PARKWAY-NORTH',\n",
    "       'OCEAN PARKWAY-SOUTH', 'OLD MILL BASIN', 'PARK SLOPE',\n",
    "       'PARK SLOPE SOUTH', 'PROSPECT HEIGHTS', 'RED HOOK', 'SEAGATE',\n",
    "       'SHEEPSHEAD BAY', 'SPRING CREEK', 'SUNSET PARK',\n",
    "       'WILLIAMSBURG-CENTRAL', 'WILLIAMSBURG-EAST', 'WILLIAMSBURG-NORTH',\n",
    "       'WILLIAMSBURG-SOUTH', 'WINDSOR TERRACE', 'WYCKOFF HEIGHTS'],\n",
    "                                                      'Brooklyn_Neighborhood')"
   ]
  },
  {
   "cell_type": "code",
   "execution_count": 18,
   "metadata": {
    "id": "IVkQjCPsHp_1"
   },
   "outputs": [],
   "source": [
    "all_d['NEIGHBORHOOD'] = all_d['NEIGHBORHOOD'].replace(['AIRPORT LA GUARDIA', 'ARVERNE', 'ASTORIA', 'BAYSIDE',\n",
    "       'BEECHHURST', 'BELLE HARBOR', 'BELLEROSE', 'BRIARWOOD',\n",
    "       'BROAD CHANNEL', 'CAMBRIA HEIGHTS', 'COLLEGE POINT', 'CORONA',\n",
    "       'DOUGLASTON', 'EAST ELMHURST', 'ELMHURST', 'FAR ROCKAWAY',\n",
    "       'FLORAL PARK', 'FLUSHING MEADOW PARK', 'FLUSHING-NORTH',\n",
    "       'FLUSHING-SOUTH', 'FOREST HILLS', 'FRESH MEADOWS', 'GLEN OAKS',\n",
    "       'GLENDALE', 'HAMMELS', 'HILLCREST', 'HOLLIS', 'HOLLIS HILLS',\n",
    "       'HOLLISWOOD', 'HOWARD BEACH', 'JACKSON HEIGHTS', 'JAMAICA',\n",
    "       'JAMAICA BAY', 'JAMAICA ESTATES', 'JAMAICA HILLS', 'KEW GARDENS',\n",
    "       'LAURELTON', 'LITTLE NECK', 'LONG ISLAND CITY', 'MASPETH',\n",
    "       'MIDDLE VILLAGE', 'NEPONSIT', 'OAKLAND GARDENS', 'OZONE PARK',\n",
    "       'QUEENS VILLAGE', 'REGO PARK', 'RICHMOND HILL', 'RIDGEWOOD',\n",
    "       'ROCKAWAY PARK', 'ROSEDALE', 'SO. JAMAICA-BAISLEY PARK',\n",
    "       'SOUTH JAMAICA', 'SOUTH OZONE PARK', 'SPRINGFIELD GARDENS',\n",
    "       'ST. ALBANS', 'SUNNYSIDE', 'WHITESTONE', 'WOODHAVEN', 'WOODSIDE'],\n",
    "                                                      'Queens_Neighborhood')"
   ]
  },
  {
   "cell_type": "code",
   "execution_count": 19,
   "metadata": {
    "id": "IAfbxWzTHp_1"
   },
   "outputs": [],
   "source": [
    "all_d['NEIGHBORHOOD'] = all_d['NEIGHBORHOOD'].replace(['ANNADALE', 'ARDEN HEIGHTS', 'ARROCHAR', 'ARROCHAR-SHORE ACRES',\n",
    "       'BLOOMFIELD', 'BULLS HEAD', 'CASTLETON CORNERS', 'CLOVE LAKES',\n",
    "       'CONCORD', 'CONCORD-FOX HILLS', 'DONGAN HILLS',\n",
    "       'DONGAN HILLS-COLONY', 'DONGAN HILLS-OLD TOWN', 'ELTINGVILLE',\n",
    "       'EMERSON HILL', 'FRESH KILLS', 'GRANT CITY', 'GRASMERE',\n",
    "       'GREAT KILLS', 'GREAT KILLS-BAY TERRACE', 'GRYMES HILL',\n",
    "       'HUGUENOT', 'LIVINGSTON', 'MANOR HEIGHTS', 'MARINERS HARBOR',\n",
    "       'MIDLAND BEACH', 'NEW BRIGHTON', 'NEW BRIGHTON-ST. GEORGE',\n",
    "       'NEW DORP', 'NEW DORP-BEACH', 'NEW DORP-HEIGHTS',\n",
    "       'NEW SPRINGVILLE', 'OAKWOOD', 'OAKWOOD-BEACH', 'PLEASANT PLAINS',\n",
    "       'PORT IVORY', 'PORT RICHMOND', 'PRINCES BAY', 'RICHMONDTOWN',\n",
    "       'RICHMONDTOWN-LIGHTHS HILL', 'ROSEBANK', 'ROSSVILLE',\n",
    "       'ROSSVILLE-CHARLESTON', 'ROSSVILLE-PORT MOBIL',\n",
    "       'ROSSVILLE-RICHMOND VALLEY', 'SILVER LAKE', 'SOUTH BEACH',\n",
    "       'STAPLETON', 'STAPLETON-CLIFTON', 'SUNNYSIDE', 'TODT HILL',\n",
    "       'TOMPKINSVILLE', 'TOTTENVILLE', 'TRAVIS', 'WEST NEW BRIGHTON',\n",
    "       'WESTERLEIGH', 'WILLOWBROOK', 'WOODROW'],\n",
    "                                                      'Staten Island_Neighborhood')"
   ]
  },
  {
   "cell_type": "code",
   "execution_count": 20,
   "metadata": {
    "colab": {
     "base_uri": "https://localhost:8080/",
     "height": 211
    },
    "id": "fNcsOz-DHp_3",
    "outputId": "9ecc4134-40d5-48e5-a4d6-2d35dd0fc902"
   },
   "outputs": [
    {
     "data": {
      "text/html": [
       "<div>\n",
       "<style scoped>\n",
       "    .dataframe tbody tr th:only-of-type {\n",
       "        vertical-align: middle;\n",
       "    }\n",
       "\n",
       "    .dataframe tbody tr th {\n",
       "        vertical-align: top;\n",
       "    }\n",
       "\n",
       "    .dataframe thead th {\n",
       "        text-align: right;\n",
       "    }\n",
       "</style>\n",
       "<table border=\"1\" class=\"dataframe\">\n",
       "  <thead>\n",
       "    <tr style=\"text-align: right;\">\n",
       "      <th></th>\n",
       "      <th>BOROUGH</th>\n",
       "      <th>NEIGHBORHOOD</th>\n",
       "      <th>BLOCK</th>\n",
       "      <th>LOT</th>\n",
       "      <th>ZIP CODE</th>\n",
       "      <th>RESIDENTIAL UNITS</th>\n",
       "      <th>TOTAL UNITS</th>\n",
       "      <th>LAND SQUARE FEET</th>\n",
       "      <th>GROSS SQUARE FEET</th>\n",
       "      <th>YEAR BUILT</th>\n",
       "      <th>TAX CLASS AT TIME OF SALE</th>\n",
       "      <th>BUILDING CLASS AT TIME OF SALE</th>\n",
       "      <th>SALE PRICE</th>\n",
       "      <th>data</th>\n",
       "      <th>YEAR SOLD</th>\n",
       "      <th>MONTH SOLD</th>\n",
       "      <th>DAY SOLD</th>\n",
       "    </tr>\n",
       "  </thead>\n",
       "  <tbody>\n",
       "    <tr>\n",
       "      <th>0</th>\n",
       "      <td>Manhattan</td>\n",
       "      <td>Manhattan_Neighborhood</td>\n",
       "      <td>392</td>\n",
       "      <td>6</td>\n",
       "      <td>10009</td>\n",
       "      <td>5</td>\n",
       "      <td>5</td>\n",
       "      <td>1633.0</td>\n",
       "      <td>6440.0</td>\n",
       "      <td>1900</td>\n",
       "      <td>2</td>\n",
       "      <td>C2</td>\n",
       "      <td>6625000.0</td>\n",
       "      <td>train</td>\n",
       "      <td>2017</td>\n",
       "      <td>7</td>\n",
       "      <td>19</td>\n",
       "    </tr>\n",
       "    <tr>\n",
       "      <th>1</th>\n",
       "      <td>Manhattan</td>\n",
       "      <td>Manhattan_Neighborhood</td>\n",
       "      <td>402</td>\n",
       "      <td>21</td>\n",
       "      <td>10009</td>\n",
       "      <td>10</td>\n",
       "      <td>10</td>\n",
       "      <td>2272.0</td>\n",
       "      <td>6794.0</td>\n",
       "      <td>1913</td>\n",
       "      <td>2</td>\n",
       "      <td>C4</td>\n",
       "      <td>3936272.0</td>\n",
       "      <td>train</td>\n",
       "      <td>2016</td>\n",
       "      <td>9</td>\n",
       "      <td>23</td>\n",
       "    </tr>\n",
       "    <tr>\n",
       "      <th>2</th>\n",
       "      <td>Manhattan</td>\n",
       "      <td>Manhattan_Neighborhood</td>\n",
       "      <td>404</td>\n",
       "      <td>55</td>\n",
       "      <td>10009</td>\n",
       "      <td>6</td>\n",
       "      <td>6</td>\n",
       "      <td>2369.0</td>\n",
       "      <td>4615.0</td>\n",
       "      <td>1900</td>\n",
       "      <td>2</td>\n",
       "      <td>C2</td>\n",
       "      <td>8000000.0</td>\n",
       "      <td>train</td>\n",
       "      <td>2016</td>\n",
       "      <td>11</td>\n",
       "      <td>17</td>\n",
       "    </tr>\n",
       "    <tr>\n",
       "      <th>3</th>\n",
       "      <td>Manhattan</td>\n",
       "      <td>Manhattan_Neighborhood</td>\n",
       "      <td>406</td>\n",
       "      <td>32</td>\n",
       "      <td>10009</td>\n",
       "      <td>8</td>\n",
       "      <td>8</td>\n",
       "      <td>1750.0</td>\n",
       "      <td>4226.0</td>\n",
       "      <td>1920</td>\n",
       "      <td>2</td>\n",
       "      <td>C4</td>\n",
       "      <td>3192840.0</td>\n",
       "      <td>train</td>\n",
       "      <td>2016</td>\n",
       "      <td>9</td>\n",
       "      <td>23</td>\n",
       "    </tr>\n",
       "    <tr>\n",
       "      <th>4</th>\n",
       "      <td>Manhattan</td>\n",
       "      <td>Manhattan_Neighborhood</td>\n",
       "      <td>387</td>\n",
       "      <td>153</td>\n",
       "      <td>10009</td>\n",
       "      <td>24</td>\n",
       "      <td>24</td>\n",
       "      <td>4489.0</td>\n",
       "      <td>18523.0</td>\n",
       "      <td>1920</td>\n",
       "      <td>2</td>\n",
       "      <td>D9</td>\n",
       "      <td>16232000.0</td>\n",
       "      <td>train</td>\n",
       "      <td>2016</td>\n",
       "      <td>11</td>\n",
       "      <td>7</td>\n",
       "    </tr>\n",
       "  </tbody>\n",
       "</table>\n",
       "</div>"
      ],
      "text/plain": [
       "     BOROUGH            NEIGHBORHOOD  BLOCK  ...  YEAR SOLD  MONTH SOLD  DAY SOLD\n",
       "0  Manhattan  Manhattan_Neighborhood    392  ...       2017           7        19\n",
       "1  Manhattan  Manhattan_Neighborhood    402  ...       2016           9        23\n",
       "2  Manhattan  Manhattan_Neighborhood    404  ...       2016          11        17\n",
       "3  Manhattan  Manhattan_Neighborhood    406  ...       2016           9        23\n",
       "4  Manhattan  Manhattan_Neighborhood    387  ...       2016          11         7\n",
       "\n",
       "[5 rows x 17 columns]"
      ]
     },
     "execution_count": 20,
     "metadata": {
      "tags": []
     },
     "output_type": "execute_result"
    }
   ],
   "source": [
    "all_d.head()"
   ]
  },
  {
   "cell_type": "code",
   "execution_count": 21,
   "metadata": {
    "colab": {
     "base_uri": "https://localhost:8080/"
    },
    "id": "sPKiDAA2Hp_3",
    "outputId": "2f6ff16e-8622-4f49-a448-9175226c246e"
   },
   "outputs": [
    {
     "data": {
      "text/plain": [
       "array(['Manhattan_Neighborhood', 'Bronx_Neighborhood',\n",
       "       'Brooklyn_Neighborhood', 'Queens_Neighborhood',\n",
       "       'Staten Island_Neighborhood'], dtype=object)"
      ]
     },
     "execution_count": 21,
     "metadata": {
      "tags": []
     },
     "output_type": "execute_result"
    }
   ],
   "source": [
    "all_d['NEIGHBORHOOD'].unique()"
   ]
  },
  {
   "cell_type": "code",
   "execution_count": 22,
   "metadata": {
    "colab": {
     "base_uri": "https://localhost:8080/"
    },
    "id": "uMUdwVlLHp_3",
    "outputId": "bbdc2b12-73fc-4a7e-e860-d0bac7016c83"
   },
   "outputs": [
    {
     "data": {
      "text/plain": [
       "BOROUGH                            object\n",
       "NEIGHBORHOOD                       object\n",
       "BLOCK                               int64\n",
       "LOT                                 int64\n",
       "ZIP CODE                            int64\n",
       "RESIDENTIAL UNITS                   int64\n",
       "TOTAL UNITS                         int64\n",
       "LAND SQUARE FEET                  float64\n",
       "GROSS SQUARE FEET                 float64\n",
       "YEAR BUILT                          int64\n",
       "TAX CLASS AT TIME OF SALE           int64\n",
       "BUILDING CLASS AT TIME OF SALE     object\n",
       "SALE PRICE                        float64\n",
       "data                               object\n",
       "YEAR SOLD                           int64\n",
       "MONTH SOLD                          int64\n",
       "DAY SOLD                            int64\n",
       "dtype: object"
      ]
     },
     "execution_count": 22,
     "metadata": {
      "tags": []
     },
     "output_type": "execute_result"
    }
   ],
   "source": [
    "all_d.dtypes"
   ]
  },
  {
   "cell_type": "code",
   "execution_count": 23,
   "metadata": {
    "colab": {
     "base_uri": "https://localhost:8080/",
     "height": 1000
    },
    "id": "OZQT4__NHp_4",
    "outputId": "b74bd93b-5840-4714-d321-1dce29146aea"
   },
   "outputs": [
    {
     "data": {
      "image/png": "[encoded data removed]",
      "text/plain": [
       "<Figure size 432x288 with 1 Axes>"
      ]
     },
     "metadata": {
      "needs_background": "light",
      "tags": []
     },
     "output_type": "display_data"
    },
    {
     "data": {
      "image/png": "[encoded data removed]",
      "text/plain": [
       "<Figure size 432x288 with 1 Axes>"
      ]
     },
     "metadata": {
      "needs_background": "light",
      "tags": []
     },
     "output_type": "display_data"
    },
    {
     "data": {
      "image/png": "[encoded data removed]",
      "text/plain": [
       "<Figure size 432x288 with 1 Axes>"
      ]
     },
     "metadata": {
      "needs_background": "light",
      "tags": []
     },
     "output_type": "display_data"
    },
    {
     "data": {
      "image/png": "[encoded data removed]",
      "text/plain": [
       "<Figure size 432x288 with 1 Axes>"
      ]
     },
     "metadata": {
      "needs_background": "light",
      "tags": []
     },
     "output_type": "display_data"
    },
    {
     "data": {
      "image/png": "[encoded data removed]",
      "text/plain": [
       "<Figure size 432x288 with 1 Axes>"
      ]
     },
     "metadata": {
      "needs_background": "light",
      "tags": []
     },
     "output_type": "display_data"
    },
    {
     "data": {
      "image/png": "[encoded data removed]",
      "text/plain": [
       "<Figure size 432x288 with 1 Axes>"
      ]
     },
     "metadata": {
      "needs_background": "light",
      "tags": []
     },
     "output_type": "display_data"
    },
    {
     "data": {
      "image/png": "[encoded data removed]",
      "text/plain": [
       "<Figure size 432x288 with 1 Axes>"
      ]
     },
     "metadata": {
      "needs_background": "light",
      "tags": []
     },
     "output_type": "display_data"
    },
    {
     "data": {
      "image/png": "[encoded data removed]",
      "text/plain": [
       "<Figure size 432x288 with 1 Axes>"
      ]
     },
     "metadata": {
      "needs_background": "light",
      "tags": []
     },
     "output_type": "display_data"
    },
    {
     "data": {
      "image/png": "[encoded data removed]",
      "text/plain": [
       "<Figure size 432x288 with 1 Axes>"
      ]
     },
     "metadata": {
      "needs_background": "light",
      "tags": []
     },
     "output_type": "display_data"
    },
    {
     "data": {
      "image/png": "[encoded data removed]",
      "text/plain": [
       "<Figure size 432x288 with 1 Axes>"
      ]
     },
     "metadata": {
      "needs_background": "light",
      "tags": []
     },
     "output_type": "display_data"
    },
    {
     "data": {
      "image/png": "[encoded data removed]",
      "text/plain": [
       "<Figure size 432x288 with 1 Axes>"
      ]
     },
     "metadata": {
      "needs_background": "light",
      "tags": []
     },
     "output_type": "display_data"
    },
    {
     "data": {
      "image/png": "[encoded data removed]",
      "text/plain": [
       "<Figure size 432x288 with 1 Axes>"
      ]
     },
     "metadata": {
      "needs_background": "light",
      "tags": []
     },
     "output_type": "display_data"
    },
    {
     "data": {
      "image/png": "[encoded data removed]",
      "text/plain": [
       "<Figure size 432x288 with 1 Axes>"
      ]
     },
     "metadata": {
      "needs_background": "light",
      "tags": []
     },
     "output_type": "display_data"
    }
   ],
   "source": [
    "num_cols = all_d.select_dtypes('number')\n",
    "for i in num_cols.columns:\n",
    "    sns.boxplot(x=all_d[i],data=all_d)\n",
    "    plt.show() "
   ]
  },
  {
   "cell_type": "code",
   "execution_count": 24,
   "metadata": {
    "colab": {
     "base_uri": "https://localhost:8080/"
    },
    "id": "OiwE6Vv6Hp_4",
    "outputId": "9ecd62cb-046e-48a0-eaf6-94d97e1b661c"
   },
   "outputs": [
    {
     "name": "stdout",
     "output_type": "stream",
     "text": [
      "BLOCK                        4958.250000\n",
      "LOT                           979.000000\n",
      "ZIP CODE                     1051.000000\n",
      "RESIDENTIAL UNITS               4.000000\n",
      "TOTAL UNITS                     4.000000\n",
      "LAND SQUARE FEET             1375.767566\n",
      "GROSS SQUARE FEET            2063.671133\n",
      "YEAR BUILT                     45.000000\n",
      "TAX CLASS AT TIME OF SALE       1.000000\n",
      "YEAR SOLD                       1.000000\n",
      "MONTH SOLD                      6.000000\n",
      "DAY SOLD                       15.000000\n",
      "dtype: float64\n"
     ]
    }
   ],
   "source": [
    "# calculate interquartile range \n",
    "\n",
    "# compute the first quartile using quantile(0.25)\n",
    "# use .drop() to drop the target variable \n",
    "# axis=1: specifies that the labels are dropped from the columns\n",
    "Q1 = num_cols.drop(['SALE PRICE'], axis=1).quantile(0.25)\n",
    "\n",
    "# compute the first quartile using quantile(0.75)\n",
    "# use .drop() to drop the target variable \n",
    "# axis=1: specifies that the labels are dropped from the columns\n",
    "Q3 = num_cols.drop(['SALE PRICE'], axis=1).quantile(0.75)\n",
    "\n",
    "# calculate of interquartile range \n",
    "IQR = Q3 - Q1\n",
    "\n",
    "# print the IQR values for numeric variables\n",
    "print(IQR)"
   ]
  },
  {
   "cell_type": "code",
   "execution_count": 25,
   "metadata": {
    "id": "zR6GPI0THp_5"
   },
   "outputs": [],
   "source": [
    "# filter out the outlier values\n",
    "# ~ : selects all rows which do not satisfy the condition\n",
    "# |: bitwise operator OR in python\n",
    "# any() : returns whether any element is True over the columns\n",
    "# axis : \"1\" indicates columns should be altered (use \"0\" for 'index')\n",
    "all_d = all_d[~((all_d < (Q1 - 1.5 * IQR)) | (all_d > (Q3 + 1.5 * IQR))).any(axis=1)]"
   ]
  },
  {
   "cell_type": "code",
   "execution_count": 26,
   "metadata": {
    "colab": {
     "base_uri": "https://localhost:8080/",
     "height": 1000
    },
    "id": "I_dPh9zqHp_5",
    "outputId": "b1d50791-5dd6-4c60-ddb2-b54c5361e7bf"
   },
   "outputs": [
    {
     "data": {
      "image/png": "[encoded data removed]",
      "text/plain": [
       "<Figure size 432x288 with 1 Axes>"
      ]
     },
     "metadata": {
      "needs_background": "light",
      "tags": []
     },
     "output_type": "display_data"
    },
    {
     "data": {
      "image/png": "[encoded data removed]",
      "text/plain": [
       "<Figure size 432x288 with 1 Axes>"
      ]
     },
     "metadata": {
      "needs_background": "light",
      "tags": []
     },
     "output_type": "display_data"
    },
    {
     "data": {
      "image/png": "[encoded data removed]",
      "text/plain": [
       "<Figure size 432x288 with 1 Axes>"
      ]
     },
     "metadata": {
      "needs_background": "light",
      "tags": []
     },
     "output_type": "display_data"
    },
    {
     "data": {
      "image/png": "[encoded data removed]",
      "text/plain": [
       "<Figure size 432x288 with 1 Axes>"
      ]
     },
     "metadata": {
      "needs_background": "light",
      "tags": []
     },
     "output_type": "display_data"
    },
    {
     "data": {
      "image/png": "[encoded data removed]",
      "text/plain": [
       "<Figure size 432x288 with 1 Axes>"
      ]
     },
     "metadata": {
      "needs_background": "light",
      "tags": []
     },
     "output_type": "display_data"
    },
    {
     "data": {
      "image/png": "[encoded data removed]",
      "text/plain": [
       "<Figure size 432x288 with 1 Axes>"
      ]
     },
     "metadata": {
      "needs_background": "light",
      "tags": []
     },
     "output_type": "display_data"
    },
    {
     "data": {
      "image/png": "[encoded data removed]",
      "text/plain": [
       "<Figure size 432x288 with 1 Axes>"
      ]
     },
     "metadata": {
      "needs_background": "light",
      "tags": []
     },
     "output_type": "display_data"
    },
    {
     "data": {
      "image/png": "[encoded data removed]",
      "text/plain": [
       "<Figure size 432x288 with 1 Axes>"
      ]
     },
     "metadata": {
      "needs_background": "light",
      "tags": []
     },
     "output_type": "display_data"
    },
    {
     "data": {
      "image/png": "[encoded data removed]",
      "text/plain": [
       "<Figure size 432x288 with 1 Axes>"
      ]
     },
     "metadata": {
      "needs_background": "light",
      "tags": []
     },
     "output_type": "display_data"
    },
    {
     "data": {
      "image/png": "[encoded data removed]",
      "text/plain": [
       "<Figure size 432x288 with 1 Axes>"
      ]
     },
     "metadata": {
      "needs_background": "light",
      "tags": []
     },
     "output_type": "display_data"
    },
    {
     "data": {
      "image/png": "[encoded data removed]",
      "text/plain": [
       "<Figure size 432x288 with 1 Axes>"
      ]
     },
     "metadata": {
      "needs_background": "light",
      "tags": []
     },
     "output_type": "display_data"
    },
    {
     "data": {
      "image/png": "[encoded data removed]",
      "text/plain": [
       "<Figure size 432x288 with 1 Axes>"
      ]
     },
     "metadata": {
      "needs_background": "light",
      "tags": []
     },
     "output_type": "display_data"
    },
    {
     "data": {
      "image/png": "[encoded data removed]",
      "text/plain": [
       "<Figure size 432x288 with 1 Axes>"
      ]
     },
     "metadata": {
      "needs_background": "light",
      "tags": []
     },
     "output_type": "display_data"
    }
   ],
   "source": [
    "num_cols = all_d.select_dtypes('number')\n",
    "for i in num_cols.columns:\n",
    "    sns.boxplot(x=all_d[i],data=all_d)\n",
    "    plt.show() "
   ]
  },
  {
   "cell_type": "code",
   "execution_count": null,
   "metadata": {
    "id": "LFX85HH_Hp_6"
   },
   "outputs": [],
   "source": []
  },
  {
   "cell_type": "code",
   "execution_count": null,
   "metadata": {
    "id": "U2HTbzPzHp_6"
   },
   "outputs": [],
   "source": []
  },
  {
   "cell_type": "code",
   "execution_count": null,
   "metadata": {
    "id": "S39gedDAHp_6"
   },
   "outputs": [],
   "source": []
  },
  {
   "cell_type": "code",
   "execution_count": 27,
   "metadata": {
    "colab": {
     "base_uri": "https://localhost:8080/"
    },
    "id": "RqDpHzGHHp_6",
    "outputId": "7ca122ea-5220-46da-9e5d-0c57d96cabab"
   },
   "outputs": [
    {
     "data": {
      "text/plain": [
       "Index(['BOROUGH', 'NEIGHBORHOOD', 'BUILDING CLASS AT TIME OF SALE', 'data'], dtype='object')"
      ]
     },
     "execution_count": 27,
     "metadata": {
      "tags": []
     },
     "output_type": "execute_result"
    }
   ],
   "source": [
    "cat_cols=all_d.select_dtypes(['object']).columns\n",
    "cat_cols"
   ]
  },
  {
   "cell_type": "code",
   "execution_count": 28,
   "metadata": {
    "colab": {
     "base_uri": "https://localhost:8080/"
    },
    "id": "rEnE1nVZHp_7",
    "outputId": "55d6b1f9-f90c-42d4-e84a-d5e0695c27c6"
   },
   "outputs": [
    {
     "data": {
      "text/plain": [
       "Index(['BOROUGH', 'NEIGHBORHOOD', 'BUILDING CLASS AT TIME OF SALE'], dtype='object')"
      ]
     },
     "execution_count": 28,
     "metadata": {
      "tags": []
     },
     "output_type": "execute_result"
    }
   ],
   "source": [
    "cat_cols=cat_cols[:-1]\n",
    "cat_cols"
   ]
  },
  {
   "cell_type": "code",
   "execution_count": 29,
   "metadata": {
    "colab": {
     "base_uri": "https://localhost:8080/"
    },
    "id": "lOciiQWpHp_7",
    "outputId": "c3294b03-17b7-4969-ed71-7f5fad7d2bea"
   },
   "outputs": [
    {
     "data": {
      "text/plain": [
       "Queens           22115\n",
       "Brooklyn         20886\n",
       "Manhattan        14569\n",
       "Staten Island     6725\n",
       "Bronx             5723\n",
       "Name: BOROUGH, dtype: int64"
      ]
     },
     "execution_count": 29,
     "metadata": {
      "tags": []
     },
     "output_type": "execute_result"
    }
   ],
   "source": [
    "all_d['BOROUGH'].value_counts()"
   ]
  },
  {
   "cell_type": "code",
   "execution_count": 30,
   "metadata": {
    "colab": {
     "base_uri": "https://localhost:8080/"
    },
    "id": "KwYmezytHp_7",
    "outputId": "71f115eb-6277-4f7f-cf13-86e4948ffdbb"
   },
   "outputs": [
    {
     "data": {
      "text/plain": [
       "Queens_Neighborhood           22169\n",
       "Brooklyn_Neighborhood         20886\n",
       "Manhattan_Neighborhood        14569\n",
       "Staten Island_Neighborhood     6671\n",
       "Bronx_Neighborhood             5723\n",
       "Name: NEIGHBORHOOD, dtype: int64"
      ]
     },
     "execution_count": 30,
     "metadata": {
      "tags": []
     },
     "output_type": "execute_result"
    }
   ],
   "source": [
    "all_d['NEIGHBORHOOD'].value_counts()"
   ]
  },
  {
   "cell_type": "code",
   "execution_count": 31,
   "metadata": {
    "colab": {
     "base_uri": "https://localhost:8080/"
    },
    "id": "1tm-P568Hp_8",
    "outputId": "30c4ad1b-0d74-4734-e90a-759ce9831bcb"
   },
   "outputs": [
    {
     "data": {
      "text/plain": [
       "D4    12569\n",
       "R4    11937\n",
       "A1     5687\n",
       "A5     5625\n",
       "B1     4576\n",
       "B2     4330\n",
       "C0     4230\n",
       "B3     3506\n",
       "C6     2705\n",
       "A2     2188\n",
       "B9     1488\n",
       "A9     1359\n",
       "R3     1351\n",
       "R1     1246\n",
       "C3     1055\n",
       "R2      917\n",
       "V0      910\n",
       "S2      777\n",
       "C2      764\n",
       "A0      382\n",
       "S1      336\n",
       "D0      217\n",
       "A4      213\n",
       "R6      203\n",
       "S9      181\n",
       "S3      174\n",
       "C1      164\n",
       "G0      148\n",
       "S4      129\n",
       "A3      129\n",
       "C5      115\n",
       "S5       98\n",
       "A6       74\n",
       "R8       56\n",
       "C4       45\n",
       "R9       32\n",
       "C7       24\n",
       "S0       19\n",
       "Z0       13\n",
       "RR       11\n",
       "A7        9\n",
       "C8        7\n",
       "V3        6\n",
       "V2        3\n",
       "U1        2\n",
       "D1        2\n",
       "C9        2\n",
       "D6        2\n",
       "R7        1\n",
       "D5        1\n",
       "Name: BUILDING CLASS AT TIME OF SALE, dtype: int64"
      ]
     },
     "execution_count": 31,
     "metadata": {
      "tags": []
     },
     "output_type": "execute_result"
    }
   ],
   "source": [
    "all_d['BUILDING CLASS AT TIME OF SALE'].value_counts()"
   ]
  },
  {
   "cell_type": "code",
   "execution_count": null,
   "metadata": {
    "id": "TeWJ0t3vHp_8"
   },
   "outputs": [],
   "source": []
  },
  {
   "cell_type": "code",
   "execution_count": 32,
   "metadata": {
    "colab": {
     "base_uri": "https://localhost:8080/"
    },
    "id": "HaI9xwnHHp_8",
    "outputId": "53456af8-a34c-4440-b887-0a08eefc72e8"
   },
   "outputs": [
    {
     "name": "stdout",
     "output_type": "stream",
     "text": [
      "BOROUGH\n",
      "NEIGHBORHOOD\n",
      "BUILDING CLASS AT TIME OF SALE\n"
     ]
    }
   ],
   "source": [
    "for col in cat_cols:\n",
    "    freqs=all_d[col].value_counts()\n",
    "    k=freqs.index[freqs>5000][:-1]\n",
    "    for cat in k:\n",
    "        name=col+'_'+cat\n",
    "        all_d[name]=(all_d[col]==cat).astype(int)\n",
    "    del all_d[col]\n",
    "    print(col)"
   ]
  },
  {
   "cell_type": "code",
   "execution_count": 33,
   "metadata": {
    "colab": {
     "base_uri": "https://localhost:8080/"
    },
    "id": "ssFfBr1bHp_9",
    "outputId": "b10ff5eb-0df0-484a-9ed4-f62c2e2010b0"
   },
   "outputs": [
    {
     "data": {
      "text/plain": [
       "(70018, 25)"
      ]
     },
     "execution_count": 33,
     "metadata": {
      "tags": []
     },
     "output_type": "execute_result"
    }
   ],
   "source": [
    "all_d.shape"
   ]
  },
  {
   "cell_type": "code",
   "execution_count": 34,
   "metadata": {
    "colab": {
     "base_uri": "https://localhost:8080/"
    },
    "id": "hVWNBfcpHp_9",
    "outputId": "ab57928f-7fbb-4b3d-daa4-fee737b3f533"
   },
   "outputs": [
    {
     "data": {
      "text/plain": [
       "BLOCK                                        int64\n",
       "LOT                                          int64\n",
       "ZIP CODE                                     int64\n",
       "RESIDENTIAL UNITS                            int64\n",
       "TOTAL UNITS                                  int64\n",
       "LAND SQUARE FEET                           float64\n",
       "GROSS SQUARE FEET                          float64\n",
       "YEAR BUILT                                   int64\n",
       "TAX CLASS AT TIME OF SALE                    int64\n",
       "SALE PRICE                                 float64\n",
       "data                                        object\n",
       "YEAR SOLD                                    int64\n",
       "MONTH SOLD                                   int64\n",
       "DAY SOLD                                     int64\n",
       "BOROUGH_Queens                               int64\n",
       "BOROUGH_Brooklyn                             int64\n",
       "BOROUGH_Manhattan                            int64\n",
       "BOROUGH_Staten Island                        int64\n",
       "NEIGHBORHOOD_Queens_Neighborhood             int64\n",
       "NEIGHBORHOOD_Brooklyn_Neighborhood           int64\n",
       "NEIGHBORHOOD_Manhattan_Neighborhood          int64\n",
       "NEIGHBORHOOD_Staten Island_Neighborhood      int64\n",
       "BUILDING CLASS AT TIME OF SALE_D4            int64\n",
       "BUILDING CLASS AT TIME OF SALE_R4            int64\n",
       "BUILDING CLASS AT TIME OF SALE_A1            int64\n",
       "dtype: object"
      ]
     },
     "execution_count": 34,
     "metadata": {
      "tags": []
     },
     "output_type": "execute_result"
    }
   ],
   "source": [
    "all_d.dtypes"
   ]
  },
  {
   "cell_type": "code",
   "execution_count": 36,
   "metadata": {
    "colab": {
     "base_uri": "https://localhost:8080/"
    },
    "id": "ZWTu-oc5Hp_9",
    "outputId": "1f15df6d-4fc1-4d93-b362-770fd43113fd"
   },
   "outputs": [
    {
     "data": {
      "text/plain": [
       "BLOCK                                          0\n",
       "LOT                                            0\n",
       "ZIP CODE                                       0\n",
       "RESIDENTIAL UNITS                              0\n",
       "TOTAL UNITS                                    0\n",
       "LAND SQUARE FEET                               0\n",
       "GROSS SQUARE FEET                              0\n",
       "YEAR BUILT                                     0\n",
       "TAX CLASS AT TIME OF SALE                      0\n",
       "SALE PRICE                                 10605\n",
       "data                                           0\n",
       "YEAR SOLD                                      0\n",
       "MONTH SOLD                                     0\n",
       "DAY SOLD                                       0\n",
       "BOROUGH_Queens                                 0\n",
       "BOROUGH_Brooklyn                               0\n",
       "BOROUGH_Manhattan                              0\n",
       "BOROUGH_Staten Island                          0\n",
       "NEIGHBORHOOD_Queens_Neighborhood               0\n",
       "NEIGHBORHOOD_Brooklyn_Neighborhood             0\n",
       "NEIGHBORHOOD_Manhattan_Neighborhood            0\n",
       "NEIGHBORHOOD_Staten Island_Neighborhood        0\n",
       "BUILDING CLASS AT TIME OF SALE_D4              0\n",
       "BUILDING CLASS AT TIME OF SALE_R4              0\n",
       "BUILDING CLASS AT TIME OF SALE_A1              0\n",
       "dtype: int64"
      ]
     },
     "execution_count": 36,
     "metadata": {
      "tags": []
     },
     "output_type": "execute_result"
    }
   ],
   "source": [
    "all_d.isnull().sum()"
   ]
  },
  {
   "cell_type": "code",
   "execution_count": 40,
   "metadata": {
    "id": "UrjCocaVHp_-"
   },
   "outputs": [],
   "source": [
    "for col in all_d.columns:\n",
    "    if (col not in ['SALE PRICE','data'])& (all_d[col].isnull().sum()>0):\n",
    "        all_d.loc[all_d[col].isnull(),col]=all_d.loc[all_d['data']=='train',col].mean()"
   ]
  },
  {
   "cell_type": "code",
   "execution_count": 41,
   "metadata": {
    "colab": {
     "base_uri": "https://localhost:8080/"
    },
    "id": "atHa6rFEHp_-",
    "outputId": "f43db5ef-7ee6-4686-a3ab-bef56788e551"
   },
   "outputs": [
    {
     "data": {
      "text/plain": [
       "BLOCK                                          0\n",
       "LOT                                            0\n",
       "ZIP CODE                                       0\n",
       "RESIDENTIAL UNITS                              0\n",
       "TOTAL UNITS                                    0\n",
       "LAND SQUARE FEET                               0\n",
       "GROSS SQUARE FEET                              0\n",
       "YEAR BUILT                                     0\n",
       "TAX CLASS AT TIME OF SALE                      0\n",
       "SALE PRICE                                 10605\n",
       "data                                           0\n",
       "YEAR SOLD                                      0\n",
       "MONTH SOLD                                     0\n",
       "DAY SOLD                                       0\n",
       "BOROUGH_Queens                                 0\n",
       "BOROUGH_Brooklyn                               0\n",
       "BOROUGH_Manhattan                              0\n",
       "BOROUGH_Staten Island                          0\n",
       "NEIGHBORHOOD_Queens_Neighborhood               0\n",
       "NEIGHBORHOOD_Brooklyn_Neighborhood             0\n",
       "NEIGHBORHOOD_Manhattan_Neighborhood            0\n",
       "NEIGHBORHOOD_Staten Island_Neighborhood        0\n",
       "BUILDING CLASS AT TIME OF SALE_D4              0\n",
       "BUILDING CLASS AT TIME OF SALE_R4              0\n",
       "BUILDING CLASS AT TIME OF SALE_A1              0\n",
       "dtype: int64"
      ]
     },
     "execution_count": 41,
     "metadata": {
      "tags": []
     },
     "output_type": "execute_result"
    }
   ],
   "source": [
    "all_d.isnull().sum()"
   ]
  },
  {
   "cell_type": "code",
   "execution_count": 42,
   "metadata": {
    "colab": {
     "base_uri": "https://localhost:8080/"
    },
    "id": "4V1Pmm_UHp_-",
    "outputId": "a0daf6b0-196a-49ab-fe82-34a55eb4f778"
   },
   "outputs": [
    {
     "name": "stdout",
     "output_type": "stream",
     "text": [
      "BLOCK 0.8236092467489958\n",
      "LOT 1.5266018616915926\n",
      "ZIP CODE -0.53501262676705\n",
      "RESIDENTIAL UNITS 0.8453250785226867\n",
      "TOTAL UNITS 0.9226328802465646\n",
      "LAND SQUARE FEET 0.3907068605117445\n",
      "GROSS SQUARE FEET 0.9655341399750452\n",
      "YEAR BUILT 0.5126594226412708\n",
      "TAX CLASS AT TIME OF SALE 0.1468739265309015\n",
      "SALE PRICE 15.479634098189747\n",
      "YEAR SOLD -0.6512898457826289\n",
      "MONTH SOLD 0.014197454143418024\n",
      "DAY SOLD -0.04795286644110719\n",
      "BOROUGH_Queens 0.7923227708318208\n",
      "BOROUGH_Brooklyn 0.88177219574798\n",
      "BOROUGH_Manhattan 1.4383297402769029\n",
      "BOROUGH_Staten Island 2.741928611804798\n",
      "NEIGHBORHOOD_Queens_Neighborhood 0.7884875473138955\n",
      "NEIGHBORHOOD_Brooklyn_Neighborhood 0.88177219574798\n",
      "NEIGHBORHOOD_Manhattan_Neighborhood 1.4383297402769029\n",
      "NEIGHBORHOOD_Staten Island_Neighborhood 2.7570840080977073\n",
      "BUILDING CLASS AT TIME OF SALE_D4 1.6702079728427628\n",
      "BUILDING CLASS AT TIME OF SALE_R4 1.752507572743141\n",
      "BUILDING CLASS AT TIME OF SALE_A1 3.066063349761422\n"
     ]
    }
   ],
   "source": [
    "for i in all_d.select_dtypes('number').columns:\n",
    "    print(i, all_d[i].skew())"
   ]
  },
  {
   "cell_type": "code",
   "execution_count": 43,
   "metadata": {
    "colab": {
     "base_uri": "https://localhost:8080/"
    },
    "id": "R0wWeP0EHp__",
    "outputId": "cf18f042-3aed-401a-ef62-f0b571b0b0fa"
   },
   "outputs": [
    {
     "name": "stderr",
     "output_type": "stream",
     "text": [
      "/usr/local/lib/python3.7/dist-packages/pandas/core/frame.py:4174: SettingWithCopyWarning: \n",
      "A value is trying to be set on a copy of a slice from a DataFrame\n",
      "\n",
      "See the caveats in the documentation: https://pandas.pydata.org/pandas-docs/stable/user_guide/indexing.html#returning-a-view-versus-a-copy\n",
      "  errors=errors,\n"
     ]
    }
   ],
   "source": [
    "all_d_train=all_d[all_d['data']=='train']\n",
    "del all_d_train['data']\n",
    "all_d_test=all_d[all_d['data']=='test']\n",
    "all_d_test.drop(['SALE PRICE','data'],axis=1,inplace=True)"
   ]
  },
  {
   "cell_type": "code",
   "execution_count": 44,
   "metadata": {
    "id": "kxymUqaPHp__"
   },
   "outputs": [],
   "source": [
    "del all_d"
   ]
  },
  {
   "cell_type": "code",
   "execution_count": 45,
   "metadata": {
    "id": "fBK-Jc4KHp__"
   },
   "outputs": [],
   "source": [
    "X = all_d_train.drop('SALE PRICE', axis=1)\n",
    "y= all_d_train['SALE PRICE']"
   ]
  },
  {
   "cell_type": "code",
   "execution_count": 47,
   "metadata": {
    "id": "bj_1NnNGHp__"
   },
   "outputs": [],
   "source": [
    "from sklearn.model_selection import train_test_split\n",
    "\n",
    "X_train, X_test, y_train, y_test = train_test_split(X, y, test_size=0.3, random_state=42)"
   ]
  },
  {
   "cell_type": "code",
   "execution_count": 48,
   "metadata": {
    "id": "QmR2bNH8HqAA"
   },
   "outputs": [],
   "source": [
    "from sklearn.ensemble import RandomForestRegressor"
   ]
  },
  {
   "cell_type": "code",
   "execution_count": null,
   "metadata": {
    "id": "Rdd8UzeCHqAA"
   },
   "outputs": [],
   "source": [
    "#Putting 100 for the n_estimators argument. n_estimators means the number of trees in the forest."
   ]
  },
  {
   "cell_type": "code",
   "execution_count": 49,
   "metadata": {
    "colab": {
     "base_uri": "https://localhost:8080/"
    },
    "id": "HTlPfAdMHqAA",
    "outputId": "d8a9016b-b1c6-4db6-b97a-6b27a55419e9"
   },
   "outputs": [
    {
     "data": {
      "text/plain": [
       "RandomForestRegressor(bootstrap=True, ccp_alpha=0.0, criterion='mse',\n",
       "                      max_depth=None, max_features='auto', max_leaf_nodes=None,\n",
       "                      max_samples=None, min_impurity_decrease=0.0,\n",
       "                      min_impurity_split=None, min_samples_leaf=1,\n",
       "                      min_samples_split=2, min_weight_fraction_leaf=0.0,\n",
       "                      n_estimators=100, n_jobs=None, oob_score=False,\n",
       "                      random_state=0, verbose=0, warm_start=False)"
      ]
     },
     "execution_count": 49,
     "metadata": {
      "tags": []
     },
     "output_type": "execute_result"
    }
   ],
   "source": [
    "rfr = RandomForestRegressor(n_estimators=100, random_state=0)\n",
    "rfr.fit(X_train,y_train)"
   ]
  },
  {
   "cell_type": "code",
   "execution_count": 50,
   "metadata": {
    "id": "Ouj41xkDHqAA"
   },
   "outputs": [],
   "source": [
    "from sklearn.metrics import r2_score, mean_squared_error"
   ]
  },
  {
   "cell_type": "code",
   "execution_count": 51,
   "metadata": {
    "colab": {
     "base_uri": "https://localhost:8080/"
    },
    "id": "nsFz3ClGHqAA",
    "outputId": "55b69131-a020-4821-ad65-ff9b73d7b925"
   },
   "outputs": [
    {
     "name": "stdout",
     "output_type": "stream",
     "text": [
      "Train r2-score :  0.9302704785858248\n",
      "Train RMSE :  533324.8668553878\n",
      "Test r2-score :  0.5167473036434956\n",
      "Test RMSE :  1416219.1474886187\n"
     ]
    }
   ],
   "source": [
    "y_train_pred = rfr.predict(X_train)\n",
    "\n",
    "\n",
    "\n",
    "print('Train r2-score : ', r2_score(y_train, y_train_pred))\n",
    "print('Train RMSE : ', np.sqrt(mean_squared_error(y_train, y_train_pred)))\n",
    "\n",
    "\n",
    "y_test_pred = rfr.predict(X_test)\n",
    "\n",
    "\n",
    "\n",
    "print('Test r2-score : ', r2_score(y_test, y_test_pred))\n",
    "print('Test RMSE : ', np.sqrt(mean_squared_error(y_test, y_test_pred)))"
   ]
  },
  {
   "cell_type": "code",
   "execution_count": null,
   "metadata": {
    "id": "mHYqLTprHqAB"
   },
   "outputs": [],
   "source": [
    "# Predicting target"
   ]
  },
  {
   "cell_type": "code",
   "execution_count": 52,
   "metadata": {
    "colab": {
     "base_uri": "https://localhost:8080/"
    },
    "id": "EJOVrgzoHqAB",
    "outputId": "40413877-8579-42cc-9d47-01103c2b935c"
   },
   "outputs": [
    {
     "data": {
      "text/plain": [
       "array([699202.38, 444646.63, 414275.13, ..., 542658.89, 520452.31,\n",
       "       463998.08])"
      ]
     },
     "execution_count": 52,
     "metadata": {
      "tags": []
     },
     "output_type": "execute_result"
    }
   ],
   "source": [
    "test_pred=rfr.predict(all_d_test)\n",
    "test_pred"
   ]
  },
  {
   "cell_type": "code",
   "execution_count": 53,
   "metadata": {
    "colab": {
     "base_uri": "https://localhost:8080/",
     "height": 194
    },
    "id": "txQwMnYKHqAB",
    "outputId": "e4a6bb6a-06c1-4305-813f-d77633d20f94"
   },
   "outputs": [
    {
     "data": {
      "text/html": [
       "<div>\n",
       "<style scoped>\n",
       "    .dataframe tbody tr th:only-of-type {\n",
       "        vertical-align: middle;\n",
       "    }\n",
       "\n",
       "    .dataframe tbody tr th {\n",
       "        vertical-align: top;\n",
       "    }\n",
       "\n",
       "    .dataframe thead th {\n",
       "        text-align: right;\n",
       "    }\n",
       "</style>\n",
       "<table border=\"1\" class=\"dataframe\">\n",
       "  <thead>\n",
       "    <tr style=\"text-align: right;\">\n",
       "      <th></th>\n",
       "      <th>0</th>\n",
       "    </tr>\n",
       "  </thead>\n",
       "  <tbody>\n",
       "    <tr>\n",
       "      <th>0</th>\n",
       "      <td>699202.38</td>\n",
       "    </tr>\n",
       "    <tr>\n",
       "      <th>1</th>\n",
       "      <td>444646.63</td>\n",
       "    </tr>\n",
       "    <tr>\n",
       "      <th>2</th>\n",
       "      <td>414275.13</td>\n",
       "    </tr>\n",
       "    <tr>\n",
       "      <th>3</th>\n",
       "      <td>482104.18</td>\n",
       "    </tr>\n",
       "    <tr>\n",
       "      <th>4</th>\n",
       "      <td>482104.18</td>\n",
       "    </tr>\n",
       "  </tbody>\n",
       "</table>\n",
       "</div>"
      ],
      "text/plain": [
       "           0\n",
       "0  699202.38\n",
       "1  444646.63\n",
       "2  414275.13\n",
       "3  482104.18\n",
       "4  482104.18"
      ]
     },
     "execution_count": 53,
     "metadata": {
      "tags": []
     },
     "output_type": "execute_result"
    }
   ],
   "source": [
    "pd.DataFrame(test_pred).head()"
   ]
  },
  {
   "cell_type": "code",
   "execution_count": null,
   "metadata": {
    "id": "pmL5dMW-HqAD"
   },
   "outputs": [],
   "source": [
    "# Random Search cv"
   ]
  },
  {
   "cell_type": "code",
   "execution_count": 54,
   "metadata": {
    "id": "bFJ7hN7g7gfi"
   },
   "outputs": [],
   "source": [
    "from sklearn.model_selection import RandomizedSearchCV"
   ]
  },
  {
   "cell_type": "code",
   "execution_count": 61,
   "metadata": {
    "colab": {
     "base_uri": "https://localhost:8080/"
    },
    "id": "LF9WdD1iHqAD",
    "outputId": "fdf66402-ab7b-405d-e9d9-47916c3320af"
   },
   "outputs": [
    {
     "data": {
      "text/plain": [
       "{'max_depth': 11,\n",
       " 'max_features': 3,\n",
       " 'min_samples_leaf': 27,\n",
       " 'n_estimators': 152}"
      ]
     },
     "execution_count": 61,
     "metadata": {
      "tags": []
     },
     "output_type": "execute_result"
    }
   ],
   "source": [
    "from scipy.stats import randint as sp_randint\n",
    "\n",
    "rfr = RandomForestRegressor(random_state=10)\n",
    "\n",
    "param_dist = {'n_estimators':sp_randint(25, 250),\n",
    "              'max_features':sp_randint(1, 24),\n",
    "             'max_depth':sp_randint(2, 15),\n",
    "             'min_samples_leaf':sp_randint(1, 50)}\n",
    "\n",
    "\n",
    "rsearch = RandomizedSearchCV(rfr, param_distributions=param_dist, scoring='r2',\n",
    "                  n_iter=500, cv=3, n_jobs=-1, random_state=4)  #njobs=-1 means it will parallize this job to all core on pc\n",
    "\n",
    "\n",
    "rsearch.fit(X,y)\n",
    "rsearch.best_params_"
   ]
  },
  {
   "cell_type": "code",
   "execution_count": 62,
   "metadata": {
    "id": "BQytYaXLHqAE"
   },
   "outputs": [],
   "source": [
    "r_best_params = {'max_depth': 11,\n",
    " 'max_features': 3,\n",
    " 'min_samples_leaf': 27,\n",
    " 'n_estimators': 152}"
   ]
  },
  {
   "cell_type": "code",
   "execution_count": 64,
   "metadata": {
    "colab": {
     "base_uri": "https://localhost:8080/"
    },
    "id": "Pzx4Bo4Ow-fB",
    "outputId": "8d3d5721-349e-4e13-d3be-8db6fd313696"
   },
   "outputs": [
    {
     "name": "stdout",
     "output_type": "stream",
     "text": [
      "Train r2-score :  0.3367811427175754\n",
      "Train RMSE :  1644795.557774426\n",
      "Test r2-score :  0.31584285057697525\n",
      "Test RMSE :  1685082.831146648\n"
     ]
    }
   ],
   "source": [
    "rfr = RandomForestRegressor(**r_best_params, random_state=10) \n",
    "\n",
    "rfr.fit(X_train,y_train)\n",
    "\n",
    "y_train_pred = rfr.predict(X_train)\n",
    "\n",
    "\n",
    "\n",
    "print('Train r2-score : ', r2_score(y_train, y_train_pred))\n",
    "print('Train RMSE : ', np.sqrt(mean_squared_error(y_train, y_train_pred)))\n",
    "\n",
    "\n",
    "y_test_pred = rfr.predict(X_test)\n",
    "\n",
    "print('Test r2-score : ', r2_score(y_test, y_test_pred))\n",
    "print('Test RMSE : ', np.sqrt(mean_squared_error(y_test, y_test_pred)))"
   ]
  },
  {
   "cell_type": "code",
   "execution_count": 65,
   "metadata": {
    "colab": {
     "base_uri": "https://localhost:8080/"
    },
    "id": "aooQ46OFxLkZ",
    "outputId": "dc3eb496-9436-4fc7-90bf-5e64c97f950f"
   },
   "outputs": [
    {
     "data": {
      "text/plain": [
       "array([1159350.15142177, 1012337.44074271, 1125808.57903761, ...,\n",
       "        501402.85187325,  483585.48805604,  508798.64746143])"
      ]
     },
     "execution_count": 65,
     "metadata": {
      "tags": []
     },
     "output_type": "execute_result"
    }
   ],
   "source": [
    "test_pred=rfr.predict(all_d_test)\n",
    "test_pred"
   ]
  },
  {
   "cell_type": "code",
   "execution_count": 66,
   "metadata": {
    "colab": {
     "base_uri": "https://localhost:8080/",
     "height": 194
    },
    "id": "0x6EHFhmxQ_N",
    "outputId": "dd79ef33-e735-490d-9518-2f98cc309b8e"
   },
   "outputs": [
    {
     "data": {
      "text/html": [
       "<div>\n",
       "<style scoped>\n",
       "    .dataframe tbody tr th:only-of-type {\n",
       "        vertical-align: middle;\n",
       "    }\n",
       "\n",
       "    .dataframe tbody tr th {\n",
       "        vertical-align: top;\n",
       "    }\n",
       "\n",
       "    .dataframe thead th {\n",
       "        text-align: right;\n",
       "    }\n",
       "</style>\n",
       "<table border=\"1\" class=\"dataframe\">\n",
       "  <thead>\n",
       "    <tr style=\"text-align: right;\">\n",
       "      <th></th>\n",
       "      <th>0</th>\n",
       "    </tr>\n",
       "  </thead>\n",
       "  <tbody>\n",
       "    <tr>\n",
       "      <th>0</th>\n",
       "      <td>1.159350e+06</td>\n",
       "    </tr>\n",
       "    <tr>\n",
       "      <th>1</th>\n",
       "      <td>1.012337e+06</td>\n",
       "    </tr>\n",
       "    <tr>\n",
       "      <th>2</th>\n",
       "      <td>1.125809e+06</td>\n",
       "    </tr>\n",
       "    <tr>\n",
       "      <th>3</th>\n",
       "      <td>1.025649e+06</td>\n",
       "    </tr>\n",
       "    <tr>\n",
       "      <th>4</th>\n",
       "      <td>1.025649e+06</td>\n",
       "    </tr>\n",
       "  </tbody>\n",
       "</table>\n",
       "</div>"
      ],
      "text/plain": [
       "              0\n",
       "0  1.159350e+06\n",
       "1  1.012337e+06\n",
       "2  1.125809e+06\n",
       "3  1.025649e+06\n",
       "4  1.025649e+06"
      ]
     },
     "execution_count": 66,
     "metadata": {
      "tags": []
     },
     "output_type": "execute_result"
    }
   ],
   "source": [
    "pd.DataFrame(test_pred).head()"
   ]
  },
  {
   "cell_type": "code",
   "execution_count": null,
   "metadata": {
    "id": "JntFwmU-DFjt"
   },
   "outputs": [],
   "source": [
    "# Grid Search"
   ]
  },
  {
   "cell_type": "code",
   "execution_count": null,
   "metadata": {
    "id": "9TD3TKaADFc5"
   },
   "outputs": [],
   "source": [
    "from sklearn.model_selection import GridSearchCV"
   ]
  },
  {
   "cell_type": "code",
   "execution_count": null,
   "metadata": {
    "colab": {
     "base_uri": "https://localhost:8080/",
     "height": 388
    },
    "id": "a61eY1JJDFVp",
    "outputId": "d62e826a-fa81-4e12-efe5-0fe5a65feb24"
   },
   "outputs": [
    {
     "ename": "KeyboardInterrupt",
     "evalue": "ignored",
     "output_type": "error",
     "traceback": [
      "\u001b[0;31m---------------------------------------------------------------------------\u001b[0m",
      "\u001b[0;31mKeyboardInterrupt\u001b[0m                         Traceback (most recent call last)",
      "\u001b[0;32m<ipython-input-64-d66e8fe4b15f>\u001b[0m in \u001b[0;36m<module>\u001b[0;34m()\u001b[0m\n\u001b[1;32m      8\u001b[0m \u001b[0mgridsearch\u001b[0m \u001b[0;34m=\u001b[0m \u001b[0mGridSearchCV\u001b[0m\u001b[0;34m(\u001b[0m\u001b[0mestimator\u001b[0m\u001b[0;34m=\u001b[0m\u001b[0mrfr\u001b[0m\u001b[0;34m,\u001b[0m \u001b[0mparam_grid\u001b[0m\u001b[0;34m=\u001b[0m\u001b[0mparams\u001b[0m\u001b[0;34m,\u001b[0m \u001b[0mcv\u001b[0m\u001b[0;34m=\u001b[0m\u001b[0;36m3\u001b[0m\u001b[0;34m,\u001b[0m \u001b[0mscoring\u001b[0m\u001b[0;34m=\u001b[0m\u001b[0;34m'r2'\u001b[0m\u001b[0;34m,\u001b[0m \u001b[0mn_jobs\u001b[0m\u001b[0;34m=\u001b[0m\u001b[0;34m-\u001b[0m\u001b[0;36m1\u001b[0m\u001b[0;34m)\u001b[0m\u001b[0;34m\u001b[0m\u001b[0;34m\u001b[0m\u001b[0m\n\u001b[1;32m      9\u001b[0m \u001b[0;34m\u001b[0m\u001b[0m\n\u001b[0;32m---> 10\u001b[0;31m \u001b[0mgridsearch\u001b[0m\u001b[0;34m.\u001b[0m\u001b[0mfit\u001b[0m\u001b[0;34m(\u001b[0m\u001b[0mX\u001b[0m\u001b[0;34m,\u001b[0m\u001b[0my\u001b[0m\u001b[0;34m)\u001b[0m\u001b[0;34m\u001b[0m\u001b[0;34m\u001b[0m\u001b[0m\n\u001b[0m\u001b[1;32m     11\u001b[0m \u001b[0;34m\u001b[0m\u001b[0m\n\u001b[1;32m     12\u001b[0m \u001b[0mgsearch\u001b[0m\u001b[0;34m.\u001b[0m\u001b[0mbest_params_\u001b[0m\u001b[0;34m\u001b[0m\u001b[0;34m\u001b[0m\u001b[0m\n",
      "\u001b[0;32m/usr/local/lib/python3.7/dist-packages/sklearn/model_selection/_search.py\u001b[0m in \u001b[0;36mfit\u001b[0;34m(self, X, y, groups, **fit_params)\u001b[0m\n\u001b[1;32m    708\u001b[0m                 \u001b[0;32mreturn\u001b[0m \u001b[0mresults\u001b[0m\u001b[0;34m\u001b[0m\u001b[0;34m\u001b[0m\u001b[0m\n\u001b[1;32m    709\u001b[0m \u001b[0;34m\u001b[0m\u001b[0m\n\u001b[0;32m--> 710\u001b[0;31m             \u001b[0mself\u001b[0m\u001b[0;34m.\u001b[0m\u001b[0m_run_search\u001b[0m\u001b[0;34m(\u001b[0m\u001b[0mevaluate_candidates\u001b[0m\u001b[0;34m)\u001b[0m\u001b[0;34m\u001b[0m\u001b[0;34m\u001b[0m\u001b[0m\n\u001b[0m\u001b[1;32m    711\u001b[0m \u001b[0;34m\u001b[0m\u001b[0m\n\u001b[1;32m    712\u001b[0m         \u001b[0;31m# For multi-metric evaluation, store the best_index_, best_params_ and\u001b[0m\u001b[0;34m\u001b[0m\u001b[0;34m\u001b[0m\u001b[0;34m\u001b[0m\u001b[0m\n",
      "\u001b[0;32m/usr/local/lib/python3.7/dist-packages/sklearn/model_selection/_search.py\u001b[0m in \u001b[0;36m_run_search\u001b[0;34m(self, evaluate_candidates)\u001b[0m\n\u001b[1;32m   1149\u001b[0m     \u001b[0;32mdef\u001b[0m \u001b[0m_run_search\u001b[0m\u001b[0;34m(\u001b[0m\u001b[0mself\u001b[0m\u001b[0;34m,\u001b[0m \u001b[0mevaluate_candidates\u001b[0m\u001b[0;34m)\u001b[0m\u001b[0;34m:\u001b[0m\u001b[0;34m\u001b[0m\u001b[0;34m\u001b[0m\u001b[0m\n\u001b[1;32m   1150\u001b[0m         \u001b[0;34m\"\"\"Search all candidates in param_grid\"\"\"\u001b[0m\u001b[0;34m\u001b[0m\u001b[0;34m\u001b[0m\u001b[0m\n\u001b[0;32m-> 1151\u001b[0;31m         \u001b[0mevaluate_candidates\u001b[0m\u001b[0;34m(\u001b[0m\u001b[0mParameterGrid\u001b[0m\u001b[0;34m(\u001b[0m\u001b[0mself\u001b[0m\u001b[0;34m.\u001b[0m\u001b[0mparam_grid\u001b[0m\u001b[0;34m)\u001b[0m\u001b[0;34m)\u001b[0m\u001b[0;34m\u001b[0m\u001b[0;34m\u001b[0m\u001b[0m\n\u001b[0m\u001b[1;32m   1152\u001b[0m \u001b[0;34m\u001b[0m\u001b[0m\n\u001b[1;32m   1153\u001b[0m \u001b[0;34m\u001b[0m\u001b[0m\n",
      "\u001b[0;32m/usr/local/lib/python3.7/dist-packages/sklearn/model_selection/_search.py\u001b[0m in \u001b[0;36mevaluate_candidates\u001b[0;34m(candidate_params)\u001b[0m\n\u001b[1;32m    687\u001b[0m                                \u001b[0;32mfor\u001b[0m \u001b[0mparameters\u001b[0m\u001b[0;34m,\u001b[0m \u001b[0;34m(\u001b[0m\u001b[0mtrain\u001b[0m\u001b[0;34m,\u001b[0m \u001b[0mtest\u001b[0m\u001b[0;34m)\u001b[0m\u001b[0;34m\u001b[0m\u001b[0;34m\u001b[0m\u001b[0m\n\u001b[1;32m    688\u001b[0m                                in product(candidate_params,\n\u001b[0;32m--> 689\u001b[0;31m                                           cv.split(X, y, groups)))\n\u001b[0m\u001b[1;32m    690\u001b[0m \u001b[0;34m\u001b[0m\u001b[0m\n\u001b[1;32m    691\u001b[0m                 \u001b[0;32mif\u001b[0m \u001b[0mlen\u001b[0m\u001b[0;34m(\u001b[0m\u001b[0mout\u001b[0m\u001b[0;34m)\u001b[0m \u001b[0;34m<\u001b[0m \u001b[0;36m1\u001b[0m\u001b[0;34m:\u001b[0m\u001b[0;34m\u001b[0m\u001b[0;34m\u001b[0m\u001b[0m\n",
      "\u001b[0;32m/usr/local/lib/python3.7/dist-packages/joblib/parallel.py\u001b[0m in \u001b[0;36m__call__\u001b[0;34m(self, iterable)\u001b[0m\n\u001b[1;32m   1052\u001b[0m \u001b[0;34m\u001b[0m\u001b[0m\n\u001b[1;32m   1053\u001b[0m             \u001b[0;32mwith\u001b[0m \u001b[0mself\u001b[0m\u001b[0;34m.\u001b[0m\u001b[0m_backend\u001b[0m\u001b[0;34m.\u001b[0m\u001b[0mretrieval_context\u001b[0m\u001b[0;34m(\u001b[0m\u001b[0;34m)\u001b[0m\u001b[0;34m:\u001b[0m\u001b[0;34m\u001b[0m\u001b[0;34m\u001b[0m\u001b[0m\n\u001b[0;32m-> 1054\u001b[0;31m                 \u001b[0mself\u001b[0m\u001b[0;34m.\u001b[0m\u001b[0mretrieve\u001b[0m\u001b[0;34m(\u001b[0m\u001b[0;34m)\u001b[0m\u001b[0;34m\u001b[0m\u001b[0;34m\u001b[0m\u001b[0m\n\u001b[0m\u001b[1;32m   1055\u001b[0m             \u001b[0;31m# Make sure that we get a last message telling us we are done\u001b[0m\u001b[0;34m\u001b[0m\u001b[0;34m\u001b[0m\u001b[0;34m\u001b[0m\u001b[0m\n\u001b[1;32m   1056\u001b[0m             \u001b[0melapsed_time\u001b[0m \u001b[0;34m=\u001b[0m \u001b[0mtime\u001b[0m\u001b[0;34m.\u001b[0m\u001b[0mtime\u001b[0m\u001b[0;34m(\u001b[0m\u001b[0;34m)\u001b[0m \u001b[0;34m-\u001b[0m \u001b[0mself\u001b[0m\u001b[0;34m.\u001b[0m\u001b[0m_start_time\u001b[0m\u001b[0;34m\u001b[0m\u001b[0;34m\u001b[0m\u001b[0m\n",
      "\u001b[0;32m/usr/local/lib/python3.7/dist-packages/joblib/parallel.py\u001b[0m in \u001b[0;36mretrieve\u001b[0;34m(self)\u001b[0m\n\u001b[1;32m    931\u001b[0m             \u001b[0;32mtry\u001b[0m\u001b[0;34m:\u001b[0m\u001b[0;34m\u001b[0m\u001b[0;34m\u001b[0m\u001b[0m\n\u001b[1;32m    932\u001b[0m                 \u001b[0;32mif\u001b[0m \u001b[0mgetattr\u001b[0m\u001b[0;34m(\u001b[0m\u001b[0mself\u001b[0m\u001b[0;34m.\u001b[0m\u001b[0m_backend\u001b[0m\u001b[0;34m,\u001b[0m \u001b[0;34m'supports_timeout'\u001b[0m\u001b[0;34m,\u001b[0m \u001b[0;32mFalse\u001b[0m\u001b[0;34m)\u001b[0m\u001b[0;34m:\u001b[0m\u001b[0;34m\u001b[0m\u001b[0;34m\u001b[0m\u001b[0m\n\u001b[0;32m--> 933\u001b[0;31m                     \u001b[0mself\u001b[0m\u001b[0;34m.\u001b[0m\u001b[0m_output\u001b[0m\u001b[0;34m.\u001b[0m\u001b[0mextend\u001b[0m\u001b[0;34m(\u001b[0m\u001b[0mjob\u001b[0m\u001b[0;34m.\u001b[0m\u001b[0mget\u001b[0m\u001b[0;34m(\u001b[0m\u001b[0mtimeout\u001b[0m\u001b[0;34m=\u001b[0m\u001b[0mself\u001b[0m\u001b[0;34m.\u001b[0m\u001b[0mtimeout\u001b[0m\u001b[0;34m)\u001b[0m\u001b[0;34m)\u001b[0m\u001b[0;34m\u001b[0m\u001b[0;34m\u001b[0m\u001b[0m\n\u001b[0m\u001b[1;32m    934\u001b[0m                 \u001b[0;32melse\u001b[0m\u001b[0;34m:\u001b[0m\u001b[0;34m\u001b[0m\u001b[0;34m\u001b[0m\u001b[0m\n\u001b[1;32m    935\u001b[0m                     \u001b[0mself\u001b[0m\u001b[0;34m.\u001b[0m\u001b[0m_output\u001b[0m\u001b[0;34m.\u001b[0m\u001b[0mextend\u001b[0m\u001b[0;34m(\u001b[0m\u001b[0mjob\u001b[0m\u001b[0;34m.\u001b[0m\u001b[0mget\u001b[0m\u001b[0;34m(\u001b[0m\u001b[0;34m)\u001b[0m\u001b[0;34m)\u001b[0m\u001b[0;34m\u001b[0m\u001b[0;34m\u001b[0m\u001b[0m\n",
      "\u001b[0;32m/usr/local/lib/python3.7/dist-packages/joblib/_parallel_backends.py\u001b[0m in \u001b[0;36mwrap_future_result\u001b[0;34m(future, timeout)\u001b[0m\n\u001b[1;32m    540\u001b[0m         AsyncResults.get from multiprocessing.\"\"\"\n\u001b[1;32m    541\u001b[0m         \u001b[0;32mtry\u001b[0m\u001b[0;34m:\u001b[0m\u001b[0;34m\u001b[0m\u001b[0;34m\u001b[0m\u001b[0m\n\u001b[0;32m--> 542\u001b[0;31m             \u001b[0;32mreturn\u001b[0m \u001b[0mfuture\u001b[0m\u001b[0;34m.\u001b[0m\u001b[0mresult\u001b[0m\u001b[0;34m(\u001b[0m\u001b[0mtimeout\u001b[0m\u001b[0;34m=\u001b[0m\u001b[0mtimeout\u001b[0m\u001b[0;34m)\u001b[0m\u001b[0;34m\u001b[0m\u001b[0;34m\u001b[0m\u001b[0m\n\u001b[0m\u001b[1;32m    543\u001b[0m         \u001b[0;32mexcept\u001b[0m \u001b[0mCfTimeoutError\u001b[0m \u001b[0;32mas\u001b[0m \u001b[0me\u001b[0m\u001b[0;34m:\u001b[0m\u001b[0;34m\u001b[0m\u001b[0;34m\u001b[0m\u001b[0m\n\u001b[1;32m    544\u001b[0m             \u001b[0;32mraise\u001b[0m \u001b[0mTimeoutError\u001b[0m \u001b[0;32mfrom\u001b[0m \u001b[0me\u001b[0m\u001b[0;34m\u001b[0m\u001b[0;34m\u001b[0m\u001b[0m\n",
      "\u001b[0;32m/usr/lib/python3.7/concurrent/futures/_base.py\u001b[0m in \u001b[0;36mresult\u001b[0;34m(self, timeout)\u001b[0m\n\u001b[1;32m    428\u001b[0m                 \u001b[0;32mreturn\u001b[0m \u001b[0mself\u001b[0m\u001b[0;34m.\u001b[0m\u001b[0m__get_result\u001b[0m\u001b[0;34m(\u001b[0m\u001b[0;34m)\u001b[0m\u001b[0;34m\u001b[0m\u001b[0;34m\u001b[0m\u001b[0m\n\u001b[1;32m    429\u001b[0m \u001b[0;34m\u001b[0m\u001b[0m\n\u001b[0;32m--> 430\u001b[0;31m             \u001b[0mself\u001b[0m\u001b[0;34m.\u001b[0m\u001b[0m_condition\u001b[0m\u001b[0;34m.\u001b[0m\u001b[0mwait\u001b[0m\u001b[0;34m(\u001b[0m\u001b[0mtimeout\u001b[0m\u001b[0;34m)\u001b[0m\u001b[0;34m\u001b[0m\u001b[0;34m\u001b[0m\u001b[0m\n\u001b[0m\u001b[1;32m    431\u001b[0m \u001b[0;34m\u001b[0m\u001b[0m\n\u001b[1;32m    432\u001b[0m             \u001b[0;32mif\u001b[0m \u001b[0mself\u001b[0m\u001b[0;34m.\u001b[0m\u001b[0m_state\u001b[0m \u001b[0;32min\u001b[0m \u001b[0;34m[\u001b[0m\u001b[0mCANCELLED\u001b[0m\u001b[0;34m,\u001b[0m \u001b[0mCANCELLED_AND_NOTIFIED\u001b[0m\u001b[0;34m]\u001b[0m\u001b[0;34m:\u001b[0m\u001b[0;34m\u001b[0m\u001b[0;34m\u001b[0m\u001b[0m\n",
      "\u001b[0;32m/usr/lib/python3.7/threading.py\u001b[0m in \u001b[0;36mwait\u001b[0;34m(self, timeout)\u001b[0m\n\u001b[1;32m    294\u001b[0m         \u001b[0;32mtry\u001b[0m\u001b[0;34m:\u001b[0m    \u001b[0;31m# restore state no matter what (e.g., KeyboardInterrupt)\u001b[0m\u001b[0;34m\u001b[0m\u001b[0;34m\u001b[0m\u001b[0m\n\u001b[1;32m    295\u001b[0m             \u001b[0;32mif\u001b[0m \u001b[0mtimeout\u001b[0m \u001b[0;32mis\u001b[0m \u001b[0;32mNone\u001b[0m\u001b[0;34m:\u001b[0m\u001b[0;34m\u001b[0m\u001b[0;34m\u001b[0m\u001b[0m\n\u001b[0;32m--> 296\u001b[0;31m                 \u001b[0mwaiter\u001b[0m\u001b[0;34m.\u001b[0m\u001b[0macquire\u001b[0m\u001b[0;34m(\u001b[0m\u001b[0;34m)\u001b[0m\u001b[0;34m\u001b[0m\u001b[0;34m\u001b[0m\u001b[0m\n\u001b[0m\u001b[1;32m    297\u001b[0m                 \u001b[0mgotit\u001b[0m \u001b[0;34m=\u001b[0m \u001b[0;32mTrue\u001b[0m\u001b[0;34m\u001b[0m\u001b[0;34m\u001b[0m\u001b[0m\n\u001b[1;32m    298\u001b[0m             \u001b[0;32melse\u001b[0m\u001b[0;34m:\u001b[0m\u001b[0;34m\u001b[0m\u001b[0;34m\u001b[0m\u001b[0m\n",
      "\u001b[0;31mKeyboardInterrupt\u001b[0m: "
     ]
    }
   ],
   "source": [
    "rfr = RandomForestRegressor(n_estimators=10, random_state=0)\n",
    "\n",
    "params = {'max_depth': [1,2,3,4,5,6,7,8,9,10,11,12,13,14],\n",
    "              'min_samples_leaf' : [5,10,20,40,80,100,120,140],\n",
    "              'min_samples_split':[2,4,8,12,16,20,24,28],\n",
    "             'n_estimators': [5, 6, 7, 8, 9, 10, 11, 12, 13, 15]}\n",
    "\n",
    "gridsearch = GridSearchCV(estimator=rfr, param_grid=params, cv=3, scoring='r2', n_jobs=-1)\n",
    "\n",
    "gridsearch.fit(X,y)\n",
    "\n",
    "gsearch.best_params_"
   ]
  },
  {
   "cell_type": "code",
   "execution_count": null,
   "metadata": {
    "id": "vLuhj09LDFP0"
   },
   "outputs": [],
   "source": [
    "g_best_params = "
   ]
  },
  {
   "cell_type": "code",
   "execution_count": null,
   "metadata": {
    "id": "2yNAOIJEDFBI"
   },
   "outputs": [],
   "source": [
    "rfr = RandomForestRegressor(**g_best_params, random_state=0)\n",
    "\n",
    "rfr.fit(X_train,y_train)"
   ]
  }
 ],
 "metadata": {
  "accelerator": "GPU",
  "colab": {
   "collapsed_sections": [],
   "name": "Model1-- Random Forest Regressor .ipynb",
   "provenance": []
  },
  "kernelspec": {
   "display_name": "Python 3",
   "language": "python",
   "name": "python3"
  },
  "language_info": {
   "codemirror_mode": {
    "name": "ipython",
    "version": 3
   },
   "file_extension": ".py",
   "mimetype": "text/x-python",
   "name": "python",
   "nbconvert_exporter": "python",
   "pygments_lexer": "ipython3",
   "version": "3.8.5"
  }
 },
 "nbformat": 4,
 "nbformat_minor": 1
}
