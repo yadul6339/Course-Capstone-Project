{
  "nbformat": 4,
  "nbformat_minor": 0,
  "metadata": {
    "colab": {
      "name": "X1_Modelling.ipynb",
      "provenance": [],
      "collapsed_sections": []
    },
    "kernelspec": {
      "name": "python3",
      "display_name": "Python 3"
    },
    "language_info": {
      "name": "python"
    }
  },
  "cells": [
    {
      "cell_type": "code",
      "metadata": {
        "colab": {
          "base_uri": "https://localhost:8080/"
        },
        "id": "1_xahUfALeWi",
        "outputId": "eca97a09-12bb-49e8-dbfe-5529a8fb227a"
      },
      "source": [
        "import pandas as pd\n",
        "import numpy as np\n",
        "import seaborn as sns\n",
        "import matplotlib.pyplot as plt\n",
        "import sklearn\n",
        "import statsmodels.api as sm"
      ],
      "execution_count": null,
      "outputs": [
        {
          "output_type": "stream",
          "text": [
            "/usr/local/lib/python3.7/dist-packages/statsmodels/tools/_testing.py:19: FutureWarning: pandas.util.testing is deprecated. Use the functions in the public API at pandas.testing instead.\n",
            "  import pandas.util.testing as tm\n"
          ],
          "name": "stderr"
        }
      ]
    },
    {
      "cell_type": "code",
      "metadata": {
        "id": "KnnhhWHzLvlP"
      },
      "source": [
        "df = pd.read_csv('/content/drive/MyDrive/Data/Train_NY_cleaned.csv')\n",
        "dft= pd.read_csv('/content/drive/MyDrive/Data/Test_NY_cleaned.csv')\n",
        "df.drop({'Unnamed: 0'}, axis=1, inplace=True)\n",
        "dft.drop({'Unnamed: 0'}, axis=1, inplace=True)"
      ],
      "execution_count": null,
      "outputs": []
    },
    {
      "cell_type": "code",
      "metadata": {
        "colab": {
          "base_uri": "https://localhost:8080/",
          "height": 127
        },
        "id": "EnFzCbqpLvoB",
        "outputId": "5de81fb0-0f19-4004-91a1-f8f9bc2d0ce8"
      },
      "source": [
        "df.head(1)"
      ],
      "execution_count": null,
      "outputs": [
        {
          "output_type": "execute_result",
          "data": {
            "text/html": [
              "<div>\n",
              "<style scoped>\n",
              "    .dataframe tbody tr th:only-of-type {\n",
              "        vertical-align: middle;\n",
              "    }\n",
              "\n",
              "    .dataframe tbody tr th {\n",
              "        vertical-align: top;\n",
              "    }\n",
              "\n",
              "    .dataframe thead th {\n",
              "        text-align: right;\n",
              "    }\n",
              "</style>\n",
              "<table border=\"1\" class=\"dataframe\">\n",
              "  <thead>\n",
              "    <tr style=\"text-align: right;\">\n",
              "      <th></th>\n",
              "      <th>BOROUGH</th>\n",
              "      <th>NEIGHBORHOOD</th>\n",
              "      <th>BUILDING CLASS CATEGORY</th>\n",
              "      <th>BLOCK</th>\n",
              "      <th>LOT</th>\n",
              "      <th>ZIP CODE</th>\n",
              "      <th>RESIDENTIAL UNITS</th>\n",
              "      <th>TOTAL UNITS</th>\n",
              "      <th>LAND SQUARE FEET</th>\n",
              "      <th>GROSS SQUARE FEET</th>\n",
              "      <th>YEAR BUILT</th>\n",
              "      <th>TAX CLASS AT TIME OF SALE</th>\n",
              "      <th>BUILDING CLASS AT TIME OF SALE</th>\n",
              "      <th>SALE PRICE</th>\n",
              "      <th>SALE DATE</th>\n",
              "    </tr>\n",
              "  </thead>\n",
              "  <tbody>\n",
              "    <tr>\n",
              "      <th>0</th>\n",
              "      <td>1</td>\n",
              "      <td>ALPHABET CITY</td>\n",
              "      <td>RENTALS - WALKUP APARTMENTS</td>\n",
              "      <td>392</td>\n",
              "      <td>6</td>\n",
              "      <td>10009</td>\n",
              "      <td>5</td>\n",
              "      <td>5</td>\n",
              "      <td>1633.0</td>\n",
              "      <td>6440.0</td>\n",
              "      <td>1900</td>\n",
              "      <td>2</td>\n",
              "      <td>C2</td>\n",
              "      <td>6625000.0</td>\n",
              "      <td>2017-07-19</td>\n",
              "    </tr>\n",
              "  </tbody>\n",
              "</table>\n",
              "</div>"
            ],
            "text/plain": [
              "   BOROUGH   NEIGHBORHOOD  ... SALE PRICE   SALE DATE\n",
              "0        1  ALPHABET CITY  ...  6625000.0  2017-07-19\n",
              "\n",
              "[1 rows x 15 columns]"
            ]
          },
          "metadata": {
            "tags": []
          },
          "execution_count": 14
        }
      ]
    },
    {
      "cell_type": "code",
      "metadata": {
        "colab": {
          "base_uri": "https://localhost:8080/"
        },
        "id": "MbACXawQMC_q",
        "outputId": "ec91c896-a64c-495d-afff-9829c9d9bf42"
      },
      "source": [
        "df.loc[df['NEIGHBORHOOD'] == 'ALPHABET CITY']['ZIP CODE'].unique()"
      ],
      "execution_count": null,
      "outputs": [
        {
          "output_type": "execute_result",
          "data": {
            "text/plain": [
              "array([10009, 10002])"
            ]
          },
          "metadata": {
            "tags": []
          },
          "execution_count": 16
        }
      ]
    },
    {
      "cell_type": "code",
      "metadata": {
        "id": "UMIepbT6PBk-"
      },
      "source": [
        "alph = pd.Series(df.loc[df['NEIGHBORHOOD']== 'TRAVIS']['SALE PRICE'])\n",
        "alph"
      ],
      "execution_count": null,
      "outputs": []
    },
    {
      "cell_type": "code",
      "metadata": {
        "id": "lTErBc8dPf2X"
      },
      "source": [
        "chel = pd.Series(df.loc[df['NEIGHBORHOOD']== 'WEST NEW BRIGHTON']['SALE PRICE'])\n",
        "chel"
      ],
      "execution_count": null,
      "outputs": []
    },
    {
      "cell_type": "code",
      "metadata": {
        "id": "jD-rgbsJWiSN"
      },
      "source": [
        "chel2= chel.sample(71)\n",
        "import scipy.stats as stats"
      ],
      "execution_count": null,
      "outputs": []
    },
    {
      "cell_type": "code",
      "metadata": {
        "colab": {
          "base_uri": "https://localhost:8080/"
        },
        "id": "rsvCJ-AoWp40",
        "outputId": "350a0a54-b7b4-4771-85be-94b8ccdeb853"
      },
      "source": [
        "stats.ttest_ind(alph, chel)"
      ],
      "execution_count": null,
      "outputs": [
        {
          "output_type": "execute_result",
          "data": {
            "text/plain": [
              "Ttest_indResult(statistic=3.3722846815724576, pvalue=0.0008422520672824367)"
            ]
          },
          "metadata": {
            "tags": []
          },
          "execution_count": 23
        }
      ]
    },
    {
      "cell_type": "code",
      "metadata": {
        "id": "Ixb_dvLUWyq6"
      },
      "source": [
        "df['SALE DATE'] = pd.to_datetime(df['SALE DATE'])"
      ],
      "execution_count": null,
      "outputs": []
    },
    {
      "cell_type": "markdown",
      "metadata": {
        "id": "7vQBohtzeMRM"
      },
      "source": [
        "# Linear Regression"
      ]
    },
    {
      "cell_type": "markdown",
      "metadata": {
        "id": "p2hzumt6e-9y"
      },
      "source": [
        "### With dummies"
      ]
    },
    {
      "cell_type": "code",
      "metadata": {
        "colab": {
          "base_uri": "https://localhost:8080/"
        },
        "id": "gOF1E1g8fF4z",
        "outputId": "d63d8b17-8feb-4fa1-cf55-87eee2dc7a5f"
      },
      "source": [
        "df.columns "
      ],
      "execution_count": null,
      "outputs": [
        {
          "output_type": "execute_result",
          "data": {
            "text/plain": [
              "Index(['BOROUGH', 'NEIGHBORHOOD', 'BUILDING CLASS CATEGORY', 'BLOCK', 'LOT',\n",
              "       'ZIP CODE', 'RESIDENTIAL UNITS', 'TOTAL UNITS', 'LAND SQUARE FEET',\n",
              "       'GROSS SQUARE FEET', 'YEAR BUILT', 'TAX CLASS AT TIME OF SALE',\n",
              "       'BUILDING CLASS AT TIME OF SALE', 'SALE PRICE', 'SALE DATE'],\n",
              "      dtype='object')"
            ]
          },
          "metadata": {
            "tags": []
          },
          "execution_count": 40
        }
      ]
    },
    {
      "cell_type": "code",
      "metadata": {
        "id": "pi4wogSNa922"
      },
      "source": [
        "dum = df[['BOROUGH','NEIGHBORHOOD', 'BLOCK', 'LOT',\n",
        "       'ZIP CODE', 'RESIDENTIAL UNITS', 'TOTAL UNITS', 'LAND SQUARE FEET',\n",
        "       'GROSS SQUARE FEET', 'YEAR BUILT', 'TAX CLASS AT TIME OF SALE', 'SALE PRICE']]"
      ],
      "execution_count": null,
      "outputs": []
    },
    {
      "cell_type": "code",
      "metadata": {
        "colab": {
          "base_uri": "https://localhost:8080/"
        },
        "id": "LtQUQGOpbNse",
        "outputId": "c6ff59c0-7cec-4c52-bb83-927a957253de"
      },
      "source": [
        "dum = pd.get_dummies(dum, columns=['NEIGHBORHOOD'], drop_first=True)\n",
        "y= dum['SALE PRICE']\n",
        "dum.drop({'SALE PRICE'}, axis=1, inplace=True)\n",
        "\n",
        "from sklearn.linear_model import  LinearRegression\n",
        "lr= LinearRegression()\n",
        "\n",
        "from sklearn.model_selection import train_test_split\n",
        "xtrain, xtest, ytrain, ytest = train_test_split(dum, y)\n",
        "\n",
        "print(xtrain.shape)\n",
        "print(ytrain.shape)\n",
        "print(xtest.shape)"
      ],
      "execution_count": null,
      "outputs": [
        {
          "output_type": "stream",
          "text": [
            "(44819, 263)\n",
            "(44819,)\n",
            "(14940, 263)\n"
          ],
          "name": "stdout"
        }
      ]
    },
    {
      "cell_type": "code",
      "metadata": {
        "colab": {
          "base_uri": "https://localhost:8080/"
        },
        "id": "knYOyBDodbU-",
        "outputId": "9e6bd6de-d434-4507-e983-466b195f194c"
      },
      "source": [
        "lr.fit(xtrain, ytrain)\n",
        "print(lr.score(xtrain,ytrain))\n",
        "print(lr.score(xtest,ytest))"
      ],
      "execution_count": null,
      "outputs": [
        {
          "output_type": "stream",
          "text": [
            "0.33534935449854175\n",
            "0.34107878361528143\n"
          ],
          "name": "stdout"
        }
      ]
    },
    {
      "cell_type": "code",
      "metadata": {
        "id": "fMwWSPfzdc2m"
      },
      "source": [
        "# Standardization\n",
        "from sklearn.preprocessing import StandardScaler\n",
        "st = StandardScaler()\n",
        "\n",
        "stdf = st.fit_transform(dum)\n",
        "xtrain, xtest, ytrain, ytest = train_test_split(stdf, y)"
      ],
      "execution_count": null,
      "outputs": []
    },
    {
      "cell_type": "code",
      "metadata": {
        "colab": {
          "base_uri": "https://localhost:8080/"
        },
        "id": "xhubLcPRhGXc",
        "outputId": "c5f54511-6669-4d9c-b13b-c0f75c4d9ee8"
      },
      "source": [
        "lr= LinearRegression()\n",
        "lr.fit(xtrain, ytrain)\n",
        "print(lr.score(xtrain,ytrain))\n",
        "print(lr.score(xtest,ytest))"
      ],
      "execution_count": null,
      "outputs": [
        {
          "output_type": "stream",
          "text": [
            "0.4356358078099348\n",
            "0.19707016847204928\n"
          ],
          "name": "stdout"
        }
      ]
    },
    {
      "cell_type": "markdown",
      "metadata": {
        "id": "GnGI01BMk9v2"
      },
      "source": [
        "### With Target Encoding"
      ]
    },
    {
      "cell_type": "code",
      "metadata": {
        "id": "jIP_hWpcktYP"
      },
      "source": [
        "!pip install category_encoders\n",
        "from category_encoders import TargetEncoder\n",
        "encoder = TargetEncoder()"
      ],
      "execution_count": null,
      "outputs": []
    },
    {
      "cell_type": "code",
      "metadata": {
        "colab": {
          "base_uri": "https://localhost:8080/"
        },
        "id": "KKbvAJassrT9",
        "outputId": "78d08118-bb18-4f9f-c959-45bba02291bc"
      },
      "source": [
        "df1 = df.copy()\n",
        "df.columns"
      ],
      "execution_count": null,
      "outputs": [
        {
          "output_type": "execute_result",
          "data": {
            "text/plain": [
              "Index(['BOROUGH', 'NEIGHBORHOOD', 'BUILDING CLASS CATEGORY', 'BLOCK', 'LOT',\n",
              "       'ZIP CODE', 'RESIDENTIAL UNITS', 'TOTAL UNITS', 'LAND SQUARE FEET',\n",
              "       'GROSS SQUARE FEET', 'YEAR BUILT', 'TAX CLASS AT TIME OF SALE',\n",
              "       'BUILDING CLASS AT TIME OF SALE', 'SALE DATE'],\n",
              "      dtype='object')"
            ]
          },
          "metadata": {
            "tags": []
          },
          "execution_count": 72
        }
      ]
    },
    {
      "cell_type": "code",
      "metadata": {
        "id": "bz5Ilwits7h2"
      },
      "source": [
        "y= df['SALE PRICE']\n",
        "df.drop({'SALE PRICE'}, axis=1, inplace=True)"
      ],
      "execution_count": null,
      "outputs": []
    },
    {
      "cell_type": "code",
      "metadata": {
        "colab": {
          "base_uri": "https://localhost:8080/"
        },
        "id": "V894_wf4l55o",
        "outputId": "ce57828f-6d4d-4161-dc68-7a97315f4ad2"
      },
      "source": [
        "training_set = encoder.fit_transform(df, y)"
      ],
      "execution_count": null,
      "outputs": [
        {
          "output_type": "stream",
          "text": [
            "/usr/local/lib/python3.7/dist-packages/category_encoders/utils.py:21: FutureWarning: is_categorical is deprecated and will be removed in a future version.  Use is_categorical_dtype instead\n",
            "  elif pd.api.types.is_categorical(cols):\n"
          ],
          "name": "stderr"
        }
      ]
    },
    {
      "cell_type": "code",
      "metadata": {
        "id": "nhoaoXeQsy3M"
      },
      "source": [
        "training_set.drop({'SALE DATE'}, axis=1, inplace=True)"
      ],
      "execution_count": null,
      "outputs": []
    },
    {
      "cell_type": "code",
      "metadata": {
        "id": "XOvai9Wuts43"
      },
      "source": [
        "st = StandardScaler()\n",
        "\n",
        "stdf = st.fit_transform(training_set)\n",
        "xtrain, xtest, ytrain, ytest = train_test_split(stdf, y)"
      ],
      "execution_count": null,
      "outputs": []
    },
    {
      "cell_type": "code",
      "metadata": {
        "colab": {
          "base_uri": "https://localhost:8080/"
        },
        "id": "LA01pnCuuC8J",
        "outputId": "3ad8c54b-85b5-4da7-f38c-5e03c408e9ae"
      },
      "source": [
        "lr= LinearRegression()\n",
        "lr.fit(xtrain, ytrain)\n",
        "print(lr.score(xtrain,ytrain))\n",
        "print(lr.score(xtest,ytest))"
      ],
      "execution_count": null,
      "outputs": [
        {
          "output_type": "stream",
          "text": [
            "0.4994657300414437\n",
            "0.38288982820188644\n"
          ],
          "name": "stdout"
        }
      ]
    },
    {
      "cell_type": "markdown",
      "metadata": {
        "id": "bKeWHZNkusHT"
      },
      "source": [
        "### Label Encoding"
      ]
    },
    {
      "cell_type": "code",
      "metadata": {
        "id": "wjjbhjZiuFGG"
      },
      "source": [
        "from sklearn import preprocessing\n",
        "le = preprocessing.LabelEncoder()"
      ],
      "execution_count": null,
      "outputs": []
    },
    {
      "cell_type": "code",
      "metadata": {
        "id": "5thISESlu1_C"
      },
      "source": [
        "df['NEIGHBORHOOD'] = le.fit_transform(df['NEIGHBORHOOD'])"
      ],
      "execution_count": null,
      "outputs": []
    },
    {
      "cell_type": "code",
      "metadata": {
        "id": "HfGOWTfnvJuC"
      },
      "source": [
        "df['BUILDING CLASS CATEGORY'] = le.fit_transform(df['BUILDING CLASS CATEGORY']) # BUILDING CLASS AT TIME OF SALE\n",
        "df['BUILDING CLASS AT TIME OF SALE'] = le.fit_transform(df['BUILDING CLASS AT TIME OF SALE'])"
      ],
      "execution_count": null,
      "outputs": []
    },
    {
      "cell_type": "code",
      "metadata": {
        "id": "yejmlYLYvaMX"
      },
      "source": [
        "df.drop({'SALE DATE'}, axis=1, inplace=True)"
      ],
      "execution_count": null,
      "outputs": []
    },
    {
      "cell_type": "code",
      "metadata": {
        "id": "4H-l06Q0v5XP"
      },
      "source": [
        "st = StandardScaler()\n",
        "\n",
        "stdf = st.fit_transform(df)\n",
        "xtrain, xtest, ytrain, ytest = train_test_split(stdf, y)"
      ],
      "execution_count": null,
      "outputs": []
    },
    {
      "cell_type": "code",
      "metadata": {
        "colab": {
          "base_uri": "https://localhost:8080/"
        },
        "id": "UKBrj_oqyVMv",
        "outputId": "e83e5d6e-bffc-492f-9228-80b2023f6ae1"
      },
      "source": [
        "lr= LinearRegression()\n",
        "lr.fit(xtrain, ytrain) # Regularization and K Fold cross validation \n",
        "print(lr.score(xtrain,ytrain))\n",
        "print(lr.score(xtest,ytest))"
      ],
      "execution_count": null,
      "outputs": [
        {
          "output_type": "stream",
          "text": [
            "0.3994023929084529\n",
            "0.09464449448072931\n"
          ],
          "name": "stdout"
        }
      ]
    },
    {
      "cell_type": "markdown",
      "metadata": {
        "id": "O9SSjgxTzJRg"
      },
      "source": [
        "# Lasso"
      ]
    },
    {
      "cell_type": "code",
      "metadata": {
        "id": "etnFBwMKylX1"
      },
      "source": [
        "# With dummies\n",
        "dum = df1[['BOROUGH','NEIGHBORHOOD', 'BLOCK', 'LOT',\n",
        "       'ZIP CODE', 'RESIDENTIAL UNITS', 'TOTAL UNITS', 'LAND SQUARE FEET',\n",
        "       'GROSS SQUARE FEET', 'YEAR BUILT', 'TAX CLASS AT TIME OF SALE']]\n",
        "\n",
        "dum = pd.get_dummies(dum, columns=['NEIGHBORHOOD'], drop_first=True)\n",
        "\n",
        "st = StandardScaler()\n",
        "\n",
        "stdf = st.fit_transform(dum)\n",
        "xtrain, xtest, ytrain, ytest = train_test_split(stdf, y)"
      ],
      "execution_count": null,
      "outputs": []
    },
    {
      "cell_type": "code",
      "metadata": {
        "colab": {
          "base_uri": "https://localhost:8080/"
        },
        "id": "GYHf7NSN22k0",
        "outputId": "d51f4824-56f6-4d70-e9d5-49e8fc4e4842"
      },
      "source": [
        "from sklearn.linear_model import Lasso\n",
        "lr= Lasso()\n",
        "lr.fit(xtrain, ytrain)\n",
        "print(lr.score(xtrain,ytrain))\n",
        "print(lr.score(xtest,ytest))"
      ],
      "execution_count": null,
      "outputs": [
        {
          "output_type": "stream",
          "text": [
            "0.4435568318368758\n",
            "-0.08595748167985051\n"
          ],
          "name": "stdout"
        },
        {
          "output_type": "stream",
          "text": [
            "/usr/local/lib/python3.7/dist-packages/sklearn/linear_model/_coordinate_descent.py:476: ConvergenceWarning: Objective did not converge. You might want to increase the number of iterations. Duality gap: 2.401520354769963e+18, tolerance: 864329286338053.9\n",
            "  positive)\n"
          ],
          "name": "stderr"
        }
      ]
    },
    {
      "cell_type": "code",
      "metadata": {
        "id": "jvfP3Azu3cfp"
      },
      "source": [
        "# Target Encoding:\n",
        "\n",
        "stdf = st.fit_transform(training_set)\n",
        "xtrain, xtest, ytrain, ytest = train_test_split(stdf, y)"
      ],
      "execution_count": null,
      "outputs": []
    },
    {
      "cell_type": "code",
      "metadata": {
        "colab": {
          "base_uri": "https://localhost:8080/"
        },
        "id": "_s7oSIjN8xmu",
        "outputId": "3d66fe24-5bed-4896-94bd-04c6fa97f4e4"
      },
      "source": [
        "lr= Lasso()\n",
        "lr.fit(xtrain, ytrain)\n",
        "print(lr.score(xtrain,ytrain))\n",
        "print(lr.score(xtest,ytest))"
      ],
      "execution_count": null,
      "outputs": [
        {
          "output_type": "stream",
          "text": [
            "0.39647681648174526\n",
            "0.3944479790625926\n"
          ],
          "name": "stdout"
        }
      ]
    },
    {
      "cell_type": "code",
      "metadata": {
        "id": "7mFU7zft9elF"
      },
      "source": [
        "# Label Encoding"
      ],
      "execution_count": null,
      "outputs": []
    },
    {
      "cell_type": "code",
      "metadata": {
        "id": "HRsKut9d8zFo"
      },
      "source": [
        "stdf = st.fit_transform(df)\n",
        "xtrain, xtest, ytrain, ytest = train_test_split(stdf, y)"
      ],
      "execution_count": null,
      "outputs": []
    },
    {
      "cell_type": "code",
      "metadata": {
        "colab": {
          "base_uri": "https://localhost:8080/"
        },
        "id": "_erHE0CO9asu",
        "outputId": "ee7bbeaf-7a5c-4841-8c4d-f6887e514e3d"
      },
      "source": [
        "lr= Lasso()\n",
        "lr.fit(xtrain, ytrain)\n",
        "print(lr.score(xtrain,ytrain))\n",
        "print(lr.score(xtest,ytest))"
      ],
      "execution_count": null,
      "outputs": [
        {
          "output_type": "stream",
          "text": [
            "0.37931964596282963\n",
            "0.1895609852489619\n"
          ],
          "name": "stdout"
        }
      ]
    },
    {
      "cell_type": "markdown",
      "metadata": {
        "id": "X8RusPR29uNY"
      },
      "source": [
        "# Ridge"
      ]
    },
    {
      "cell_type": "code",
      "metadata": {
        "id": "WXV4GNqr9haq"
      },
      "source": [
        "# Ridge Regression\n",
        "\n",
        "from sklearn.linear_model import RidgeCV\n",
        "lr = RidgeCV(cv=5)"
      ],
      "execution_count": null,
      "outputs": []
    },
    {
      "cell_type": "code",
      "metadata": {
        "id": "N0pI8TnE-EAH"
      },
      "source": [
        "#  With dummies\n",
        "\n",
        "\n",
        "dum = df1[['BOROUGH','NEIGHBORHOOD', 'BLOCK', 'LOT',\n",
        "       'ZIP CODE', 'RESIDENTIAL UNITS', 'TOTAL UNITS', 'LAND SQUARE FEET',\n",
        "       'GROSS SQUARE FEET', 'YEAR BUILT', 'TAX CLASS AT TIME OF SALE']]\n",
        "\n",
        "dum = pd.get_dummies(dum, columns=['NEIGHBORHOOD'], drop_first=True)\n",
        "\n",
        "st = StandardScaler()\n",
        "\n",
        "stdf = st.fit_transform(dum)\n",
        "xtrain, xtest, ytrain, ytest = train_test_split(stdf, y)"
      ],
      "execution_count": null,
      "outputs": []
    },
    {
      "cell_type": "code",
      "metadata": {
        "colab": {
          "base_uri": "https://localhost:8080/"
        },
        "id": "NjSjKD9a-NHI",
        "outputId": "775345b5-dcbe-4613-b2a5-db1ae440de32"
      },
      "source": [
        "lr.fit(xtrain, ytrain)\n",
        "print(lr.score(xtrain,ytrain))\n",
        "print(lr.score(xtest,ytest))"
      ],
      "execution_count": null,
      "outputs": [
        {
          "output_type": "stream",
          "text": [
            "0.33793112826725735\n",
            "0.37490525234181415\n"
          ],
          "name": "stdout"
        }
      ]
    },
    {
      "cell_type": "code",
      "metadata": {
        "colab": {
          "base_uri": "https://localhost:8080/"
        },
        "id": "Wh2-ogZc-sal",
        "outputId": "db17e529-a2cd-4763-e463-4973c4eff5e8"
      },
      "source": [
        "# With Target Encoding\n",
        "\n",
        "stdf = st.fit_transform(training_set)\n",
        "xtrain, xtest, ytrain, ytest = train_test_split(stdf, y)\n",
        "\n",
        "lr = RidgeCV(cv=5)\n",
        "lr.fit(xtrain, ytrain)\n",
        "print(lr.score(xtrain,ytrain))\n",
        "print(lr.score(xtest,ytest))"
      ],
      "execution_count": null,
      "outputs": [
        {
          "output_type": "stream",
          "text": [
            "0.457908217466941\n",
            "0.5048322576926769\n"
          ],
          "name": "stdout"
        }
      ]
    },
    {
      "cell_type": "code",
      "metadata": {
        "colab": {
          "base_uri": "https://localhost:8080/"
        },
        "id": "YCx5VDGt-8Ak",
        "outputId": "70b2c19c-e3dd-41da-a526-1a0a69511bb4"
      },
      "source": [
        "# With Label Encoding:\n",
        "\n",
        "stdf = st.fit_transform(df)\n",
        "xtrain, xtest, ytrain, ytest = train_test_split(stdf, y)\n",
        "\n",
        "lr = RidgeCV(cv=5)\n",
        "lr.fit(xtrain, ytrain)\n",
        "print(lr.score(xtrain,ytrain))\n",
        "print(lr.score(xtest,ytest))"
      ],
      "execution_count": null,
      "outputs": [
        {
          "output_type": "stream",
          "text": [
            "0.39679104272105403\n",
            "-0.14349709662260812\n"
          ],
          "name": "stdout"
        }
      ]
    },
    {
      "cell_type": "code",
      "metadata": {
        "id": "MTD5NE7L_DGY",
        "colab": {
          "base_uri": "https://localhost:8080/",
          "height": 132
        },
        "outputId": "5e2af86e-eb0b-4fb0-f31d-859295a4000f"
      },
      "source": [
        "# Unsupervised \n",
        "||\n",
        "# Supervised"
      ],
      "execution_count": null,
      "outputs": [
        {
          "output_type": "error",
          "ename": "SyntaxError",
          "evalue": "ignored",
          "traceback": [
            "\u001b[0;36m  File \u001b[0;32m\"<ipython-input-1-e59200531684>\"\u001b[0;36m, line \u001b[0;32m2\u001b[0m\n\u001b[0;31m    ||\u001b[0m\n\u001b[0m    ^\u001b[0m\n\u001b[0;31mSyntaxError\u001b[0m\u001b[0;31m:\u001b[0m invalid syntax\n"
          ]
        }
      ]
    },
    {
      "cell_type": "code",
      "metadata": {
        "id": "c-QhQ2Fu7eXQ"
      },
      "source": [
        ""
      ],
      "execution_count": null,
      "outputs": []
    }
  ]
}